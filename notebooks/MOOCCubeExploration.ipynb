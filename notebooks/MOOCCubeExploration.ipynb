{
 "cells": [
  {
   "cell_type": "code",
   "execution_count": 3,
   "metadata": {},
   "outputs": [
    {
     "name": "stderr",
     "output_type": "stream",
     "text": [
      "c:\\Users\\s.pardob\\OneDrive - Universidad de los Andes\\Escritorio\\8-semestre\\Tesis\\venv\\lib\\site-packages\\tqdm\\auto.py:21: TqdmWarning: IProgress not found. Please update jupyter and ipywidgets. See https://ipywidgets.readthedocs.io/en/stable/user_install.html\n",
      "  from .autonotebook import tqdm as notebook_tqdm\n"
     ]
    }
   ],
   "source": [
    "import pandas as pd\n",
    "import re\n",
    "from bs4 import BeautifulSoup\n",
    "from sentence_transformers import SentenceTransformer"
   ]
  },
  {
   "cell_type": "markdown",
   "metadata": {},
   "source": [
    "Redes neuronales basdas en grafos"
   ]
  },
  {
   "cell_type": "markdown",
   "metadata": {},
   "source": [
    "# Entities Exploration"
   ]
  },
  {
   "cell_type": "markdown",
   "metadata": {},
   "source": [
    "## Concept"
   ]
  },
  {
   "cell_type": "code",
   "execution_count": 14,
   "metadata": {},
   "outputs": [],
   "source": [
    "concept_df = pd.read_json(\"../data/MOOCCube/entities/concept.json\",lines=True)"
   ]
  },
  {
   "cell_type": "code",
   "execution_count": 15,
   "metadata": {},
   "outputs": [
    {
     "data": {
      "text/plain": [
       "(114563, 4)"
      ]
     },
     "execution_count": 15,
     "metadata": {},
     "output_type": "execute_result"
    }
   ],
   "source": [
    "concept_df.shape"
   ]
  },
  {
   "cell_type": "code",
   "execution_count": 16,
   "metadata": {},
   "outputs": [
    {
     "data": {
      "text/html": [
       "<div>\n",
       "<style scoped>\n",
       "    .dataframe tbody tr th:only-of-type {\n",
       "        vertical-align: middle;\n",
       "    }\n",
       "\n",
       "    .dataframe tbody tr th {\n",
       "        vertical-align: top;\n",
       "    }\n",
       "\n",
       "    .dataframe thead th {\n",
       "        text-align: right;\n",
       "    }\n",
       "</style>\n",
       "<table border=\"1\" class=\"dataframe\">\n",
       "  <thead>\n",
       "    <tr style=\"text-align: right;\">\n",
       "      <th></th>\n",
       "      <th>id</th>\n",
       "      <th>name</th>\n",
       "      <th>en</th>\n",
       "      <th>explanation</th>\n",
       "    </tr>\n",
       "  </thead>\n",
       "  <tbody>\n",
       "    <tr>\n",
       "      <th>38288</th>\n",
       "      <td>K_奥地利学派_心理学</td>\n",
       "      <td>奥地利学派</td>\n",
       "      <td>Austrian school</td>\n",
       "      <td>学科：心理学_理论心理学与心理学史 定义：主张心理学研究对象是意动而不是内容，方法是观察而不...</td>\n",
       "    </tr>\n",
       "    <tr>\n",
       "      <th>89327</th>\n",
       "      <td>K_非产权战略联盟_管理科学技术</td>\n",
       "      <td>非产权战略联盟</td>\n",
       "      <td>nonequity strategic alliance</td>\n",
       "      <td>学科：管理科学技术_一般管理理论_战略管理 定义：两个或者两个以上的企业通过发展企业间契约关...</td>\n",
       "    </tr>\n",
       "    <tr>\n",
       "      <th>69660</th>\n",
       "      <td>K_回潮_材料科学技术</td>\n",
       "      <td>回潮</td>\n",
       "      <td>conditioning</td>\n",
       "      <td>学科：材料科学技术_天然材料 _皮革 定义：使干燥后的皮革重新吸收一定量的水分，从而使皮革中...</td>\n",
       "    </tr>\n",
       "    <tr>\n",
       "      <th>55648</th>\n",
       "      <td>K_风压试验_机械工程</td>\n",
       "      <td>风压试验</td>\n",
       "      <td>pressure decay test</td>\n",
       "      <td>学科：机械工程_动力机械_锅炉_试验和测试_试验 定义：按规定的压力和保持时间对炉膛或烟道用...</td>\n",
       "    </tr>\n",
       "    <tr>\n",
       "      <th>58883</th>\n",
       "      <td>K_酸性渣_机械工程</td>\n",
       "      <td>酸性渣</td>\n",
       "      <td>acid slag</td>\n",
       "      <td>学科：机械工程_机械制造工艺与设备 _焊接与切割 _焊接材料 定义：化学性质呈酸性的熔渣。 ...</td>\n",
       "    </tr>\n",
       "  </tbody>\n",
       "</table>\n",
       "</div>"
      ],
      "text/plain": [
       "                     id     name                            en  \\\n",
       "38288       K_奥地利学派_心理学    奥地利学派               Austrian school   \n",
       "89327  K_非产权战略联盟_管理科学技术  非产权战略联盟  nonequity strategic alliance   \n",
       "69660       K_回潮_材料科学技术       回潮                  conditioning   \n",
       "55648       K_风压试验_机械工程     风压试验           pressure decay test   \n",
       "58883        K_酸性渣_机械工程      酸性渣                     acid slag   \n",
       "\n",
       "                                             explanation  \n",
       "38288  学科：心理学_理论心理学与心理学史 定义：主张心理学研究对象是意动而不是内容，方法是观察而不...  \n",
       "89327  学科：管理科学技术_一般管理理论_战略管理 定义：两个或者两个以上的企业通过发展企业间契约关...  \n",
       "69660  学科：材料科学技术_天然材料 _皮革 定义：使干燥后的皮革重新吸收一定量的水分，从而使皮革中...  \n",
       "55648  学科：机械工程_动力机械_锅炉_试验和测试_试验 定义：按规定的压力和保持时间对炉膛或烟道用...  \n",
       "58883  学科：机械工程_机械制造工艺与设备 _焊接与切割 _焊接材料 定义：化学性质呈酸性的熔渣。 ...  "
      ]
     },
     "execution_count": 16,
     "metadata": {},
     "output_type": "execute_result"
    }
   ],
   "source": [
    "concept_df.sample(5)"
   ]
  },
  {
   "cell_type": "markdown",
   "metadata": {},
   "source": [
    "## Course"
   ]
  },
  {
   "cell_type": "code",
   "execution_count": 17,
   "metadata": {},
   "outputs": [],
   "source": [
    "course_df = pd.read_json(\"../data/MOOCCube/entities/course.json\",lines=True)"
   ]
  },
  {
   "cell_type": "code",
   "execution_count": 18,
   "metadata": {},
   "outputs": [
    {
     "data": {
      "text/plain": [
       "(706, 8)"
      ]
     },
     "execution_count": 18,
     "metadata": {},
     "output_type": "execute_result"
    }
   ],
   "source": [
    "course_df.shape"
   ]
  },
  {
   "cell_type": "code",
   "execution_count": 19,
   "metadata": {},
   "outputs": [
    {
     "data": {
      "text/html": [
       "<div>\n",
       "<style scoped>\n",
       "    .dataframe tbody tr th:only-of-type {\n",
       "        vertical-align: middle;\n",
       "    }\n",
       "\n",
       "    .dataframe tbody tr th {\n",
       "        vertical-align: top;\n",
       "    }\n",
       "\n",
       "    .dataframe thead th {\n",
       "        text-align: right;\n",
       "    }\n",
       "</style>\n",
       "<table border=\"1\" class=\"dataframe\">\n",
       "  <thead>\n",
       "    <tr style=\"text-align: right;\">\n",
       "      <th></th>\n",
       "      <th>id</th>\n",
       "      <th>name</th>\n",
       "      <th>prerequisites</th>\n",
       "      <th>about</th>\n",
       "      <th>core_id</th>\n",
       "      <th>video_order</th>\n",
       "      <th>display_name</th>\n",
       "      <th>chapter</th>\n",
       "    </tr>\n",
       "  </thead>\n",
       "  <tbody>\n",
       "    <tr>\n",
       "      <th>84</th>\n",
       "      <td>C_course-v1:RiceX+BIOC372_1x+sp</td>\n",
       "      <td>免疫学基础——第Ⅰ部分（自主模式）</td>\n",
       "      <td>入门级生物学知识或相当水平。</td>\n",
       "      <td>&lt;p&gt;\\r\\n\\t当你生病的时候，你可能会感到奇怪，“为什么是我呢？”，但是真正的问题应该是...</td>\n",
       "      <td>C_course-v1:RiceX+BIOC372_1x+sp</td>\n",
       "      <td>[V_77df216e333344459902972c65d6a59a, V_8d863bd...</td>\n",
       "      <td>[I.     Welcome!,  II. Staying Healthy,  III. ...</td>\n",
       "      <td>[01.02.01.01, 01.02.02.02, 01.02.03.02, 01.02....</td>\n",
       "    </tr>\n",
       "    <tr>\n",
       "      <th>469</th>\n",
       "      <td>C_course-v1:TsinghuaX+00510888X+2019_T1</td>\n",
       "      <td>创业启程（2019春）</td>\n",
       "      <td>本课程为基础课，无先修要求</td>\n",
       "      <td>&lt;p&gt;\\n\\t采用“理论+案例”相结合的形式，由企业家亲自讲授创业方法或案例，教授点评。在学...</td>\n",
       "      <td>C_course-v1:TsinghuaX+00510888X+2019_T1</td>\n",
       "      <td>[V_08aeb5d07f594263ad7c2418a15363e2, V_0262a6b...</td>\n",
       "      <td>[Video, 默认, 默认, 默认, 默认, 创业机会的分类, 何谓好的商业机会, 个人创...</td>\n",
       "      <td>[01.01.01.01, 01.02.01.01, 01.03.01.01, 01.04....</td>\n",
       "    </tr>\n",
       "    <tr>\n",
       "      <th>1</th>\n",
       "      <td>C_course-v1:TsinghuaX+THESIS2015X+2015_T1</td>\n",
       "      <td>2015年清华大学研究生学位论文答辩（二）</td>\n",
       "      <td>无先修要求</td>\n",
       "      <td>&lt;p&gt;学位论文答辩环节是研究生培养的重要环节，为了充分发挥该环节的育人作用，搭建学术交流的平...</td>\n",
       "      <td>C_course-v1:TsinghuaX+THESIS2015X+2015_T1</td>\n",
       "      <td>[V_de0371575a9f4b5391c89ad16d68b5c2, V_d632034...</td>\n",
       "      <td>[答辩陈述, 答辩陈述, 问答及答辩结果, 答辩陈述, 问答及答辩结果, 答辩陈述, 问答及...</td>\n",
       "      <td>[01.01.03.01, 01.02.03.01, 01.02.04.01, 01.03....</td>\n",
       "    </tr>\n",
       "    <tr>\n",
       "      <th>106</th>\n",
       "      <td>C_course-v1:TsinghuaX+01030132X+sp</td>\n",
       "      <td>大学历史与文化（自主模式）</td>\n",
       "      <td>没有知识的要求，只要兴趣的驱动</td>\n",
       "      <td>&lt;p&gt;\\r\\n\\t人类没有大学，世界将会怎样？\\r\\n&lt;/p&gt;\\r\\n&lt;p&gt;\\r\\n\\t怎样...</td>\n",
       "      <td>C_course-v1:TsinghuaX+01030132X+sp</td>\n",
       "      <td>[V_691d1f66a4a74b368ee5d48a7517e152, V_50774e4...</td>\n",
       "      <td>[中学生怎么看大学, 园子里的人怎么看大学, 导读：教育的目的--认识名著, 导读：教育的目...</td>\n",
       "      <td>[01.01.01.01, 01.02.01.01, 01.03.01.01, 01.04....</td>\n",
       "    </tr>\n",
       "    <tr>\n",
       "      <th>413</th>\n",
       "      <td>C_course-v1:UIR+2018040201X+2019_T1</td>\n",
       "      <td>大学生国家安全教育（2019春）</td>\n",
       "      <td>无</td>\n",
       "      <td>&lt;p&gt;\\r\\n\\t《大学生国家安全教育》课程具有以下特色：一是课程内容丰富。课程以习近平总体...</td>\n",
       "      <td>C_course-v1:UIR+2018040201X+2019_T1</td>\n",
       "      <td>[V_cfc5a04fe5b348eaa11c90def13e40ca, V_93aaa75...</td>\n",
       "      <td>[Video, Video, Video, Video, Video, Video, Vid...</td>\n",
       "      <td>[01.01.01.01, 01.01.02.01, 01.01.03.01, 02.01....</td>\n",
       "    </tr>\n",
       "  </tbody>\n",
       "</table>\n",
       "</div>"
      ],
      "text/plain": [
       "                                            id                   name  \\\n",
       "84             C_course-v1:RiceX+BIOC372_1x+sp      免疫学基础——第Ⅰ部分（自主模式）   \n",
       "469    C_course-v1:TsinghuaX+00510888X+2019_T1            创业启程（2019春）   \n",
       "1    C_course-v1:TsinghuaX+THESIS2015X+2015_T1  2015年清华大学研究生学位论文答辩（二）   \n",
       "106         C_course-v1:TsinghuaX+01030132X+sp          大学历史与文化（自主模式）   \n",
       "413        C_course-v1:UIR+2018040201X+2019_T1       大学生国家安全教育（2019春）   \n",
       "\n",
       "       prerequisites                                              about  \\\n",
       "84    入门级生物学知识或相当水平。  <p>\\r\\n\\t当你生病的时候，你可能会感到奇怪，“为什么是我呢？”，但是真正的问题应该是...   \n",
       "469    本课程为基础课，无先修要求  <p>\\n\\t采用“理论+案例”相结合的形式，由企业家亲自讲授创业方法或案例，教授点评。在学...   \n",
       "1              无先修要求  <p>学位论文答辩环节是研究生培养的重要环节，为了充分发挥该环节的育人作用，搭建学术交流的平...   \n",
       "106  没有知识的要求，只要兴趣的驱动  <p>\\r\\n\\t人类没有大学，世界将会怎样？\\r\\n</p>\\r\\n<p>\\r\\n\\t怎样...   \n",
       "413                无  <p>\\r\\n\\t《大学生国家安全教育》课程具有以下特色：一是课程内容丰富。课程以习近平总体...   \n",
       "\n",
       "                                       core_id  \\\n",
       "84             C_course-v1:RiceX+BIOC372_1x+sp   \n",
       "469    C_course-v1:TsinghuaX+00510888X+2019_T1   \n",
       "1    C_course-v1:TsinghuaX+THESIS2015X+2015_T1   \n",
       "106         C_course-v1:TsinghuaX+01030132X+sp   \n",
       "413        C_course-v1:UIR+2018040201X+2019_T1   \n",
       "\n",
       "                                           video_order  \\\n",
       "84   [V_77df216e333344459902972c65d6a59a, V_8d863bd...   \n",
       "469  [V_08aeb5d07f594263ad7c2418a15363e2, V_0262a6b...   \n",
       "1    [V_de0371575a9f4b5391c89ad16d68b5c2, V_d632034...   \n",
       "106  [V_691d1f66a4a74b368ee5d48a7517e152, V_50774e4...   \n",
       "413  [V_cfc5a04fe5b348eaa11c90def13e40ca, V_93aaa75...   \n",
       "\n",
       "                                          display_name  \\\n",
       "84   [I.     Welcome!,  II. Staying Healthy,  III. ...   \n",
       "469  [Video, 默认, 默认, 默认, 默认, 创业机会的分类, 何谓好的商业机会, 个人创...   \n",
       "1    [答辩陈述, 答辩陈述, 问答及答辩结果, 答辩陈述, 问答及答辩结果, 答辩陈述, 问答及...   \n",
       "106  [中学生怎么看大学, 园子里的人怎么看大学, 导读：教育的目的--认识名著, 导读：教育的目...   \n",
       "413  [Video, Video, Video, Video, Video, Video, Vid...   \n",
       "\n",
       "                                               chapter  \n",
       "84   [01.02.01.01, 01.02.02.02, 01.02.03.02, 01.02....  \n",
       "469  [01.01.01.01, 01.02.01.01, 01.03.01.01, 01.04....  \n",
       "1    [01.01.03.01, 01.02.03.01, 01.02.04.01, 01.03....  \n",
       "106  [01.01.01.01, 01.02.01.01, 01.03.01.01, 01.04....  \n",
       "413  [01.01.01.01, 01.01.02.01, 01.01.03.01, 02.01....  "
      ]
     },
     "execution_count": 19,
     "metadata": {},
     "output_type": "execute_result"
    }
   ],
   "source": [
    "course_df.sample(5)"
   ]
  },
  {
   "cell_type": "code",
   "execution_count": 20,
   "metadata": {},
   "outputs": [
    {
     "data": {
      "text/html": [
       "<div>\n",
       "<style scoped>\n",
       "    .dataframe tbody tr th:only-of-type {\n",
       "        vertical-align: middle;\n",
       "    }\n",
       "\n",
       "    .dataframe tbody tr th {\n",
       "        vertical-align: top;\n",
       "    }\n",
       "\n",
       "    .dataframe thead th {\n",
       "        text-align: right;\n",
       "    }\n",
       "</style>\n",
       "<table border=\"1\" class=\"dataframe\">\n",
       "  <thead>\n",
       "    <tr style=\"text-align: right;\">\n",
       "      <th></th>\n",
       "      <th>id</th>\n",
       "      <th>name</th>\n",
       "      <th>prerequisites</th>\n",
       "      <th>about</th>\n",
       "      <th>core_id</th>\n",
       "      <th>video_order</th>\n",
       "      <th>display_name</th>\n",
       "      <th>chapter</th>\n",
       "    </tr>\n",
       "  </thead>\n",
       "  <tbody>\n",
       "    <tr>\n",
       "      <th>480</th>\n",
       "      <td>C_course-v1:TsinghuaX+00690092X+2019_T1</td>\n",
       "      <td>逻辑学概论（2019春）</td>\n",
       "      <td>本课程无先修要求。如果有良好的数学训练基础，将有助于更好地深入领会逻辑学的方法精神，但这并非必须。</td>\n",
       "      <td>“逻辑”一词很常用，但作为一门学科和课程，“逻辑学”涉及的内容范围，比“逻辑”一词日常的用法...</td>\n",
       "      <td>C_course-v1:TsinghuaX+00690092X+sp</td>\n",
       "      <td>[V_e36603ea30c540ac9aa17893591d75c6, V_47781e1...</td>\n",
       "      <td>[默认, movie_01_02.mp4, movie_01_03.mp4, movie_0...</td>\n",
       "      <td>[01.01.01.01, 01.02.01.01, 01.03.01.01, 01.04....</td>\n",
       "    </tr>\n",
       "    <tr>\n",
       "      <th>430</th>\n",
       "      <td>C_course-v1:HIT+13SC20301820+2019_T1</td>\n",
       "      <td>会计信息系统（2019春）</td>\n",
       "      <td>大学计算机基础、数据库系统、中级财务会计</td>\n",
       "      <td>“会计信息系统”是会计学专业必修的核心课程。课程使学生掌握会计信息系统的基本理论：会计软件的...</td>\n",
       "      <td>C_course-v1:HIT+13SC20301820+2019_T1</td>\n",
       "      <td>[V_392a3e6051b04a3f9a65a02a847f773e, V_b9799cb...</td>\n",
       "      <td>[《会计信息系统》课程导学, None, None, （001）1.1.1 信息（15分钟）...</td>\n",
       "      <td>[01.01.01.01, 01.02.01.02, 01.02.01.03, 03.01....</td>\n",
       "    </tr>\n",
       "    <tr>\n",
       "      <th>236</th>\n",
       "      <td>C_course-v1:QHU+20180419+sp</td>\n",
       "      <td>丝路南线民间文学（自主模式）</td>\n",
       "      <td>了解丝绸之路的相关知识和青海、甘肃、新疆、四川、西藏等地的民间文学类型与内容。</td>\n",
       "      <td>本课程为人文素质选修课，共有丝路与丝路南线、丝路南线民间文学的基本知识、丝路南线上的多民族神...</td>\n",
       "      <td>C_course-v1:QHU+20180419+sp</td>\n",
       "      <td>[V_7d557974d55541c4845fd373a3b2f965, V_aa2dd86...</td>\n",
       "      <td>[Video, Video, Video, Video, Video, Video, Vid...</td>\n",
       "      <td>[01.01.01.01, 01.02.01.01, 01.03.01.01, 01.04....</td>\n",
       "    </tr>\n",
       "    <tr>\n",
       "      <th>1</th>\n",
       "      <td>C_course-v1:TsinghuaX+THESIS2015X+2015_T1</td>\n",
       "      <td>2015年清华大学研究生学位论文答辩（二）</td>\n",
       "      <td>无先修要求</td>\n",
       "      <td>学位论文答辩环节是研究生培养的重要环节，为了充分发挥该环节的育人作用，搭建学术交流的平台，进...</td>\n",
       "      <td>C_course-v1:TsinghuaX+THESIS2015X+2015_T1</td>\n",
       "      <td>[V_de0371575a9f4b5391c89ad16d68b5c2, V_d632034...</td>\n",
       "      <td>[答辩陈述, 答辩陈述, 问答及答辩结果, 答辩陈述, 问答及答辩结果, 答辩陈述, 问答及...</td>\n",
       "      <td>[01.01.03.01, 01.02.03.01, 01.02.04.01, 01.03....</td>\n",
       "    </tr>\n",
       "    <tr>\n",
       "      <th>396</th>\n",
       "      <td>C_course-v1:nxu+2018122711+2018_T2</td>\n",
       "      <td>解读西夏</td>\n",
       "      <td>本课程无须先修知识。</td>\n",
       "      <td>西夏是由党项族建立的多民族政权，虽偏处西北，但却创造了我国历史上一系列辉煌，如世界上最早的活...</td>\n",
       "      <td>C_course-v1:nxu+2018122711+2018_T2</td>\n",
       "      <td>[V_cf68bfcb40424dfba1eaf30c02e0bb71, V_2a0c302...</td>\n",
       "      <td>[第一节 唐代边疆形势与党项的第一次大迁徙, 第二节 安史之乱与党项第二次大迁徙, 第三节 ...</td>\n",
       "      <td>[01.01.01.01, 01.02.01.01, 01.03.01.01, 01.04....</td>\n",
       "    </tr>\n",
       "  </tbody>\n",
       "</table>\n",
       "</div>"
      ],
      "text/plain": [
       "                                            id                   name  \\\n",
       "480    C_course-v1:TsinghuaX+00690092X+2019_T1           逻辑学概论（2019春）   \n",
       "430       C_course-v1:HIT+13SC20301820+2019_T1          会计信息系统（2019春）   \n",
       "236                C_course-v1:QHU+20180419+sp         丝路南线民间文学（自主模式）   \n",
       "1    C_course-v1:TsinghuaX+THESIS2015X+2015_T1  2015年清华大学研究生学位论文答辩（二）   \n",
       "396         C_course-v1:nxu+2018122711+2018_T2                   解读西夏   \n",
       "\n",
       "                                         prerequisites  \\\n",
       "480  本课程无先修要求。如果有良好的数学训练基础，将有助于更好地深入领会逻辑学的方法精神，但这并非必须。   \n",
       "430                               大学计算机基础、数据库系统、中级财务会计   \n",
       "236            了解丝绸之路的相关知识和青海、甘肃、新疆、四川、西藏等地的民间文学类型与内容。   \n",
       "1                                                无先修要求   \n",
       "396                                         本课程无须先修知识。   \n",
       "\n",
       "                                                 about  \\\n",
       "480  “逻辑”一词很常用，但作为一门学科和课程，“逻辑学”涉及的内容范围，比“逻辑”一词日常的用法...   \n",
       "430  “会计信息系统”是会计学专业必修的核心课程。课程使学生掌握会计信息系统的基本理论：会计软件的...   \n",
       "236  本课程为人文素质选修课，共有丝路与丝路南线、丝路南线民间文学的基本知识、丝路南线上的多民族神...   \n",
       "1    学位论文答辩环节是研究生培养的重要环节，为了充分发挥该环节的育人作用，搭建学术交流的平台，进...   \n",
       "396  西夏是由党项族建立的多民族政权，虽偏处西北，但却创造了我国历史上一系列辉煌，如世界上最早的活...   \n",
       "\n",
       "                                       core_id  \\\n",
       "480         C_course-v1:TsinghuaX+00690092X+sp   \n",
       "430       C_course-v1:HIT+13SC20301820+2019_T1   \n",
       "236                C_course-v1:QHU+20180419+sp   \n",
       "1    C_course-v1:TsinghuaX+THESIS2015X+2015_T1   \n",
       "396         C_course-v1:nxu+2018122711+2018_T2   \n",
       "\n",
       "                                           video_order  \\\n",
       "480  [V_e36603ea30c540ac9aa17893591d75c6, V_47781e1...   \n",
       "430  [V_392a3e6051b04a3f9a65a02a847f773e, V_b9799cb...   \n",
       "236  [V_7d557974d55541c4845fd373a3b2f965, V_aa2dd86...   \n",
       "1    [V_de0371575a9f4b5391c89ad16d68b5c2, V_d632034...   \n",
       "396  [V_cf68bfcb40424dfba1eaf30c02e0bb71, V_2a0c302...   \n",
       "\n",
       "                                          display_name  \\\n",
       "480  [默认, movie_01_02.mp4, movie_01_03.mp4, movie_0...   \n",
       "430  [《会计信息系统》课程导学, None, None, （001）1.1.1 信息（15分钟）...   \n",
       "236  [Video, Video, Video, Video, Video, Video, Vid...   \n",
       "1    [答辩陈述, 答辩陈述, 问答及答辩结果, 答辩陈述, 问答及答辩结果, 答辩陈述, 问答及...   \n",
       "396  [第一节 唐代边疆形势与党项的第一次大迁徙, 第二节 安史之乱与党项第二次大迁徙, 第三节 ...   \n",
       "\n",
       "                                               chapter  \n",
       "480  [01.01.01.01, 01.02.01.01, 01.03.01.01, 01.04....  \n",
       "430  [01.01.01.01, 01.02.01.02, 01.02.01.03, 03.01....  \n",
       "236  [01.01.01.01, 01.02.01.01, 01.03.01.01, 01.04....  \n",
       "1    [01.01.03.01, 01.02.03.01, 01.02.04.01, 01.03....  \n",
       "396  [01.01.01.01, 01.02.01.01, 01.03.01.01, 01.04....  "
      ]
     },
     "execution_count": 20,
     "metadata": {},
     "output_type": "execute_result"
    }
   ],
   "source": [
    "def remove_html_and_carriage_returns(text):\n",
    "    soup = BeautifulSoup(text, \"html.parser\")\n",
    "    text_without_html = soup.get_text().replace(\"\\n\",\"\").replace(\"\\r\",\"\").replace(\"\\t\",\"\")\n",
    "    \n",
    "    return text_without_html\n",
    "\n",
    "course_df[\"about\"] = course_df[\"about\"].apply(remove_html_and_carriage_returns)\n",
    "course_df.sample(5)"
   ]
  },
  {
   "cell_type": "code",
   "execution_count": 21,
   "metadata": {},
   "outputs": [],
   "source": [
    "# sentences = []\n",
    "# course_ids = [] \n",
    "# for index, row in course_df.iterrows():\n",
    "#     course_ids.append(row[\"id\"])\n",
    "#     sentences.append(row[\"about\"])\n",
    "# model = SentenceTransformer('sentence-transformers/distiluse-base-multilingual-cased-v1')\n",
    "# embeddings = model.encode(sentences)\n"
   ]
  },
  {
   "cell_type": "code",
   "execution_count": 22,
   "metadata": {},
   "outputs": [
    {
     "data": {
      "text/html": [
       "<div>\n",
       "<style scoped>\n",
       "    .dataframe tbody tr th:only-of-type {\n",
       "        vertical-align: middle;\n",
       "    }\n",
       "\n",
       "    .dataframe tbody tr th {\n",
       "        vertical-align: top;\n",
       "    }\n",
       "\n",
       "    .dataframe thead th {\n",
       "        text-align: right;\n",
       "    }\n",
       "</style>\n",
       "<table border=\"1\" class=\"dataframe\">\n",
       "  <thead>\n",
       "    <tr style=\"text-align: right;\">\n",
       "      <th></th>\n",
       "      <th>index</th>\n",
       "      <th>id</th>\n",
       "      <th>name</th>\n",
       "      <th>prerequisites</th>\n",
       "      <th>about</th>\n",
       "      <th>core_id</th>\n",
       "      <th>video_order</th>\n",
       "      <th>display_name</th>\n",
       "      <th>chapter</th>\n",
       "    </tr>\n",
       "  </thead>\n",
       "  <tbody>\n",
       "    <tr>\n",
       "      <th>0</th>\n",
       "      <td>0</td>\n",
       "      <td>C_course-v1:McGillX+ATOC185x+2015_T1</td>\n",
       "      <td>自然灾害（自主模式）</td>\n",
       "      <td>无</td>\n",
       "      <td>地球上没有一处地方不发生自然灾害。当我们以科学的眼光看待这些自然灾害的原因和本质时，我们可以...</td>\n",
       "      <td>C_course-v1:McGillX+ATOC185x+2015_T1</td>\n",
       "      <td>V_f6f710068b994452885b90e11b6ee5c5</td>\n",
       "      <td>[Video: Overview 1, Video: Overview 2, Video: ...</td>\n",
       "      <td>[01.02.01.02, 01.02.03.02, 01.02.05.02, 01.02....</td>\n",
       "    </tr>\n",
       "    <tr>\n",
       "      <th>1</th>\n",
       "      <td>0</td>\n",
       "      <td>C_course-v1:McGillX+ATOC185x+2015_T1</td>\n",
       "      <td>自然灾害（自主模式）</td>\n",
       "      <td>无</td>\n",
       "      <td>地球上没有一处地方不发生自然灾害。当我们以科学的眼光看待这些自然灾害的原因和本质时，我们可以...</td>\n",
       "      <td>C_course-v1:McGillX+ATOC185x+2015_T1</td>\n",
       "      <td>V_73395684a8e24e2ea378b926214335ea</td>\n",
       "      <td>[Video: Overview 1, Video: Overview 2, Video: ...</td>\n",
       "      <td>[01.02.01.02, 01.02.03.02, 01.02.05.02, 01.02....</td>\n",
       "    </tr>\n",
       "    <tr>\n",
       "      <th>2</th>\n",
       "      <td>0</td>\n",
       "      <td>C_course-v1:McGillX+ATOC185x+2015_T1</td>\n",
       "      <td>自然灾害（自主模式）</td>\n",
       "      <td>无</td>\n",
       "      <td>地球上没有一处地方不发生自然灾害。当我们以科学的眼光看待这些自然灾害的原因和本质时，我们可以...</td>\n",
       "      <td>C_course-v1:McGillX+ATOC185x+2015_T1</td>\n",
       "      <td>V_8bc91d3fc5914379ae31723cdc0de9f1</td>\n",
       "      <td>[Video: Overview 1, Video: Overview 2, Video: ...</td>\n",
       "      <td>[01.02.01.02, 01.02.03.02, 01.02.05.02, 01.02....</td>\n",
       "    </tr>\n",
       "    <tr>\n",
       "      <th>3</th>\n",
       "      <td>0</td>\n",
       "      <td>C_course-v1:McGillX+ATOC185x+2015_T1</td>\n",
       "      <td>自然灾害（自主模式）</td>\n",
       "      <td>无</td>\n",
       "      <td>地球上没有一处地方不发生自然灾害。当我们以科学的眼光看待这些自然灾害的原因和本质时，我们可以...</td>\n",
       "      <td>C_course-v1:McGillX+ATOC185x+2015_T1</td>\n",
       "      <td>V_8aef0ca48efc445c9edf545114ba22a9</td>\n",
       "      <td>[Video: Overview 1, Video: Overview 2, Video: ...</td>\n",
       "      <td>[01.02.01.02, 01.02.03.02, 01.02.05.02, 01.02....</td>\n",
       "    </tr>\n",
       "    <tr>\n",
       "      <th>4</th>\n",
       "      <td>0</td>\n",
       "      <td>C_course-v1:McGillX+ATOC185x+2015_T1</td>\n",
       "      <td>自然灾害（自主模式）</td>\n",
       "      <td>无</td>\n",
       "      <td>地球上没有一处地方不发生自然灾害。当我们以科学的眼光看待这些自然灾害的原因和本质时，我们可以...</td>\n",
       "      <td>C_course-v1:McGillX+ATOC185x+2015_T1</td>\n",
       "      <td>V_ae9b4e594d4347a4b3da95dc1851eac3</td>\n",
       "      <td>[Video: Overview 1, Video: Overview 2, Video: ...</td>\n",
       "      <td>[01.02.01.02, 01.02.03.02, 01.02.05.02, 01.02....</td>\n",
       "    </tr>\n",
       "  </tbody>\n",
       "</table>\n",
       "</div>"
      ],
      "text/plain": [
       "   index                                    id        name prerequisites  \\\n",
       "0      0  C_course-v1:McGillX+ATOC185x+2015_T1  自然灾害（自主模式）             无   \n",
       "1      0  C_course-v1:McGillX+ATOC185x+2015_T1  自然灾害（自主模式）             无   \n",
       "2      0  C_course-v1:McGillX+ATOC185x+2015_T1  自然灾害（自主模式）             无   \n",
       "3      0  C_course-v1:McGillX+ATOC185x+2015_T1  自然灾害（自主模式）             无   \n",
       "4      0  C_course-v1:McGillX+ATOC185x+2015_T1  自然灾害（自主模式）             无   \n",
       "\n",
       "                                               about  \\\n",
       "0  地球上没有一处地方不发生自然灾害。当我们以科学的眼光看待这些自然灾害的原因和本质时，我们可以...   \n",
       "1  地球上没有一处地方不发生自然灾害。当我们以科学的眼光看待这些自然灾害的原因和本质时，我们可以...   \n",
       "2  地球上没有一处地方不发生自然灾害。当我们以科学的眼光看待这些自然灾害的原因和本质时，我们可以...   \n",
       "3  地球上没有一处地方不发生自然灾害。当我们以科学的眼光看待这些自然灾害的原因和本质时，我们可以...   \n",
       "4  地球上没有一处地方不发生自然灾害。当我们以科学的眼光看待这些自然灾害的原因和本质时，我们可以...   \n",
       "\n",
       "                                core_id                         video_order  \\\n",
       "0  C_course-v1:McGillX+ATOC185x+2015_T1  V_f6f710068b994452885b90e11b6ee5c5   \n",
       "1  C_course-v1:McGillX+ATOC185x+2015_T1  V_73395684a8e24e2ea378b926214335ea   \n",
       "2  C_course-v1:McGillX+ATOC185x+2015_T1  V_8bc91d3fc5914379ae31723cdc0de9f1   \n",
       "3  C_course-v1:McGillX+ATOC185x+2015_T1  V_8aef0ca48efc445c9edf545114ba22a9   \n",
       "4  C_course-v1:McGillX+ATOC185x+2015_T1  V_ae9b4e594d4347a4b3da95dc1851eac3   \n",
       "\n",
       "                                        display_name  \\\n",
       "0  [Video: Overview 1, Video: Overview 2, Video: ...   \n",
       "1  [Video: Overview 1, Video: Overview 2, Video: ...   \n",
       "2  [Video: Overview 1, Video: Overview 2, Video: ...   \n",
       "3  [Video: Overview 1, Video: Overview 2, Video: ...   \n",
       "4  [Video: Overview 1, Video: Overview 2, Video: ...   \n",
       "\n",
       "                                             chapter  \n",
       "0  [01.02.01.02, 01.02.03.02, 01.02.05.02, 01.02....  \n",
       "1  [01.02.01.02, 01.02.03.02, 01.02.05.02, 01.02....  \n",
       "2  [01.02.01.02, 01.02.03.02, 01.02.05.02, 01.02....  \n",
       "3  [01.02.01.02, 01.02.03.02, 01.02.05.02, 01.02....  \n",
       "4  [01.02.01.02, 01.02.03.02, 01.02.05.02, 01.02....  "
      ]
     },
     "execution_count": 22,
     "metadata": {},
     "output_type": "execute_result"
    }
   ],
   "source": [
    "course_df = course_df.explode('video_order').reset_index()\n",
    "course_df.head(5)"
   ]
  },
  {
   "cell_type": "code",
   "execution_count": 23,
   "metadata": {},
   "outputs": [
    {
     "data": {
      "text/html": [
       "<div>\n",
       "<style scoped>\n",
       "    .dataframe tbody tr th:only-of-type {\n",
       "        vertical-align: middle;\n",
       "    }\n",
       "\n",
       "    .dataframe tbody tr th {\n",
       "        vertical-align: top;\n",
       "    }\n",
       "\n",
       "    .dataframe thead th {\n",
       "        text-align: right;\n",
       "    }\n",
       "</style>\n",
       "<table border=\"1\" class=\"dataframe\">\n",
       "  <thead>\n",
       "    <tr style=\"text-align: right;\">\n",
       "      <th></th>\n",
       "      <th>id</th>\n",
       "      <th>name</th>\n",
       "      <th>prerequisites</th>\n",
       "      <th>about</th>\n",
       "      <th>core_id</th>\n",
       "      <th>video_order</th>\n",
       "      <th>display_name</th>\n",
       "      <th>chapter</th>\n",
       "    </tr>\n",
       "  </thead>\n",
       "  <tbody>\n",
       "    <tr>\n",
       "      <th>0</th>\n",
       "      <td>C_course-v1:McGillX+ATOC185x+2015_T1</td>\n",
       "      <td>自然灾害（自主模式）</td>\n",
       "      <td>无</td>\n",
       "      <td>地球上没有一处地方不发生自然灾害。当我们以科学的眼光看待这些自然灾害的原因和本质时，我们可以...</td>\n",
       "      <td>C_course-v1:McGillX+ATOC185x+2015_T1</td>\n",
       "      <td>V_f6f710068b994452885b90e11b6ee5c5</td>\n",
       "      <td>[Video: Overview 1, Video: Overview 2, Video: ...</td>\n",
       "      <td>[01.02.01.02, 01.02.03.02, 01.02.05.02, 01.02....</td>\n",
       "    </tr>\n",
       "    <tr>\n",
       "      <th>1</th>\n",
       "      <td>C_course-v1:McGillX+ATOC185x+2015_T1</td>\n",
       "      <td>自然灾害（自主模式）</td>\n",
       "      <td>无</td>\n",
       "      <td>地球上没有一处地方不发生自然灾害。当我们以科学的眼光看待这些自然灾害的原因和本质时，我们可以...</td>\n",
       "      <td>C_course-v1:McGillX+ATOC185x+2015_T1</td>\n",
       "      <td>V_73395684a8e24e2ea378b926214335ea</td>\n",
       "      <td>[Video: Overview 1, Video: Overview 2, Video: ...</td>\n",
       "      <td>[01.02.01.02, 01.02.03.02, 01.02.05.02, 01.02....</td>\n",
       "    </tr>\n",
       "    <tr>\n",
       "      <th>2</th>\n",
       "      <td>C_course-v1:McGillX+ATOC185x+2015_T1</td>\n",
       "      <td>自然灾害（自主模式）</td>\n",
       "      <td>无</td>\n",
       "      <td>地球上没有一处地方不发生自然灾害。当我们以科学的眼光看待这些自然灾害的原因和本质时，我们可以...</td>\n",
       "      <td>C_course-v1:McGillX+ATOC185x+2015_T1</td>\n",
       "      <td>V_8bc91d3fc5914379ae31723cdc0de9f1</td>\n",
       "      <td>[Video: Overview 1, Video: Overview 2, Video: ...</td>\n",
       "      <td>[01.02.01.02, 01.02.03.02, 01.02.05.02, 01.02....</td>\n",
       "    </tr>\n",
       "    <tr>\n",
       "      <th>3</th>\n",
       "      <td>C_course-v1:McGillX+ATOC185x+2015_T1</td>\n",
       "      <td>自然灾害（自主模式）</td>\n",
       "      <td>无</td>\n",
       "      <td>地球上没有一处地方不发生自然灾害。当我们以科学的眼光看待这些自然灾害的原因和本质时，我们可以...</td>\n",
       "      <td>C_course-v1:McGillX+ATOC185x+2015_T1</td>\n",
       "      <td>V_8aef0ca48efc445c9edf545114ba22a9</td>\n",
       "      <td>[Video: Overview 1, Video: Overview 2, Video: ...</td>\n",
       "      <td>[01.02.01.02, 01.02.03.02, 01.02.05.02, 01.02....</td>\n",
       "    </tr>\n",
       "    <tr>\n",
       "      <th>4</th>\n",
       "      <td>C_course-v1:McGillX+ATOC185x+2015_T1</td>\n",
       "      <td>自然灾害（自主模式）</td>\n",
       "      <td>无</td>\n",
       "      <td>地球上没有一处地方不发生自然灾害。当我们以科学的眼光看待这些自然灾害的原因和本质时，我们可以...</td>\n",
       "      <td>C_course-v1:McGillX+ATOC185x+2015_T1</td>\n",
       "      <td>V_ae9b4e594d4347a4b3da95dc1851eac3</td>\n",
       "      <td>[Video: Overview 1, Video: Overview 2, Video: ...</td>\n",
       "      <td>[01.02.01.02, 01.02.03.02, 01.02.05.02, 01.02....</td>\n",
       "    </tr>\n",
       "  </tbody>\n",
       "</table>\n",
       "</div>"
      ],
      "text/plain": [
       "                                     id        name prerequisites  \\\n",
       "0  C_course-v1:McGillX+ATOC185x+2015_T1  自然灾害（自主模式）             无   \n",
       "1  C_course-v1:McGillX+ATOC185x+2015_T1  自然灾害（自主模式）             无   \n",
       "2  C_course-v1:McGillX+ATOC185x+2015_T1  自然灾害（自主模式）             无   \n",
       "3  C_course-v1:McGillX+ATOC185x+2015_T1  自然灾害（自主模式）             无   \n",
       "4  C_course-v1:McGillX+ATOC185x+2015_T1  自然灾害（自主模式）             无   \n",
       "\n",
       "                                               about  \\\n",
       "0  地球上没有一处地方不发生自然灾害。当我们以科学的眼光看待这些自然灾害的原因和本质时，我们可以...   \n",
       "1  地球上没有一处地方不发生自然灾害。当我们以科学的眼光看待这些自然灾害的原因和本质时，我们可以...   \n",
       "2  地球上没有一处地方不发生自然灾害。当我们以科学的眼光看待这些自然灾害的原因和本质时，我们可以...   \n",
       "3  地球上没有一处地方不发生自然灾害。当我们以科学的眼光看待这些自然灾害的原因和本质时，我们可以...   \n",
       "4  地球上没有一处地方不发生自然灾害。当我们以科学的眼光看待这些自然灾害的原因和本质时，我们可以...   \n",
       "\n",
       "                                core_id                         video_order  \\\n",
       "0  C_course-v1:McGillX+ATOC185x+2015_T1  V_f6f710068b994452885b90e11b6ee5c5   \n",
       "1  C_course-v1:McGillX+ATOC185x+2015_T1  V_73395684a8e24e2ea378b926214335ea   \n",
       "2  C_course-v1:McGillX+ATOC185x+2015_T1  V_8bc91d3fc5914379ae31723cdc0de9f1   \n",
       "3  C_course-v1:McGillX+ATOC185x+2015_T1  V_8aef0ca48efc445c9edf545114ba22a9   \n",
       "4  C_course-v1:McGillX+ATOC185x+2015_T1  V_ae9b4e594d4347a4b3da95dc1851eac3   \n",
       "\n",
       "                                        display_name  \\\n",
       "0  [Video: Overview 1, Video: Overview 2, Video: ...   \n",
       "1  [Video: Overview 1, Video: Overview 2, Video: ...   \n",
       "2  [Video: Overview 1, Video: Overview 2, Video: ...   \n",
       "3  [Video: Overview 1, Video: Overview 2, Video: ...   \n",
       "4  [Video: Overview 1, Video: Overview 2, Video: ...   \n",
       "\n",
       "                                             chapter  \n",
       "0  [01.02.01.02, 01.02.03.02, 01.02.05.02, 01.02....  \n",
       "1  [01.02.01.02, 01.02.03.02, 01.02.05.02, 01.02....  \n",
       "2  [01.02.01.02, 01.02.03.02, 01.02.05.02, 01.02....  \n",
       "3  [01.02.01.02, 01.02.03.02, 01.02.05.02, 01.02....  \n",
       "4  [01.02.01.02, 01.02.03.02, 01.02.05.02, 01.02....  "
      ]
     },
     "execution_count": 23,
     "metadata": {},
     "output_type": "execute_result"
    }
   ],
   "source": [
    "course_df = course_df.drop('index', axis=1)\n",
    "course_df.head(5)"
   ]
  },
  {
   "cell_type": "markdown",
   "metadata": {},
   "source": [
    "## Papers"
   ]
  },
  {
   "cell_type": "code",
   "execution_count": 24,
   "metadata": {},
   "outputs": [],
   "source": [
    "paper_df = pd.read_json(\"../data/MOOCCube/entities/paper.json\",lines=True)"
   ]
  },
  {
   "cell_type": "code",
   "execution_count": 25,
   "metadata": {},
   "outputs": [
    {
     "data": {
      "text/plain": [
       "(679790, 14)"
      ]
     },
     "execution_count": 25,
     "metadata": {},
     "output_type": "execute_result"
    }
   ],
   "source": [
    "paper_df.shape"
   ]
  },
  {
   "cell_type": "code",
   "execution_count": 26,
   "metadata": {},
   "outputs": [
    {
     "data": {
      "text/html": [
       "<div>\n",
       "<style scoped>\n",
       "    .dataframe tbody tr th:only-of-type {\n",
       "        vertical-align: middle;\n",
       "    }\n",
       "\n",
       "    .dataframe tbody tr th {\n",
       "        vertical-align: top;\n",
       "    }\n",
       "\n",
       "    .dataframe thead th {\n",
       "        text-align: right;\n",
       "    }\n",
       "</style>\n",
       "<table border=\"1\" class=\"dataframe\">\n",
       "  <thead>\n",
       "    <tr style=\"text-align: right;\">\n",
       "      <th></th>\n",
       "      <th>id</th>\n",
       "      <th>name</th>\n",
       "      <th>abstract</th>\n",
       "      <th>authors</th>\n",
       "      <th>doi</th>\n",
       "      <th>lang</th>\n",
       "      <th>num_citation</th>\n",
       "      <th>pdf</th>\n",
       "      <th>sourcetype</th>\n",
       "      <th>title</th>\n",
       "      <th>venue</th>\n",
       "      <th>year</th>\n",
       "      <th>pages</th>\n",
       "      <th>urls</th>\n",
       "    </tr>\n",
       "  </thead>\n",
       "  <tbody>\n",
       "    <tr>\n",
       "      <th>425846</th>\n",
       "      <td>P_53e9af99b7602d97039e3d61</td>\n",
       "      <td></td>\n",
       "      <td></td>\n",
       "      <td>[{'id': '53f437f4dabfaeee229b9498', 'name': 'H...</td>\n",
       "      <td>10.1112/jlms/s1-34.1.93</td>\n",
       "      <td>en</td>\n",
       "      <td>4</td>\n",
       "      <td>NaN</td>\n",
       "      <td>publication</td>\n",
       "      <td>On the Limits of Riemann Sums</td>\n",
       "      <td>{'info': {'name': 'Journal of The London Mathe...</td>\n",
       "      <td>1959</td>\n",
       "      <td>{'end': '100', 'start': '93'}</td>\n",
       "      <td>[http://dx.doi.org/10.1112/jlms/s1-34.1.93]</td>\n",
       "    </tr>\n",
       "    <tr>\n",
       "      <th>509855</th>\n",
       "      <td>P_56d8da30dabfae2eeee766d1</td>\n",
       "      <td></td>\n",
       "      <td></td>\n",
       "      <td>[{'id': '53f46ae2dabfaee4dc86036c', 'name': 'h...</td>\n",
       "      <td>10.1063/1.1566438</td>\n",
       "      <td>en</td>\n",
       "      <td>97</td>\n",
       "      <td>NaN</td>\n",
       "      <td>publication</td>\n",
       "      <td>Mechanism for ultrafast internal conversion of...</td>\n",
       "      <td>{'info': {'name': 'Journal of Chemical Physics...</td>\n",
       "      <td>2003</td>\n",
       "      <td>{'end': '', 'start': ''}</td>\n",
       "      <td>[http://dx.doi.org/10.1063/1.1566438]</td>\n",
       "    </tr>\n",
       "    <tr>\n",
       "      <th>455111</th>\n",
       "      <td>P_56d889cddabfae2eeeac93b8</td>\n",
       "      <td></td>\n",
       "      <td></td>\n",
       "      <td>[{'name': 'f h tobins'}, {'name': 'ain onuoha'}]</td>\n",
       "      <td>10.4314/jmdmes.v1i1.19016</td>\n",
       "      <td>en</td>\n",
       "      <td>0</td>\n",
       "      <td>NaN</td>\n",
       "      <td>publication</td>\n",
       "      <td>The Vibration Effect Of Unbalance Mass On Vert...</td>\n",
       "      <td>{'issue': '', 'volume': ''}</td>\n",
       "      <td>2002</td>\n",
       "      <td>{'end': '', 'start': ''}</td>\n",
       "      <td>[http://dx.doi.org/10.4314/jmdmes.v1i1.19016]</td>\n",
       "    </tr>\n",
       "    <tr>\n",
       "      <th>232125</th>\n",
       "      <td>P_56d85a4cdabfae2eee494b23</td>\n",
       "      <td></td>\n",
       "      <td></td>\n",
       "      <td>[{'id': '53f32db6dabfae9a8449c21c', 'name': 'j...</td>\n",
       "      <td></td>\n",
       "      <td>en</td>\n",
       "      <td>4</td>\n",
       "      <td>NaN</td>\n",
       "      <td>publication</td>\n",
       "      <td>Deaerating feed-water heater</td>\n",
       "      <td>{'issue': '', 'volume': ''}</td>\n",
       "      <td>1951</td>\n",
       "      <td>{'end': '', 'start': ''}</td>\n",
       "      <td>NaN</td>\n",
       "    </tr>\n",
       "    <tr>\n",
       "      <th>267844</th>\n",
       "      <td>P_5c756ee7f56def979861ade5</td>\n",
       "      <td></td>\n",
       "      <td>NaN</td>\n",
       "      <td>[{'name': 'Jed Ludlow'}, {'name': 'T.D. Willia...</td>\n",
       "      <td></td>\n",
       "      <td>en</td>\n",
       "      <td>0</td>\n",
       "      <td>NaN</td>\n",
       "      <td>publication</td>\n",
       "      <td>Statistical Tolerance Intervals: A Better Appr...</td>\n",
       "      <td>{'info': {'name': 'Corrosion'}, 'issue': '', '...</td>\n",
       "      <td>2012</td>\n",
       "      <td>{'end': '', 'start': ''}</td>\n",
       "      <td>NaN</td>\n",
       "    </tr>\n",
       "  </tbody>\n",
       "</table>\n",
       "</div>"
      ],
      "text/plain": [
       "                                id name abstract  \\\n",
       "425846  P_53e9af99b7602d97039e3d61                 \n",
       "509855  P_56d8da30dabfae2eeee766d1                 \n",
       "455111  P_56d889cddabfae2eeeac93b8                 \n",
       "232125  P_56d85a4cdabfae2eee494b23                 \n",
       "267844  P_5c756ee7f56def979861ade5           NaN   \n",
       "\n",
       "                                                  authors  \\\n",
       "425846  [{'id': '53f437f4dabfaeee229b9498', 'name': 'H...   \n",
       "509855  [{'id': '53f46ae2dabfaee4dc86036c', 'name': 'h...   \n",
       "455111   [{'name': 'f h tobins'}, {'name': 'ain onuoha'}]   \n",
       "232125  [{'id': '53f32db6dabfae9a8449c21c', 'name': 'j...   \n",
       "267844  [{'name': 'Jed Ludlow'}, {'name': 'T.D. Willia...   \n",
       "\n",
       "                              doi lang  num_citation  pdf   sourcetype  \\\n",
       "425846    10.1112/jlms/s1-34.1.93   en             4  NaN  publication   \n",
       "509855          10.1063/1.1566438   en            97  NaN  publication   \n",
       "455111  10.4314/jmdmes.v1i1.19016   en             0  NaN  publication   \n",
       "232125                              en             4  NaN  publication   \n",
       "267844                              en             0  NaN  publication   \n",
       "\n",
       "                                                    title  \\\n",
       "425846                      On the Limits of Riemann Sums   \n",
       "509855  Mechanism for ultrafast internal conversion of...   \n",
       "455111  The Vibration Effect Of Unbalance Mass On Vert...   \n",
       "232125                       Deaerating feed-water heater   \n",
       "267844  Statistical Tolerance Intervals: A Better Appr...   \n",
       "\n",
       "                                                    venue  year  \\\n",
       "425846  {'info': {'name': 'Journal of The London Mathe...  1959   \n",
       "509855  {'info': {'name': 'Journal of Chemical Physics...  2003   \n",
       "455111                        {'issue': '', 'volume': ''}  2002   \n",
       "232125                        {'issue': '', 'volume': ''}  1951   \n",
       "267844  {'info': {'name': 'Corrosion'}, 'issue': '', '...  2012   \n",
       "\n",
       "                                pages  \\\n",
       "425846  {'end': '100', 'start': '93'}   \n",
       "509855       {'end': '', 'start': ''}   \n",
       "455111       {'end': '', 'start': ''}   \n",
       "232125       {'end': '', 'start': ''}   \n",
       "267844       {'end': '', 'start': ''}   \n",
       "\n",
       "                                                 urls  \n",
       "425846    [http://dx.doi.org/10.1112/jlms/s1-34.1.93]  \n",
       "509855          [http://dx.doi.org/10.1063/1.1566438]  \n",
       "455111  [http://dx.doi.org/10.4314/jmdmes.v1i1.19016]  \n",
       "232125                                            NaN  \n",
       "267844                                            NaN  "
      ]
     },
     "execution_count": 26,
     "metadata": {},
     "output_type": "execute_result"
    }
   ],
   "source": [
    "paper_df.sample(5)"
   ]
  },
  {
   "cell_type": "markdown",
   "metadata": {},
   "source": [
    "## School"
   ]
  },
  {
   "cell_type": "code",
   "execution_count": 27,
   "metadata": {},
   "outputs": [],
   "source": [
    "school_df = pd.read_json(\"../data/MOOCCube/entities/school.json\",lines=True)"
   ]
  },
  {
   "cell_type": "code",
   "execution_count": 28,
   "metadata": {},
   "outputs": [
    {
     "data": {
      "text/plain": [
       "(208, 3)"
      ]
     },
     "execution_count": 28,
     "metadata": {},
     "output_type": "execute_result"
    }
   ],
   "source": [
    "school_df.shape"
   ]
  },
  {
   "cell_type": "code",
   "execution_count": 29,
   "metadata": {},
   "outputs": [
    {
     "data": {
      "text/html": [
       "<div>\n",
       "<style scoped>\n",
       "    .dataframe tbody tr th:only-of-type {\n",
       "        vertical-align: middle;\n",
       "    }\n",
       "\n",
       "    .dataframe tbody tr th {\n",
       "        vertical-align: top;\n",
       "    }\n",
       "\n",
       "    .dataframe thead th {\n",
       "        text-align: right;\n",
       "    }\n",
       "</style>\n",
       "<table border=\"1\" class=\"dataframe\">\n",
       "  <thead>\n",
       "    <tr style=\"text-align: right;\">\n",
       "      <th></th>\n",
       "      <th>id</th>\n",
       "      <th>name</th>\n",
       "      <th>about</th>\n",
       "    </tr>\n",
       "  </thead>\n",
       "  <tbody>\n",
       "    <tr>\n",
       "      <th>167</th>\n",
       "      <td>S_FJNU</td>\n",
       "      <td>福建师范大学</td>\n",
       "      <td>福建师范大学（Fujian Normal University）是福建省人民政府与中华人民共...</td>\n",
       "    </tr>\n",
       "    <tr>\n",
       "      <th>200</th>\n",
       "      <td>S_cqu</td>\n",
       "      <td>重庆大学</td>\n",
       "      <td>重庆大学（Chongqing University），简称重大（CQU），位于中央直辖市重庆...</td>\n",
       "    </tr>\n",
       "    <tr>\n",
       "      <th>163</th>\n",
       "      <td>S_AFEU</td>\n",
       "      <td>空军工程大学</td>\n",
       "      <td>中国人民解放军空军工程大学（Air Force Engineering University...</td>\n",
       "    </tr>\n",
       "    <tr>\n",
       "      <th>191</th>\n",
       "      <td>S_NWPU</td>\n",
       "      <td>西北工业大学</td>\n",
       "      <td>西北工业大学（Northwestern Polytechnical University）简...</td>\n",
       "    </tr>\n",
       "    <tr>\n",
       "      <th>124</th>\n",
       "      <td>S_ZZU</td>\n",
       "      <td>郑州大学</td>\n",
       "      <td>郑州大学（Zhengzhou University），简称“郑大”，是中华人民共和国教育部与...</td>\n",
       "    </tr>\n",
       "  </tbody>\n",
       "</table>\n",
       "</div>"
      ],
      "text/plain": [
       "         id    name                                              about\n",
       "167  S_FJNU  福建师范大学  福建师范大学（Fujian Normal University）是福建省人民政府与中华人民共...\n",
       "200   S_cqu    重庆大学  重庆大学（Chongqing University），简称重大（CQU），位于中央直辖市重庆...\n",
       "163  S_AFEU  空军工程大学  中国人民解放军空军工程大学（Air Force Engineering University...\n",
       "191  S_NWPU  西北工业大学  西北工业大学（Northwestern Polytechnical University）简...\n",
       "124   S_ZZU    郑州大学  郑州大学（Zhengzhou University），简称“郑大”，是中华人民共和国教育部与..."
      ]
     },
     "execution_count": 29,
     "metadata": {},
     "output_type": "execute_result"
    }
   ],
   "source": [
    "school_df.sample(5)"
   ]
  },
  {
   "cell_type": "markdown",
   "metadata": {},
   "source": [
    "## Teacher"
   ]
  },
  {
   "cell_type": "code",
   "execution_count": 30,
   "metadata": {},
   "outputs": [],
   "source": [
    "teacher_df = pd.read_json(\"../data/MOOCCube/entities/teacher.json\",lines=True)"
   ]
  },
  {
   "cell_type": "code",
   "execution_count": 31,
   "metadata": {},
   "outputs": [
    {
     "data": {
      "text/plain": [
       "(1738, 3)"
      ]
     },
     "execution_count": 31,
     "metadata": {},
     "output_type": "execute_result"
    }
   ],
   "source": [
    "teacher_df.shape"
   ]
  },
  {
   "cell_type": "code",
   "execution_count": 32,
   "metadata": {},
   "outputs": [
    {
     "data": {
      "text/html": [
       "<div>\n",
       "<style scoped>\n",
       "    .dataframe tbody tr th:only-of-type {\n",
       "        vertical-align: middle;\n",
       "    }\n",
       "\n",
       "    .dataframe tbody tr th {\n",
       "        vertical-align: top;\n",
       "    }\n",
       "\n",
       "    .dataframe thead th {\n",
       "        text-align: right;\n",
       "    }\n",
       "</style>\n",
       "<table border=\"1\" class=\"dataframe\">\n",
       "  <thead>\n",
       "    <tr style=\"text-align: right;\">\n",
       "      <th></th>\n",
       "      <th>id</th>\n",
       "      <th>name</th>\n",
       "      <th>about</th>\n",
       "    </tr>\n",
       "  </thead>\n",
       "  <tbody>\n",
       "    <tr>\n",
       "      <th>1484</th>\n",
       "      <td>T_马成功</td>\n",
       "      <td>马成功</td>\n",
       "      <td>乐视培训发展总经理，原京东大学校长</td>\n",
       "    </tr>\n",
       "    <tr>\n",
       "      <th>537</th>\n",
       "      <td>T_李江玲</td>\n",
       "      <td>李江玲</td>\n",
       "      <td>李江玲，人物形象设计专业科班生，高级形象设计师、高级化妆师、高级美容师、IFBC韩国美容协会...</td>\n",
       "    </tr>\n",
       "    <tr>\n",
       "      <th>191</th>\n",
       "      <td>T_张平</td>\n",
       "      <td>张平</td>\n",
       "      <td>张平, 女，1980年4月出生，天津人，中国共产党党员，经济学博士，教授，博士生导师，天津市...</td>\n",
       "    </tr>\n",
       "    <tr>\n",
       "      <th>287</th>\n",
       "      <td>T_邓俊辉</td>\n",
       "      <td>邓俊辉</td>\n",
       "      <td>清华大学博士，学生尊称其为“邓公”，清华大学教学领域最高荣誉「新百年教学成就奖」首届获得者，...</td>\n",
       "    </tr>\n",
       "    <tr>\n",
       "      <th>1683</th>\n",
       "      <td>T_任艳频</td>\n",
       "      <td>任艳频</td>\n",
       "      <td>分别于1995年、1999年在清华大学自动化系获得工学学士和工学博士学位。\\n1999-20...</td>\n",
       "    </tr>\n",
       "  </tbody>\n",
       "</table>\n",
       "</div>"
      ],
      "text/plain": [
       "         id name                                              about\n",
       "1484  T_马成功  马成功                                  乐视培训发展总经理，原京东大学校长\n",
       "537   T_李江玲  李江玲  李江玲，人物形象设计专业科班生，高级形象设计师、高级化妆师、高级美容师、IFBC韩国美容协会...\n",
       "191    T_张平   张平  张平, 女，1980年4月出生，天津人，中国共产党党员，经济学博士，教授，博士生导师，天津市...\n",
       "287   T_邓俊辉  邓俊辉  清华大学博士，学生尊称其为“邓公”，清华大学教学领域最高荣誉「新百年教学成就奖」首届获得者，...\n",
       "1683  T_任艳频  任艳频  分别于1995年、1999年在清华大学自动化系获得工学学士和工学博士学位。\\n1999-20..."
      ]
     },
     "execution_count": 32,
     "metadata": {},
     "output_type": "execute_result"
    }
   ],
   "source": [
    "teacher_df.sample(5)"
   ]
  },
  {
   "cell_type": "markdown",
   "metadata": {},
   "source": [
    "## User"
   ]
  },
  {
   "cell_type": "code",
   "execution_count": 8,
   "metadata": {},
   "outputs": [],
   "source": [
    "user_df = pd.read_json(\"../data/MOOCCube/entities/user.json\",lines=True)"
   ]
  },
  {
   "cell_type": "code",
   "execution_count": 9,
   "metadata": {},
   "outputs": [
    {
     "data": {
      "text/plain": [
       "(199199, 4)"
      ]
     },
     "execution_count": 9,
     "metadata": {},
     "output_type": "execute_result"
    }
   ],
   "source": [
    "user_df.shape"
   ]
  },
  {
   "cell_type": "code",
   "execution_count": 6,
   "metadata": {},
   "outputs": [
    {
     "data": {
      "text/plain": [
       "97787     [C_course-v1:TsinghuaX+20250064+sp, C_course-v...\n",
       "142370    [C_course-v1:TsinghuaX+2018031601X+2019_T1, C_...\n",
       "8264      [C_course-v1:TsinghuaX+70612463X+2019_T1, C_co...\n",
       "126224    [C_course-v1:TsinghuaX+30640014X+2019_T1, C_co...\n",
       "144628    [C_course-v1:TsinghuaX+20250064+sp, C_course-v...\n",
       "Name: course_order, dtype: object"
      ]
     },
     "execution_count": 6,
     "metadata": {},
     "output_type": "execute_result"
    }
   ],
   "source": [
    "user_df.sample(5)"
   ]
  },
  {
   "cell_type": "code",
   "execution_count": 16,
   "metadata": {},
   "outputs": [
    {
     "name": "stdout",
     "output_type": "stream",
     "text": [
      "['C_course-v1:TsinghuaX+20430064_2X+sp', 'C_course-v1:TsinghuaX+02070251X+2019_T1', 'C_course-v1:TsinghuaX+0350161X_2015_T2+sp', 'C_course-v1:TsinghuaX+60240013X+sp', 'C_course-v1:TsinghuaX+01030132X+sp', 'C_course-v1:TsinghuaX+20250103X+sp', 'C_course-v1:TsinghuaX+20220214X+2019_T1', 'C_course-v1:TsinghuaX+02070251X+sp', 'C_course-v1:TsinghuaX+20220053X_2015_T2+sp', 'C_course-v1:TsinghuaX+20350033X+sp']\n",
      "['C_course-v1:TsinghuaX+30640014X+2019_T1', 'C_course-v1:TsinghuaX+00612643X+sp', 'C_course-v1:TsinghuaX+00612642X+2019_T1', 'C_course-v1:TsinghuaX+20250103X+sp', 'C_course-v1:TsinghuaX+30640014X+sp', 'C_course-v1:TsinghuaX+00701032X+sp', 'C_course-v1:HNU+GE14068+2019_T1', 'C_course-v1:HEBNU+2017011901X+sp', 'C_course-v1:TsinghuaX+00612642X+sp']\n",
      "['C_course-v1:gmc+3060511+2018_T2', 'C_course-v1:WageningenX+NUTR101x+sp', 'C_course-v1:TsinghuaX+80000271X+sp', 'C_course-v1:TsinghuaX+00040132X+sp', 'C_course-v1:MIL+MIL2016001+sp', 'C_course-v1:UQx+BIOIMG101x+sp', 'C_course-v1:PSFFC+2018102405X+2018_T2', 'C_course-v1:dlmu+20180330+sp', 'C_course-v1:YMY+20171108001+sp', 'C_course-v1:PSFFC+2018102406X+2018_T2', 'C_course-v1:HUBU+HU08003X+sp']\n"
     ]
    },
    {
     "ename": "KeyboardInterrupt",
     "evalue": "",
     "output_type": "error",
     "traceback": [
      "\u001b[1;31m---------------------------------------------------------------------------\u001b[0m",
      "\u001b[1;31mKeyboardInterrupt\u001b[0m                         Traceback (most recent call last)",
      "Cell \u001b[1;32mIn[16], line 3\u001b[0m\n\u001b[0;32m      1\u001b[0m i \u001b[39m=\u001b[39m \u001b[39m0\u001b[39m\n\u001b[0;32m      2\u001b[0m \u001b[39mfor\u001b[39;00m index, row \u001b[39min\u001b[39;00m user_df\u001b[39m.\u001b[39miterrows():\n\u001b[1;32m----> 3\u001b[0m     \u001b[39mif\u001b[39;00m \u001b[39mlen\u001b[39m(row[\u001b[39m\"\u001b[39;49m\u001b[39mcourse_order\u001b[39;49m\u001b[39m\"\u001b[39;49m])\u001b[39m>\u001b[39m\u001b[39m7\u001b[39m \u001b[39mand\u001b[39;00m i\u001b[39m<\u001b[39m\u001b[39m3\u001b[39m:\n\u001b[0;32m      4\u001b[0m         i \u001b[39m+\u001b[39m\u001b[39m=\u001b[39m\u001b[39m1\u001b[39m\n\u001b[0;32m      5\u001b[0m         \u001b[39mprint\u001b[39m(row[\u001b[39m\"\u001b[39m\u001b[39mcourse_order\u001b[39m\u001b[39m\"\u001b[39m])\n",
      "File \u001b[1;32mc:\\Users\\s.pardob\\OneDrive - Universidad de los Andes\\Escritorio\\8-semestre\\Tesis\\venv\\lib\\site-packages\\pandas\\core\\series.py:994\u001b[0m, in \u001b[0;36mSeries.__getitem__\u001b[1;34m(self, key)\u001b[0m\n\u001b[0;32m    992\u001b[0m \u001b[39mdef\u001b[39;00m \u001b[39m__getitem__\u001b[39m(\u001b[39mself\u001b[39m, key):\n\u001b[0;32m    993\u001b[0m     check_dict_or_set_indexers(key)\n\u001b[1;32m--> 994\u001b[0m     key \u001b[39m=\u001b[39m com\u001b[39m.\u001b[39;49mapply_if_callable(key, \u001b[39mself\u001b[39;49m)\n\u001b[0;32m    996\u001b[0m     \u001b[39mif\u001b[39;00m key \u001b[39mis\u001b[39;00m \u001b[39mEllipsis\u001b[39m:\n\u001b[0;32m    997\u001b[0m         \u001b[39mreturn\u001b[39;00m \u001b[39mself\u001b[39m\n",
      "\u001b[1;31mKeyboardInterrupt\u001b[0m: "
     ]
    }
   ],
   "source": [
    "i = 0\n",
    "for index, row in user_df.iterrows():\n",
    "    if len(row[\"course_order\"])>7 and i<3:\n",
    "        i +=1\n",
    "        print(row[\"course_order\"])\n",
    "    "
   ]
  },
  {
   "cell_type": "markdown",
   "metadata": {},
   "source": [
    "## Video"
   ]
  },
  {
   "cell_type": "code",
   "execution_count": 36,
   "metadata": {},
   "outputs": [],
   "source": [
    "video_df = pd.read_json(\"../data/MOOCCube/entities/video.json\",lines=True)"
   ]
  },
  {
   "cell_type": "code",
   "execution_count": 37,
   "metadata": {},
   "outputs": [
    {
     "data": {
      "text/plain": [
       "(38181, 5)"
      ]
     },
     "execution_count": 37,
     "metadata": {},
     "output_type": "execute_result"
    }
   ],
   "source": [
    "video_df.shapet"
   ]
  },
  {
   "cell_type": "code",
   "execution_count": 38,
   "metadata": {},
   "outputs": [
    {
     "data": {
      "text/html": [
       "<div>\n",
       "<style scoped>\n",
       "    .dataframe tbody tr th:only-of-type {\n",
       "        vertical-align: middle;\n",
       "    }\n",
       "\n",
       "    .dataframe tbody tr th {\n",
       "        vertical-align: top;\n",
       "    }\n",
       "\n",
       "    .dataframe thead th {\n",
       "        text-align: right;\n",
       "    }\n",
       "</style>\n",
       "<table border=\"1\" class=\"dataframe\">\n",
       "  <thead>\n",
       "    <tr style=\"text-align: right;\">\n",
       "      <th></th>\n",
       "      <th>id</th>\n",
       "      <th>name</th>\n",
       "      <th>start</th>\n",
       "      <th>end</th>\n",
       "      <th>text</th>\n",
       "    </tr>\n",
       "  </thead>\n",
       "  <tbody>\n",
       "    <tr>\n",
       "      <th>35846</th>\n",
       "      <td>V_068f4172eaf74038b76e1df4dff4fcc2</td>\n",
       "      <td>病例对照研究设计与实施</td>\n",
       "      <td>[14600, 15600, 18986, 20550, 22975, 24851, 283...</td>\n",
       "      <td>[15600, 18802, 20550, 22825, 24851, 26850, 304...</td>\n",
       "      <td>[大家好, 我是中南大学湘雅公共卫生学院的李杏莉, 今天我们要介绍的是, 病例对照研究的设计...</td>\n",
       "    </tr>\n",
       "    <tr>\n",
       "      <th>29428</th>\n",
       "      <td>V_459e23b64d0845e8af212cc806c5bb92</td>\n",
       "      <td>9.4  极限与配合</td>\n",
       "      <td>[17120, 18060, 21760, 23940, 27780, 29580, 333...</td>\n",
       "      <td>[18060, 21760, 23320, 27780, 29580, 33000, 375...</td>\n",
       "      <td>[同学们好, 这一节我们学习零件图中的技术要求, 极限与配合, 极限与配合是零件图和装配图中...</td>\n",
       "    </tr>\n",
       "    <tr>\n",
       "      <th>4816</th>\n",
       "      <td>V_d771400665e747498e669e417d54c02e</td>\n",
       "      <td>Video</td>\n",
       "      <td>[20596, 22498, 25119, 30262, 36919, 40250, 424...</td>\n",
       "      <td>[22298, 24919, 30062, 33229, 40050, 42221, 441...</td>\n",
       "      <td>[大家好, 生态系统是这门课的重点, 这一讲主要介绍森林生态系统和湿地生态系统, 我们首先来...</td>\n",
       "    </tr>\n",
       "    <tr>\n",
       "      <th>36505</th>\n",
       "      <td>V_c1833820d0ef4e68bac788d12449ce15</td>\n",
       "      <td>Video_CHAPTER 32 硅铍石</td>\n",
       "      <td>[15000, 21760, 26360, 31080, 33320, 37080, 394...</td>\n",
       "      <td>[21720, 26320, 31040, 33280, 37040, 39440, 427...</td>\n",
       "      <td>[下一种硅铍石 矿物名称就是硅铍石, 它是一种铍的硅酸盐, 硅铍石的形态呢通常是柱状的, 也...</td>\n",
       "    </tr>\n",
       "    <tr>\n",
       "      <th>21461</th>\n",
       "      <td>V_ec692d4cd3a34bdc9313063d5d1c12f3</td>\n",
       "      <td>六、人物写生-6.2 铅笔写生-单元-Video</td>\n",
       "      <td>NaN</td>\n",
       "      <td>NaN</td>\n",
       "      <td>NaN</td>\n",
       "    </tr>\n",
       "  </tbody>\n",
       "</table>\n",
       "</div>"
      ],
      "text/plain": [
       "                                       id                      name  \\\n",
       "35846  V_068f4172eaf74038b76e1df4dff4fcc2               病例对照研究设计与实施   \n",
       "29428  V_459e23b64d0845e8af212cc806c5bb92                9.4  极限与配合   \n",
       "4816   V_d771400665e747498e669e417d54c02e                     Video   \n",
       "36505  V_c1833820d0ef4e68bac788d12449ce15      Video_CHAPTER 32 硅铍石   \n",
       "21461  V_ec692d4cd3a34bdc9313063d5d1c12f3  六、人物写生-6.2 铅笔写生-单元-Video   \n",
       "\n",
       "                                                   start  \\\n",
       "35846  [14600, 15600, 18986, 20550, 22975, 24851, 283...   \n",
       "29428  [17120, 18060, 21760, 23940, 27780, 29580, 333...   \n",
       "4816   [20596, 22498, 25119, 30262, 36919, 40250, 424...   \n",
       "36505  [15000, 21760, 26360, 31080, 33320, 37080, 394...   \n",
       "21461                                                NaN   \n",
       "\n",
       "                                                     end  \\\n",
       "35846  [15600, 18802, 20550, 22825, 24851, 26850, 304...   \n",
       "29428  [18060, 21760, 23320, 27780, 29580, 33000, 375...   \n",
       "4816   [22298, 24919, 30062, 33229, 40050, 42221, 441...   \n",
       "36505  [21720, 26320, 31040, 33280, 37040, 39440, 427...   \n",
       "21461                                                NaN   \n",
       "\n",
       "                                                    text  \n",
       "35846  [大家好, 我是中南大学湘雅公共卫生学院的李杏莉, 今天我们要介绍的是, 病例对照研究的设计...  \n",
       "29428  [同学们好, 这一节我们学习零件图中的技术要求, 极限与配合, 极限与配合是零件图和装配图中...  \n",
       "4816   [大家好, 生态系统是这门课的重点, 这一讲主要介绍森林生态系统和湿地生态系统, 我们首先来...  \n",
       "36505  [下一种硅铍石 矿物名称就是硅铍石, 它是一种铍的硅酸盐, 硅铍石的形态呢通常是柱状的, 也...  \n",
       "21461                                                NaN  "
      ]
     },
     "execution_count": 38,
     "metadata": {},
     "output_type": "execute_result"
    }
   ],
   "source": [
    "video_df.sample(5)"
   ]
  }
 ],
 "metadata": {
  "kernelspec": {
   "display_name": "venv",
   "language": "python",
   "name": "python3"
  },
  "language_info": {
   "codemirror_mode": {
    "name": "ipython",
    "version": 3
   },
   "file_extension": ".py",
   "mimetype": "text/x-python",
   "name": "python",
   "nbconvert_exporter": "python",
   "pygments_lexer": "ipython3",
   "version": "3.10.11"
  },
  "orig_nbformat": 4
 },
 "nbformat": 4,
 "nbformat_minor": 2
}
