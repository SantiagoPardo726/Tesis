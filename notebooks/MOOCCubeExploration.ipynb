{
 "cells": [
  {
   "cell_type": "code",
   "execution_count": 2,
   "metadata": {},
   "outputs": [
    {
     "name": "stderr",
     "output_type": "stream",
     "text": [
      "c:\\Users\\santi\\Documents\\GitHub\\Tesis\\venv\\Lib\\site-packages\\tqdm\\auto.py:21: TqdmWarning: IProgress not found. Please update jupyter and ipywidgets. See https://ipywidgets.readthedocs.io/en/stable/user_install.html\n",
      "  from .autonotebook import tqdm as notebook_tqdm\n"
     ]
    }
   ],
   "source": [
    "import pandas as pd\n",
    "import re\n",
    "from bs4 import BeautifulSoup\n",
    "from sentence_transformers import SentenceTransformer"
   ]
  },
  {
   "cell_type": "markdown",
   "metadata": {},
   "source": [
    "Redes neuronales basdas en grafos"
   ]
  },
  {
   "cell_type": "markdown",
   "metadata": {},
   "source": [
    "# Entities Exploration"
   ]
  },
  {
   "cell_type": "markdown",
   "metadata": {},
   "source": [
    "## Concept"
   ]
  },
  {
   "cell_type": "code",
   "execution_count": 3,
   "metadata": {},
   "outputs": [],
   "source": [
    "concept_df = pd.read_json(\"../data/MOOCCube/entities/concept.json\",lines=True)"
   ]
  },
  {
   "cell_type": "code",
   "execution_count": 4,
   "metadata": {},
   "outputs": [
    {
     "data": {
      "text/plain": [
       "(114563, 4)"
      ]
     },
     "execution_count": 4,
     "metadata": {},
     "output_type": "execute_result"
    }
   ],
   "source": [
    "concept_df.shape"
   ]
  },
  {
   "cell_type": "code",
   "execution_count": 5,
   "metadata": {},
   "outputs": [
    {
     "data": {
      "text/html": [
       "<div>\n",
       "<style scoped>\n",
       "    .dataframe tbody tr th:only-of-type {\n",
       "        vertical-align: middle;\n",
       "    }\n",
       "\n",
       "    .dataframe tbody tr th {\n",
       "        vertical-align: top;\n",
       "    }\n",
       "\n",
       "    .dataframe thead th {\n",
       "        text-align: right;\n",
       "    }\n",
       "</style>\n",
       "<table border=\"1\" class=\"dataframe\">\n",
       "  <thead>\n",
       "    <tr style=\"text-align: right;\">\n",
       "      <th></th>\n",
       "      <th>id</th>\n",
       "      <th>name</th>\n",
       "      <th>en</th>\n",
       "      <th>explanation</th>\n",
       "    </tr>\n",
       "  </thead>\n",
       "  <tbody>\n",
       "    <tr>\n",
       "      <th>93735</th>\n",
       "      <td>K_奖金制_管理科学技术</td>\n",
       "      <td>奖金制</td>\n",
       "      <td>premium plan</td>\n",
       "      <td>学科：管理科学技术_组织行为与人力资源管理_薪酬管理 定义：给予达到工作目标的员工事先设定的...</td>\n",
       "    </tr>\n",
       "    <tr>\n",
       "      <th>42165</th>\n",
       "      <td>K_走读生_教育学</td>\n",
       "      <td>走读生</td>\n",
       "      <td>non-resident student</td>\n",
       "      <td>学科：教育学_高等教育_高校招生与培养 定义：按规定在校修学但不在学校住宿的学生。 见载：《...</td>\n",
       "    </tr>\n",
       "    <tr>\n",
       "      <th>7054</th>\n",
       "      <td>K_土壤改良_农学</td>\n",
       "      <td>土壤改良</td>\n",
       "      <td>soil amelioration</td>\n",
       "      <td>学科：农学_土地、土壤与肥料 英文：soil amelioration ;soil impr...</td>\n",
       "    </tr>\n",
       "    <tr>\n",
       "      <th>87944</th>\n",
       "      <td>K_磁稳定性_电气工程</td>\n",
       "      <td>磁稳定性</td>\n",
       "      <td>magnetic stability</td>\n",
       "      <td>学科：电气工程_磁性材料 见载：《电气工程名词》第一版</td>\n",
       "    </tr>\n",
       "    <tr>\n",
       "      <th>62876</th>\n",
       "      <td>K_滚道中部_机械工程</td>\n",
       "      <td>滚道中部</td>\n",
       "      <td>middle raceway</td>\n",
       "      <td>学科：机械工程_机械零件与传动 _机械零件 _滚动轴承 定义：滚道表面上，滚道两边缘间的中点...</td>\n",
       "    </tr>\n",
       "  </tbody>\n",
       "</table>\n",
       "</div>"
      ],
      "text/plain": [
       "                 id  name                    en  \\\n",
       "93735  K_奖金制_管理科学技术   奖金制          premium plan   \n",
       "42165     K_走读生_教育学   走读生  non-resident student   \n",
       "7054      K_土壤改良_农学  土壤改良     soil amelioration   \n",
       "87944   K_磁稳定性_电气工程  磁稳定性    magnetic stability   \n",
       "62876   K_滚道中部_机械工程  滚道中部        middle raceway   \n",
       "\n",
       "                                             explanation  \n",
       "93735  学科：管理科学技术_组织行为与人力资源管理_薪酬管理 定义：给予达到工作目标的员工事先设定的...  \n",
       "42165  学科：教育学_高等教育_高校招生与培养 定义：按规定在校修学但不在学校住宿的学生。 见载：《...  \n",
       "7054   学科：农学_土地、土壤与肥料 英文：soil amelioration ;soil impr...  \n",
       "87944                        学科：电气工程_磁性材料 见载：《电气工程名词》第一版  \n",
       "62876  学科：机械工程_机械零件与传动 _机械零件 _滚动轴承 定义：滚道表面上，滚道两边缘间的中点...  "
      ]
     },
     "execution_count": 5,
     "metadata": {},
     "output_type": "execute_result"
    }
   ],
   "source": [
    "concept_df.sample(5)"
   ]
  },
  {
   "cell_type": "markdown",
   "metadata": {},
   "source": [
    "## Course"
   ]
  },
  {
   "cell_type": "code",
   "execution_count": 6,
   "metadata": {},
   "outputs": [],
   "source": [
    "course_df = pd.read_json(\"../data/MOOCCube/entities/course.json\",lines=True)"
   ]
  },
  {
   "cell_type": "code",
   "execution_count": 7,
   "metadata": {},
   "outputs": [
    {
     "data": {
      "text/plain": [
       "(706, 8)"
      ]
     },
     "execution_count": 7,
     "metadata": {},
     "output_type": "execute_result"
    }
   ],
   "source": [
    "course_df.shape"
   ]
  },
  {
   "cell_type": "code",
   "execution_count": 8,
   "metadata": {},
   "outputs": [
    {
     "data": {
      "text/html": [
       "<div>\n",
       "<style scoped>\n",
       "    .dataframe tbody tr th:only-of-type {\n",
       "        vertical-align: middle;\n",
       "    }\n",
       "\n",
       "    .dataframe tbody tr th {\n",
       "        vertical-align: top;\n",
       "    }\n",
       "\n",
       "    .dataframe thead th {\n",
       "        text-align: right;\n",
       "    }\n",
       "</style>\n",
       "<table border=\"1\" class=\"dataframe\">\n",
       "  <thead>\n",
       "    <tr style=\"text-align: right;\">\n",
       "      <th></th>\n",
       "      <th>id</th>\n",
       "      <th>name</th>\n",
       "      <th>prerequisites</th>\n",
       "      <th>about</th>\n",
       "      <th>core_id</th>\n",
       "      <th>video_order</th>\n",
       "      <th>display_name</th>\n",
       "      <th>chapter</th>\n",
       "    </tr>\n",
       "  </thead>\n",
       "  <tbody>\n",
       "    <tr>\n",
       "      <th>342</th>\n",
       "      <td>C_course-v1:TsinghuaX+00670122X+2019_T1</td>\n",
       "      <td>现代生活美学——插花之道（2019春）</td>\n",
       "      <td>本课程为文化素质基础课，无先修要求</td>\n",
       "      <td>&lt;p&gt;\\r\\n\\t&lt;span&gt;中国文人生活的厅堂之雅，在宋代已形成“文人四艺”的琴棋书画，和...</td>\n",
       "      <td>C_course-v1:TsinghuaX+00670122X+sp</td>\n",
       "      <td>[V_9b1c33ae4e6b4ff899d2daa65a4ae24f, V_8fe865b...</td>\n",
       "      <td>[相忘于山水, 为什么需要生活美学, 生活美学微访谈, 课程结构与内容, 其他学习建议, 任...</td>\n",
       "      <td>[01.01.01.01, 01.02.01.01, 01.03.01.01, 01.04....</td>\n",
       "    </tr>\n",
       "    <tr>\n",
       "      <th>467</th>\n",
       "      <td>C_course-v1:TsinghuaX+40260173X+2019_T1</td>\n",
       "      <td>数字集成电路分析与设计（2019春）</td>\n",
       "      <td>电路原理和数字逻辑电路的基本概念是必须的。半导体器件最好懂一点，但不用太多。当然，简单的微积...</td>\n",
       "      <td>&lt;p&gt;本课程主要从晶体管级和电路级讲授数字集成电路的分析与设计。以CMOS集成电路为主，从回...</td>\n",
       "      <td>C_course-v1:TsinghuaX+40260173X+2019_T1</td>\n",
       "      <td>[V_a9e3bf31379f4bb192088855eeb8d8ba, V_41f2d4a...</td>\n",
       "      <td>[Video, Video, Video, Video, Video, Video, Vid...</td>\n",
       "      <td>[02.01.01.01, 02.02.01.01, 02.03.01.01, 02.04....</td>\n",
       "    </tr>\n",
       "    <tr>\n",
       "      <th>388</th>\n",
       "      <td>C_course-v1:TsinghuaX+60250131X+2019_T1</td>\n",
       "      <td>大数据科学与应用系列讲座（2019春）</td>\n",
       "      <td>无先修知识</td>\n",
       "      <td>&lt;p&gt;\\n\\t本课程以一系列大数据讲座为主线，突出实战性，激发学生学习兴趣和动力，促进学生理...</td>\n",
       "      <td>C_course-v1:TsinghuaX+60250131X+2019_T1</td>\n",
       "      <td>[V_e0bf09d7ea894e059601cf1d56b1a350, V_3008230...</td>\n",
       "      <td>[视频, 数据思维方式的改变, 数据的假设与采集, 数据的准备, 数据的分析, 数据的解释与...</td>\n",
       "      <td>[01.01.01.01, 02.01.01.01, 02.02.01.01, 02.03....</td>\n",
       "    </tr>\n",
       "    <tr>\n",
       "      <th>253</th>\n",
       "      <td>C_course-v1:CCI+ccioo1+2018_T3</td>\n",
       "      <td>医疗器械与医学创新</td>\n",
       "      <td>无</td>\n",
       "      <td>为支持公益性医疗事业的发展，完善医学知识体系，向广大在校学生和社会学习者以及医疗工作者传递心...</td>\n",
       "      <td>C_course-v1:CCI+ccioo1+2018_T3</td>\n",
       "      <td>[V_95843b3ed8894e519804ba7567a10a29, V_6f8f321...</td>\n",
       "      <td>[心血管介入创新发展史, 心血管创新的现状和机遇, 全球化与创新, 全球化与创新（2）, 发...</td>\n",
       "      <td>[01.01.01.01, 01.01.02.01, 01.02.01.01, 01.02....</td>\n",
       "    </tr>\n",
       "    <tr>\n",
       "      <th>239</th>\n",
       "      <td>C_course-v1:JNU+07009188+2018_T2</td>\n",
       "      <td>力学与现代生活——开启科学人生</td>\n",
       "      <td>无</td>\n",
       "      <td>&lt;p&gt;\\n\\t力学是古老而又年轻的专业学科，在整个人类科学与技术发展历史中起着重要的支撑作用...</td>\n",
       "      <td>C_course-v1:JNU+07009188+2018_T2</td>\n",
       "      <td>[V_bb8e3df8959c4aa1a3c5d4dcd7e9a29c, V_51413bc...</td>\n",
       "      <td>[Video, Video, Video, Video, Video, Video, Vid...</td>\n",
       "      <td>[01.01.01.01, 01.02.01.01, 01.03.01.01, 01.05....</td>\n",
       "    </tr>\n",
       "  </tbody>\n",
       "</table>\n",
       "</div>"
      ],
      "text/plain": [
       "                                          id                 name  \\\n",
       "342  C_course-v1:TsinghuaX+00670122X+2019_T1  现代生活美学——插花之道（2019春）   \n",
       "467  C_course-v1:TsinghuaX+40260173X+2019_T1   数字集成电路分析与设计（2019春）   \n",
       "388  C_course-v1:TsinghuaX+60250131X+2019_T1  大数据科学与应用系列讲座（2019春）   \n",
       "253           C_course-v1:CCI+ccioo1+2018_T3            医疗器械与医学创新   \n",
       "239         C_course-v1:JNU+07009188+2018_T2      力学与现代生活——开启科学人生   \n",
       "\n",
       "                                         prerequisites  \\\n",
       "342                                  本课程为文化素质基础课，无先修要求   \n",
       "467  电路原理和数字逻辑电路的基本概念是必须的。半导体器件最好懂一点，但不用太多。当然，简单的微积...   \n",
       "388                                              无先修知识   \n",
       "253                                                  无   \n",
       "239                                                  无   \n",
       "\n",
       "                                                 about  \\\n",
       "342  <p>\\r\\n\\t<span>中国文人生活的厅堂之雅，在宋代已形成“文人四艺”的琴棋书画，和...   \n",
       "467  <p>本课程主要从晶体管级和电路级讲授数字集成电路的分析与设计。以CMOS集成电路为主，从回...   \n",
       "388  <p>\\n\\t本课程以一系列大数据讲座为主线，突出实战性，激发学生学习兴趣和动力，促进学生理...   \n",
       "253  为支持公益性医疗事业的发展，完善医学知识体系，向广大在校学生和社会学习者以及医疗工作者传递心...   \n",
       "239  <p>\\n\\t力学是古老而又年轻的专业学科，在整个人类科学与技术发展历史中起着重要的支撑作用...   \n",
       "\n",
       "                                     core_id  \\\n",
       "342       C_course-v1:TsinghuaX+00670122X+sp   \n",
       "467  C_course-v1:TsinghuaX+40260173X+2019_T1   \n",
       "388  C_course-v1:TsinghuaX+60250131X+2019_T1   \n",
       "253           C_course-v1:CCI+ccioo1+2018_T3   \n",
       "239         C_course-v1:JNU+07009188+2018_T2   \n",
       "\n",
       "                                           video_order  \\\n",
       "342  [V_9b1c33ae4e6b4ff899d2daa65a4ae24f, V_8fe865b...   \n",
       "467  [V_a9e3bf31379f4bb192088855eeb8d8ba, V_41f2d4a...   \n",
       "388  [V_e0bf09d7ea894e059601cf1d56b1a350, V_3008230...   \n",
       "253  [V_95843b3ed8894e519804ba7567a10a29, V_6f8f321...   \n",
       "239  [V_bb8e3df8959c4aa1a3c5d4dcd7e9a29c, V_51413bc...   \n",
       "\n",
       "                                          display_name  \\\n",
       "342  [相忘于山水, 为什么需要生活美学, 生活美学微访谈, 课程结构与内容, 其他学习建议, 任...   \n",
       "467  [Video, Video, Video, Video, Video, Video, Vid...   \n",
       "388  [视频, 数据思维方式的改变, 数据的假设与采集, 数据的准备, 数据的分析, 数据的解释与...   \n",
       "253  [心血管介入创新发展史, 心血管创新的现状和机遇, 全球化与创新, 全球化与创新（2）, 发...   \n",
       "239  [Video, Video, Video, Video, Video, Video, Vid...   \n",
       "\n",
       "                                               chapter  \n",
       "342  [01.01.01.01, 01.02.01.01, 01.03.01.01, 01.04....  \n",
       "467  [02.01.01.01, 02.02.01.01, 02.03.01.01, 02.04....  \n",
       "388  [01.01.01.01, 02.01.01.01, 02.02.01.01, 02.03....  \n",
       "253  [01.01.01.01, 01.01.02.01, 01.02.01.01, 01.02....  \n",
       "239  [01.01.01.01, 01.02.01.01, 01.03.01.01, 01.05....  "
      ]
     },
     "execution_count": 8,
     "metadata": {},
     "output_type": "execute_result"
    }
   ],
   "source": [
    "course_df.sample(5)"
   ]
  },
  {
   "cell_type": "code",
   "execution_count": 9,
   "metadata": {},
   "outputs": [
    {
     "data": {
      "text/html": [
       "<div>\n",
       "<style scoped>\n",
       "    .dataframe tbody tr th:only-of-type {\n",
       "        vertical-align: middle;\n",
       "    }\n",
       "\n",
       "    .dataframe tbody tr th {\n",
       "        vertical-align: top;\n",
       "    }\n",
       "\n",
       "    .dataframe thead th {\n",
       "        text-align: right;\n",
       "    }\n",
       "</style>\n",
       "<table border=\"1\" class=\"dataframe\">\n",
       "  <thead>\n",
       "    <tr style=\"text-align: right;\">\n",
       "      <th></th>\n",
       "      <th>id</th>\n",
       "      <th>name</th>\n",
       "      <th>prerequisites</th>\n",
       "      <th>about</th>\n",
       "      <th>core_id</th>\n",
       "      <th>video_order</th>\n",
       "      <th>display_name</th>\n",
       "      <th>chapter</th>\n",
       "    </tr>\n",
       "  </thead>\n",
       "  <tbody>\n",
       "    <tr>\n",
       "      <th>290</th>\n",
       "      <td>C_course-v1:YLVTC+2018111301X+2018_T2</td>\n",
       "      <td>市场营销技能</td>\n",
       "      <td>无</td>\n",
       "      <td>本课程以企业市场营销活动过程为导向，力图综合描绘市场营销的核心理念与基本技能框架。课程以消费...</td>\n",
       "      <td>C_course-v1:YLVTC+2018111301X+2018_T2</td>\n",
       "      <td>[V_6457fa48e8024860a9824e085c612432, V_39f4e5a...</td>\n",
       "      <td>[从肯德基飞进北京城认识营销活动, 观看视频学徒认识营销活动, 市场营销的涵义及其相关概念,...</td>\n",
       "      <td>[01.02.01.01, 01.02.02.01, 01.03.01.01, 01.03....</td>\n",
       "    </tr>\n",
       "    <tr>\n",
       "      <th>12</th>\n",
       "      <td>C_course-v1:TsinghuaX+70120073X+sp</td>\n",
       "      <td>有限元分析及应用（自主模式）</td>\n",
       "      <td>如果学生先期学习过材料力学、弹性力学等相关课程，将有助于本课程的学习，但这并非必须。</td>\n",
       "      <td>有限元方法(finite element method)：基于数学力学原理，采用计算机信息化...</td>\n",
       "      <td>C_course-v1:TsinghuaX+70120073X+sp</td>\n",
       "      <td>[V_5b0bb6cd9b6344649a2e22bbad958052, V_a09e0ca...</td>\n",
       "      <td>[Video, Video 1.1, Video 1.2, Video 1.3, Video...</td>\n",
       "      <td>[01.01.01.01, 02.01.01.01, 02.02.01.01, 02.03....</td>\n",
       "    </tr>\n",
       "    <tr>\n",
       "      <th>484</th>\n",
       "      <td>C_course-v1:TsinghuaX+30640014X+2019_T1</td>\n",
       "      <td>生活英语听说（2019春）</td>\n",
       "      <td>无先修要求，适用于任何人群。已掌握英语字母的读写和基本发音规律的初级学习者亦可学习。</td>\n",
       "      <td>语言最重要的功能就是交流。在交流中我们要知道如何开始一个对方感兴趣的话题，回答别人的提问，自...</td>\n",
       "      <td>C_course-v1:TsinghuaX+30640014X+sp</td>\n",
       "      <td>[V_d11e19d5fabe4e38b8b908ff0839c123, V_98209e8...</td>\n",
       "      <td>[Introduction, Text, Useful Words and Expressi...</td>\n",
       "      <td>[02.01.01.02, 02.02.01.02, 02.03.01.02, 02.04....</td>\n",
       "    </tr>\n",
       "    <tr>\n",
       "      <th>588</th>\n",
       "      <td>C_course-v1:CSU+2018020201X+2019_T1</td>\n",
       "      <td>主题英语（2019春）</td>\n",
       "      <td>无</td>\n",
       "      <td>本课程是大学生提升国际视野和跨文化交流能力的有益阶梯！本课程按主题分模块与你共同探讨英语学习...</td>\n",
       "      <td>C_course-v1:CSU+2018020201X+sp</td>\n",
       "      <td>[V_a1b0e1d042bf4244808e768c93112705, V_424bda4...</td>\n",
       "      <td>[Video, Video, Video, Video, Video, Video, Vid...</td>\n",
       "      <td>[01.01.01.01, 01.02.01.01, 01.03.01.01, 01.04....</td>\n",
       "    </tr>\n",
       "    <tr>\n",
       "      <th>35</th>\n",
       "      <td>C_course-v1:MicrosoftX+Microsoft101+sp</td>\n",
       "      <td>微软亚洲研究院大数据系列讲座（自主模式）</td>\n",
       "      <td>建议高年级本科生和研究生学习</td>\n",
       "      <td>计算机科学正在前所未有的影响着我们的生活，它令我们的生活更加简单方便、更为丰富充实。依托于计...</td>\n",
       "      <td>C_course-v1:MicrosoftX+Microsoft101+sp</td>\n",
       "      <td>[V_67b0853125c1452680fb0f9b18f6f489, V_ac16660...</td>\n",
       "      <td>[什么是大数据(What is big data?), 为什么大数据是当前热点（Why bi...</td>\n",
       "      <td>[01.01.01.01, 01.02.01.01, 01.03.01.01, 01.04....</td>\n",
       "    </tr>\n",
       "  </tbody>\n",
       "</table>\n",
       "</div>"
      ],
      "text/plain": [
       "                                          id                  name  \\\n",
       "290    C_course-v1:YLVTC+2018111301X+2018_T2                市场营销技能   \n",
       "12        C_course-v1:TsinghuaX+70120073X+sp        有限元分析及应用（自主模式）   \n",
       "484  C_course-v1:TsinghuaX+30640014X+2019_T1         生活英语听说（2019春）   \n",
       "588      C_course-v1:CSU+2018020201X+2019_T1           主题英语（2019春）   \n",
       "35    C_course-v1:MicrosoftX+Microsoft101+sp  微软亚洲研究院大数据系列讲座（自主模式）   \n",
       "\n",
       "                                  prerequisites  \\\n",
       "290                                           无   \n",
       "12   如果学生先期学习过材料力学、弹性力学等相关课程，将有助于本课程的学习，但这并非必须。   \n",
       "484  无先修要求，适用于任何人群。已掌握英语字母的读写和基本发音规律的初级学习者亦可学习。   \n",
       "588                                           无   \n",
       "35                               建议高年级本科生和研究生学习   \n",
       "\n",
       "                                                 about  \\\n",
       "290  本课程以企业市场营销活动过程为导向，力图综合描绘市场营销的核心理念与基本技能框架。课程以消费...   \n",
       "12   有限元方法(finite element method)：基于数学力学原理，采用计算机信息化...   \n",
       "484  语言最重要的功能就是交流。在交流中我们要知道如何开始一个对方感兴趣的话题，回答别人的提问，自...   \n",
       "588  本课程是大学生提升国际视野和跨文化交流能力的有益阶梯！本课程按主题分模块与你共同探讨英语学习...   \n",
       "35   计算机科学正在前所未有的影响着我们的生活，它令我们的生活更加简单方便、更为丰富充实。依托于计...   \n",
       "\n",
       "                                    core_id  \\\n",
       "290   C_course-v1:YLVTC+2018111301X+2018_T2   \n",
       "12       C_course-v1:TsinghuaX+70120073X+sp   \n",
       "484      C_course-v1:TsinghuaX+30640014X+sp   \n",
       "588          C_course-v1:CSU+2018020201X+sp   \n",
       "35   C_course-v1:MicrosoftX+Microsoft101+sp   \n",
       "\n",
       "                                           video_order  \\\n",
       "290  [V_6457fa48e8024860a9824e085c612432, V_39f4e5a...   \n",
       "12   [V_5b0bb6cd9b6344649a2e22bbad958052, V_a09e0ca...   \n",
       "484  [V_d11e19d5fabe4e38b8b908ff0839c123, V_98209e8...   \n",
       "588  [V_a1b0e1d042bf4244808e768c93112705, V_424bda4...   \n",
       "35   [V_67b0853125c1452680fb0f9b18f6f489, V_ac16660...   \n",
       "\n",
       "                                          display_name  \\\n",
       "290  [从肯德基飞进北京城认识营销活动, 观看视频学徒认识营销活动, 市场营销的涵义及其相关概念,...   \n",
       "12   [Video, Video 1.1, Video 1.2, Video 1.3, Video...   \n",
       "484  [Introduction, Text, Useful Words and Expressi...   \n",
       "588  [Video, Video, Video, Video, Video, Video, Vid...   \n",
       "35   [什么是大数据(What is big data?), 为什么大数据是当前热点（Why bi...   \n",
       "\n",
       "                                               chapter  \n",
       "290  [01.02.01.01, 01.02.02.01, 01.03.01.01, 01.03....  \n",
       "12   [01.01.01.01, 02.01.01.01, 02.02.01.01, 02.03....  \n",
       "484  [02.01.01.02, 02.02.01.02, 02.03.01.02, 02.04....  \n",
       "588  [01.01.01.01, 01.02.01.01, 01.03.01.01, 01.04....  \n",
       "35   [01.01.01.01, 01.02.01.01, 01.03.01.01, 01.04....  "
      ]
     },
     "execution_count": 9,
     "metadata": {},
     "output_type": "execute_result"
    }
   ],
   "source": [
    "def remove_html_and_carriage_returns(text):\n",
    "    soup = BeautifulSoup(text, \"html.parser\")\n",
    "    text_without_html = soup.get_text().replace(\"\\n\",\"\").replace(\"\\r\",\"\").replace(\"\\t\",\"\")\n",
    "    \n",
    "    return text_without_html\n",
    "\n",
    "course_df[\"about\"] = course_df[\"about\"].apply(remove_html_and_carriage_returns)\n",
    "course_df.sample(5)"
   ]
  },
  {
   "cell_type": "code",
   "execution_count": 10,
   "metadata": {},
   "outputs": [],
   "source": [
    "# sentences = []\n",
    "# course_ids = [] \n",
    "# for index, row in course_df.iterrows():\n",
    "#     course_ids.append(row[\"id\"])\n",
    "#     sentences.append(row[\"about\"])\n",
    "# model = SentenceTransformer('sentence-transformers/distiluse-base-multilingual-cased-v1')\n",
    "# embeddings = model.encode(sentences)\n"
   ]
  },
  {
   "cell_type": "code",
   "execution_count": 11,
   "metadata": {},
   "outputs": [],
   "source": [
    "# course_df = course_df.explode('video_order').reset_index()\n",
    "# course_df.head(5)"
   ]
  },
  {
   "cell_type": "code",
   "execution_count": 12,
   "metadata": {},
   "outputs": [],
   "source": [
    "# course_df = course_df.drop('index', axis=1)\n",
    "# course_df.head(5)"
   ]
  },
  {
   "cell_type": "markdown",
   "metadata": {},
   "source": [
    "## Papers"
   ]
  },
  {
   "cell_type": "code",
   "execution_count": 13,
   "metadata": {},
   "outputs": [],
   "source": [
    "paper_df = pd.read_json(\"../data/MOOCCube/entities/paper.json\",lines=True)"
   ]
  },
  {
   "cell_type": "code",
   "execution_count": 14,
   "metadata": {},
   "outputs": [
    {
     "data": {
      "text/plain": [
       "(679790, 14)"
      ]
     },
     "execution_count": 14,
     "metadata": {},
     "output_type": "execute_result"
    }
   ],
   "source": [
    "paper_df.shape"
   ]
  },
  {
   "cell_type": "code",
   "execution_count": 15,
   "metadata": {},
   "outputs": [
    {
     "data": {
      "text/html": [
       "<div>\n",
       "<style scoped>\n",
       "    .dataframe tbody tr th:only-of-type {\n",
       "        vertical-align: middle;\n",
       "    }\n",
       "\n",
       "    .dataframe tbody tr th {\n",
       "        vertical-align: top;\n",
       "    }\n",
       "\n",
       "    .dataframe thead th {\n",
       "        text-align: right;\n",
       "    }\n",
       "</style>\n",
       "<table border=\"1\" class=\"dataframe\">\n",
       "  <thead>\n",
       "    <tr style=\"text-align: right;\">\n",
       "      <th></th>\n",
       "      <th>id</th>\n",
       "      <th>name</th>\n",
       "      <th>abstract</th>\n",
       "      <th>authors</th>\n",
       "      <th>doi</th>\n",
       "      <th>lang</th>\n",
       "      <th>num_citation</th>\n",
       "      <th>pdf</th>\n",
       "      <th>sourcetype</th>\n",
       "      <th>title</th>\n",
       "      <th>venue</th>\n",
       "      <th>year</th>\n",
       "      <th>pages</th>\n",
       "      <th>urls</th>\n",
       "    </tr>\n",
       "  </thead>\n",
       "  <tbody>\n",
       "    <tr>\n",
       "      <th>382178</th>\n",
       "      <td>P_56d91b2adabfae2eee7ae3dd</td>\n",
       "      <td></td>\n",
       "      <td></td>\n",
       "      <td>[{'id': '53f4369bdabfaeee229aced9', 'name': 'm...</td>\n",
       "      <td>10.1038/nm1523</td>\n",
       "      <td>en</td>\n",
       "      <td>1716</td>\n",
       "      <td>NaN</td>\n",
       "      <td>publication</td>\n",
       "      <td>Calreticulin exposure dictates the immunogenic...</td>\n",
       "      <td>{'info': {'name': 'Nature Medicine'}, 'issue':...</td>\n",
       "      <td>2007</td>\n",
       "      <td>{'end': '', 'start': ''}</td>\n",
       "      <td>[http://dx.doi.org/10.1038/nm1523]</td>\n",
       "    </tr>\n",
       "    <tr>\n",
       "      <th>457502</th>\n",
       "      <td>P_53e9bbf5b7602d9704851b5a</td>\n",
       "      <td></td>\n",
       "      <td></td>\n",
       "      <td>[{'id': '53f43011dabfaedf435384fa', 'name': 'C...</td>\n",
       "      <td></td>\n",
       "      <td>en</td>\n",
       "      <td>14</td>\n",
       "      <td>NaN</td>\n",
       "      <td>publication</td>\n",
       "      <td>Inside the Content: The Breadth and Depth of E...</td>\n",
       "      <td>{'issue': '', 'volume': ''}</td>\n",
       "      <td>2005</td>\n",
       "      <td>{'end': '', 'start': ''}</td>\n",
       "      <td>NaN</td>\n",
       "    </tr>\n",
       "    <tr>\n",
       "      <th>107284</th>\n",
       "      <td>P_56d845cbdabfae2eeead2d6e</td>\n",
       "      <td></td>\n",
       "      <td></td>\n",
       "      <td>[{'name': 'guidi'}]</td>\n",
       "      <td></td>\n",
       "      <td>en</td>\n",
       "      <td>0</td>\n",
       "      <td>NaN</td>\n",
       "      <td>publication</td>\n",
       "      <td>MANIPULATOR FOR DISMANTLING AND FASTENING PRES...</td>\n",
       "      <td>{'issue': '', 'volume': ''}</td>\n",
       "      <td>1965</td>\n",
       "      <td>{'end': '', 'start': ''}</td>\n",
       "      <td>NaN</td>\n",
       "    </tr>\n",
       "    <tr>\n",
       "      <th>567034</th>\n",
       "      <td>P_53e9ba28b7602d97046335ec</td>\n",
       "      <td></td>\n",
       "      <td>Distributed generation systems usually include...</td>\n",
       "      <td>[{'id': '562d9d2e45cedb3398e843ca', 'name': 'P...</td>\n",
       "      <td>10.1109/TIE.2012.2208429</td>\n",
       "      <td>en</td>\n",
       "      <td>56</td>\n",
       "      <td>NaN</td>\n",
       "      <td>publication</td>\n",
       "      <td>Compact Integrated Energy Systems for Distribu...</td>\n",
       "      <td>{'info': {'name': 'IEEE Transactions on Indust...</td>\n",
       "      <td>2012</td>\n",
       "      <td>{'end': '1502', 'start': '1492'}</td>\n",
       "      <td>[http://dx.doi.org/10.1109/TIE.2012.2208429, h...</td>\n",
       "    </tr>\n",
       "    <tr>\n",
       "      <th>140994</th>\n",
       "      <td>P_53e9b2e0b7602d9703d947b3</td>\n",
       "      <td></td>\n",
       "      <td>Summary 19 “endodermal sinus tumors” of infant...</td>\n",
       "      <td>[{'id': '53f3b0a2dabfae4b34b19fa5', 'name': 'W...</td>\n",
       "      <td>10.1007/BF01230860</td>\n",
       "      <td>en</td>\n",
       "      <td>22</td>\n",
       "      <td>NaN</td>\n",
       "      <td>publication</td>\n",
       "      <td>Endodermal sinus tumor or orchioblastoma in ch...</td>\n",
       "      <td>{'info': {'name': 'Virchows Archiv. A, Patholo...</td>\n",
       "      <td>1974</td>\n",
       "      <td>{'end': '110', 'start': '93'}</td>\n",
       "      <td>[http://dx.doi.org/10.1007/BF01230860, http://...</td>\n",
       "    </tr>\n",
       "  </tbody>\n",
       "</table>\n",
       "</div>"
      ],
      "text/plain": [
       "                                id name  \\\n",
       "382178  P_56d91b2adabfae2eee7ae3dd        \n",
       "457502  P_53e9bbf5b7602d9704851b5a        \n",
       "107284  P_56d845cbdabfae2eeead2d6e        \n",
       "567034  P_53e9ba28b7602d97046335ec        \n",
       "140994  P_53e9b2e0b7602d9703d947b3        \n",
       "\n",
       "                                                 abstract  \\\n",
       "382178                                                      \n",
       "457502                                                      \n",
       "107284                                                      \n",
       "567034  Distributed generation systems usually include...   \n",
       "140994  Summary 19 “endodermal sinus tumors” of infant...   \n",
       "\n",
       "                                                  authors  \\\n",
       "382178  [{'id': '53f4369bdabfaeee229aced9', 'name': 'm...   \n",
       "457502  [{'id': '53f43011dabfaedf435384fa', 'name': 'C...   \n",
       "107284                                [{'name': 'guidi'}]   \n",
       "567034  [{'id': '562d9d2e45cedb3398e843ca', 'name': 'P...   \n",
       "140994  [{'id': '53f3b0a2dabfae4b34b19fa5', 'name': 'W...   \n",
       "\n",
       "                             doi lang  num_citation  pdf   sourcetype  \\\n",
       "382178            10.1038/nm1523   en          1716  NaN  publication   \n",
       "457502                             en            14  NaN  publication   \n",
       "107284                             en             0  NaN  publication   \n",
       "567034  10.1109/TIE.2012.2208429   en            56  NaN  publication   \n",
       "140994        10.1007/BF01230860   en            22  NaN  publication   \n",
       "\n",
       "                                                    title  \\\n",
       "382178  Calreticulin exposure dictates the immunogenic...   \n",
       "457502  Inside the Content: The Breadth and Depth of E...   \n",
       "107284  MANIPULATOR FOR DISMANTLING AND FASTENING PRES...   \n",
       "567034  Compact Integrated Energy Systems for Distribu...   \n",
       "140994  Endodermal sinus tumor or orchioblastoma in ch...   \n",
       "\n",
       "                                                    venue  year  \\\n",
       "382178  {'info': {'name': 'Nature Medicine'}, 'issue':...  2007   \n",
       "457502                        {'issue': '', 'volume': ''}  2005   \n",
       "107284                        {'issue': '', 'volume': ''}  1965   \n",
       "567034  {'info': {'name': 'IEEE Transactions on Indust...  2012   \n",
       "140994  {'info': {'name': 'Virchows Archiv. A, Patholo...  1974   \n",
       "\n",
       "                                   pages  \\\n",
       "382178          {'end': '', 'start': ''}   \n",
       "457502          {'end': '', 'start': ''}   \n",
       "107284          {'end': '', 'start': ''}   \n",
       "567034  {'end': '1502', 'start': '1492'}   \n",
       "140994     {'end': '110', 'start': '93'}   \n",
       "\n",
       "                                                     urls  \n",
       "382178                 [http://dx.doi.org/10.1038/nm1523]  \n",
       "457502                                                NaN  \n",
       "107284                                                NaN  \n",
       "567034  [http://dx.doi.org/10.1109/TIE.2012.2208429, h...  \n",
       "140994  [http://dx.doi.org/10.1007/BF01230860, http://...  "
      ]
     },
     "execution_count": 15,
     "metadata": {},
     "output_type": "execute_result"
    }
   ],
   "source": [
    "paper_df.sample(5)"
   ]
  },
  {
   "cell_type": "markdown",
   "metadata": {},
   "source": [
    "## School"
   ]
  },
  {
   "cell_type": "code",
   "execution_count": 16,
   "metadata": {},
   "outputs": [],
   "source": [
    "school_df = pd.read_json(\"../data/MOOCCube/entities/school.json\",lines=True)"
   ]
  },
  {
   "cell_type": "code",
   "execution_count": 17,
   "metadata": {},
   "outputs": [
    {
     "data": {
      "text/plain": [
       "(208, 3)"
      ]
     },
     "execution_count": 17,
     "metadata": {},
     "output_type": "execute_result"
    }
   ],
   "source": [
    "school_df.shape"
   ]
  },
  {
   "cell_type": "code",
   "execution_count": 18,
   "metadata": {},
   "outputs": [
    {
     "data": {
      "text/html": [
       "<div>\n",
       "<style scoped>\n",
       "    .dataframe tbody tr th:only-of-type {\n",
       "        vertical-align: middle;\n",
       "    }\n",
       "\n",
       "    .dataframe tbody tr th {\n",
       "        vertical-align: top;\n",
       "    }\n",
       "\n",
       "    .dataframe thead th {\n",
       "        text-align: right;\n",
       "    }\n",
       "</style>\n",
       "<table border=\"1\" class=\"dataframe\">\n",
       "  <thead>\n",
       "    <tr style=\"text-align: right;\">\n",
       "      <th></th>\n",
       "      <th>id</th>\n",
       "      <th>name</th>\n",
       "      <th>about</th>\n",
       "    </tr>\n",
       "  </thead>\n",
       "  <tbody>\n",
       "    <tr>\n",
       "      <th>181</th>\n",
       "      <td>S_microdegree</td>\n",
       "      <td></td>\n",
       "      <td></td>\n",
       "    </tr>\n",
       "    <tr>\n",
       "      <th>33</th>\n",
       "      <td>S_McGillX</td>\n",
       "      <td>麦吉尔大学</td>\n",
       "      <td>麦吉尔大学（McGill University), 简称McGill或麦大, 始建于1821...</td>\n",
       "    </tr>\n",
       "    <tr>\n",
       "      <th>138</th>\n",
       "      <td>S_WUT</td>\n",
       "      <td>武汉理工大学</td>\n",
       "      <td>武汉理工大学（Wuhan University of Technology，WUT），简称武...</td>\n",
       "    </tr>\n",
       "    <tr>\n",
       "      <th>95</th>\n",
       "      <td>S_WellesleyX</td>\n",
       "      <td>韦尔斯利大学</td>\n",
       "      <td>韦尔斯利学院（Wellesley College）由当地乡绅 Durant 夫妇注册于187...</td>\n",
       "    </tr>\n",
       "    <tr>\n",
       "      <th>81</th>\n",
       "      <td>S_qdu</td>\n",
       "      <td>青岛大学</td>\n",
       "      <td>青岛大学（Qingdao University）是由山东省与青岛市共建的山东省属重点综合大学...</td>\n",
       "    </tr>\n",
       "  </tbody>\n",
       "</table>\n",
       "</div>"
      ],
      "text/plain": [
       "                id    name                                              about\n",
       "181  S_microdegree                                                           \n",
       "33       S_McGillX   麦吉尔大学  麦吉尔大学（McGill University), 简称McGill或麦大, 始建于1821...\n",
       "138          S_WUT  武汉理工大学  武汉理工大学（Wuhan University of Technology，WUT），简称武...\n",
       "95    S_WellesleyX  韦尔斯利大学  韦尔斯利学院（Wellesley College）由当地乡绅 Durant 夫妇注册于187...\n",
       "81           S_qdu    青岛大学  青岛大学（Qingdao University）是由山东省与青岛市共建的山东省属重点综合大学..."
      ]
     },
     "execution_count": 18,
     "metadata": {},
     "output_type": "execute_result"
    }
   ],
   "source": [
    "school_df.sample(5)"
   ]
  },
  {
   "cell_type": "markdown",
   "metadata": {},
   "source": [
    "## Teacher"
   ]
  },
  {
   "cell_type": "code",
   "execution_count": 19,
   "metadata": {},
   "outputs": [],
   "source": [
    "teacher_df = pd.read_json(\"../data/MOOCCube/entities/teacher.json\",lines=True)"
   ]
  },
  {
   "cell_type": "code",
   "execution_count": 20,
   "metadata": {},
   "outputs": [
    {
     "data": {
      "text/plain": [
       "(1738, 3)"
      ]
     },
     "execution_count": 20,
     "metadata": {},
     "output_type": "execute_result"
    }
   ],
   "source": [
    "teacher_df.shape"
   ]
  },
  {
   "cell_type": "code",
   "execution_count": 21,
   "metadata": {},
   "outputs": [
    {
     "data": {
      "text/html": [
       "<div>\n",
       "<style scoped>\n",
       "    .dataframe tbody tr th:only-of-type {\n",
       "        vertical-align: middle;\n",
       "    }\n",
       "\n",
       "    .dataframe tbody tr th {\n",
       "        vertical-align: top;\n",
       "    }\n",
       "\n",
       "    .dataframe thead th {\n",
       "        text-align: right;\n",
       "    }\n",
       "</style>\n",
       "<table border=\"1\" class=\"dataframe\">\n",
       "  <thead>\n",
       "    <tr style=\"text-align: right;\">\n",
       "      <th></th>\n",
       "      <th>id</th>\n",
       "      <th>name</th>\n",
       "      <th>about</th>\n",
       "    </tr>\n",
       "  </thead>\n",
       "  <tbody>\n",
       "    <tr>\n",
       "      <th>1730</th>\n",
       "      <td>T_Gerald Sussman</td>\n",
       "      <td>Gerald Sussman</td>\n",
       "      <td>Gerald Sussman教授是MIT电气工程专业的教授。他是计算机领域享有盛誉的教育家。...</td>\n",
       "    </tr>\n",
       "    <tr>\n",
       "      <th>296</th>\n",
       "      <td>T_Ela Ben-Ur</td>\n",
       "      <td>Ela Ben-Ur</td>\n",
       "      <td>Ela担任i2i Experience的顾问、教练和导师，专注与设计研发和策略。她曾在IDE...</td>\n",
       "    </tr>\n",
       "    <tr>\n",
       "      <th>1127</th>\n",
       "      <td>T_戎贤</td>\n",
       "      <td>戎贤</td>\n",
       "      <td>戎贤，博士，教授，博士生导师。河北省教学名师，获省部级科技进步奖四项、教学成果奖三项、国家专...</td>\n",
       "    </tr>\n",
       "    <tr>\n",
       "      <th>866</th>\n",
       "      <td>T_杨畅</td>\n",
       "      <td>杨畅</td>\n",
       "      <td>博士，副教授，贵州医科大学硕士研究生导师，研究方向为新型药物传递系统、造影材料与中药新剂型的...</td>\n",
       "    </tr>\n",
       "    <tr>\n",
       "      <th>820</th>\n",
       "      <td>T_马凯</td>\n",
       "      <td>马凯</td>\n",
       "      <td>马凯，硕士，副教授，北京服装学院 服装艺术与工程学院教师。1999年于北京航空航天大学获工学...</td>\n",
       "    </tr>\n",
       "  </tbody>\n",
       "</table>\n",
       "</div>"
      ],
      "text/plain": [
       "                    id            name  \\\n",
       "1730  T_Gerald Sussman  Gerald Sussman   \n",
       "296       T_Ela Ben-Ur      Ela Ben-Ur   \n",
       "1127              T_戎贤              戎贤   \n",
       "866               T_杨畅              杨畅   \n",
       "820               T_马凯              马凯   \n",
       "\n",
       "                                                  about  \n",
       "1730  Gerald Sussman教授是MIT电气工程专业的教授。他是计算机领域享有盛誉的教育家。...  \n",
       "296   Ela担任i2i Experience的顾问、教练和导师，专注与设计研发和策略。她曾在IDE...  \n",
       "1127  戎贤，博士，教授，博士生导师。河北省教学名师，获省部级科技进步奖四项、教学成果奖三项、国家专...  \n",
       "866   博士，副教授，贵州医科大学硕士研究生导师，研究方向为新型药物传递系统、造影材料与中药新剂型的...  \n",
       "820   马凯，硕士，副教授，北京服装学院 服装艺术与工程学院教师。1999年于北京航空航天大学获工学...  "
      ]
     },
     "execution_count": 21,
     "metadata": {},
     "output_type": "execute_result"
    }
   ],
   "source": [
    "teacher_df.sample(5)"
   ]
  },
  {
   "cell_type": "markdown",
   "metadata": {},
   "source": [
    "## User"
   ]
  },
  {
   "cell_type": "code",
   "execution_count": 22,
   "metadata": {},
   "outputs": [],
   "source": [
    "user_df = pd.read_json(\"../data/MOOCCube/entities/user.json\",lines=True)"
   ]
  },
  {
   "cell_type": "code",
   "execution_count": 23,
   "metadata": {},
   "outputs": [
    {
     "data": {
      "text/plain": [
       "(199199, 4)"
      ]
     },
     "execution_count": 23,
     "metadata": {},
     "output_type": "execute_result"
    }
   ],
   "source": [
    "user_df.shape"
   ]
  },
  {
   "cell_type": "code",
   "execution_count": 24,
   "metadata": {},
   "outputs": [
    {
     "data": {
      "text/html": [
       "<div>\n",
       "<style scoped>\n",
       "    .dataframe tbody tr th:only-of-type {\n",
       "        vertical-align: middle;\n",
       "    }\n",
       "\n",
       "    .dataframe tbody tr th {\n",
       "        vertical-align: top;\n",
       "    }\n",
       "\n",
       "    .dataframe thead th {\n",
       "        text-align: right;\n",
       "    }\n",
       "</style>\n",
       "<table border=\"1\" class=\"dataframe\">\n",
       "  <thead>\n",
       "    <tr style=\"text-align: right;\">\n",
       "      <th></th>\n",
       "      <th>id</th>\n",
       "      <th>name</th>\n",
       "      <th>course_order</th>\n",
       "      <th>enroll_time</th>\n",
       "    </tr>\n",
       "  </thead>\n",
       "  <tbody>\n",
       "    <tr>\n",
       "      <th>61432</th>\n",
       "      <td>U_1638432</td>\n",
       "      <td>泷华皓</td>\n",
       "      <td>[C_course-v1:TsinghuaX+20740042X+2019_T1, C_co...</td>\n",
       "      <td>[2019-03-21 12:47:22, 2016-05-25 11:56:27, 201...</td>\n",
       "    </tr>\n",
       "    <tr>\n",
       "      <th>147610</th>\n",
       "      <td>U_407660</td>\n",
       "      <td>管成礼</td>\n",
       "      <td>[C_course-v1:TsinghuaX+00612642X+sp, C_course-...</td>\n",
       "      <td>[2015-08-28 14:52:08, 2015-08-28 15:00:22, 201...</td>\n",
       "    </tr>\n",
       "    <tr>\n",
       "      <th>79130</th>\n",
       "      <td>U_10505876</td>\n",
       "      <td>柴迎梦</td>\n",
       "      <td>[C_course-v1:ZZU+334068+2019_T1, C_course-v1:T...</td>\n",
       "      <td>[2019-04-09 22:22:39, 2019-01-26 19:43:18, 201...</td>\n",
       "    </tr>\n",
       "    <tr>\n",
       "      <th>130011</th>\n",
       "      <td>U_329203</td>\n",
       "      <td>恽思卉</td>\n",
       "      <td>[C_course-v1:TsinghuaX+80515522X+sp, C_course-...</td>\n",
       "      <td>[2017-07-22 09:46:08, 2017-02-14 23:01:11, 201...</td>\n",
       "    </tr>\n",
       "    <tr>\n",
       "      <th>101923</th>\n",
       "      <td>U_4441816</td>\n",
       "      <td>景安然</td>\n",
       "      <td>[C_course-v1:FUDANx+SOSC120007+2019_T1, C_cour...</td>\n",
       "      <td>[2019-02-25 10:56:26, 2018-03-04 19:27:31, 201...</td>\n",
       "    </tr>\n",
       "  </tbody>\n",
       "</table>\n",
       "</div>"
      ],
      "text/plain": [
       "                id name                                       course_order  \\\n",
       "61432    U_1638432  泷华皓  [C_course-v1:TsinghuaX+20740042X+2019_T1, C_co...   \n",
       "147610    U_407660  管成礼  [C_course-v1:TsinghuaX+00612642X+sp, C_course-...   \n",
       "79130   U_10505876  柴迎梦  [C_course-v1:ZZU+334068+2019_T1, C_course-v1:T...   \n",
       "130011    U_329203  恽思卉  [C_course-v1:TsinghuaX+80515522X+sp, C_course-...   \n",
       "101923   U_4441816  景安然  [C_course-v1:FUDANx+SOSC120007+2019_T1, C_cour...   \n",
       "\n",
       "                                              enroll_time  \n",
       "61432   [2019-03-21 12:47:22, 2016-05-25 11:56:27, 201...  \n",
       "147610  [2015-08-28 14:52:08, 2015-08-28 15:00:22, 201...  \n",
       "79130   [2019-04-09 22:22:39, 2019-01-26 19:43:18, 201...  \n",
       "130011  [2017-07-22 09:46:08, 2017-02-14 23:01:11, 201...  \n",
       "101923  [2019-02-25 10:56:26, 2018-03-04 19:27:31, 201...  "
      ]
     },
     "execution_count": 24,
     "metadata": {},
     "output_type": "execute_result"
    }
   ],
   "source": [
    "user_df.sample(5)"
   ]
  },
  {
   "cell_type": "code",
   "execution_count": 25,
   "metadata": {},
   "outputs": [
    {
     "name": "stdout",
     "output_type": "stream",
     "text": [
      "['C_course-v1:TsinghuaX+20430064_2X+sp', 'C_course-v1:TsinghuaX+02070251X+2019_T1', 'C_course-v1:TsinghuaX+0350161X_2015_T2+sp', 'C_course-v1:TsinghuaX+60240013X+sp', 'C_course-v1:TsinghuaX+01030132X+sp', 'C_course-v1:TsinghuaX+20250103X+sp', 'C_course-v1:TsinghuaX+20220214X+2019_T1', 'C_course-v1:TsinghuaX+02070251X+sp', 'C_course-v1:TsinghuaX+20220053X_2015_T2+sp', 'C_course-v1:TsinghuaX+20350033X+sp']\n",
      "['C_course-v1:TsinghuaX+30640014X+2019_T1', 'C_course-v1:TsinghuaX+00612643X+sp', 'C_course-v1:TsinghuaX+00612642X+2019_T1', 'C_course-v1:TsinghuaX+20250103X+sp', 'C_course-v1:TsinghuaX+30640014X+sp', 'C_course-v1:TsinghuaX+00701032X+sp', 'C_course-v1:HNU+GE14068+2019_T1', 'C_course-v1:HEBNU+2017011901X+sp', 'C_course-v1:TsinghuaX+00612642X+sp']\n",
      "['C_course-v1:gmc+3060511+2018_T2', 'C_course-v1:WageningenX+NUTR101x+sp', 'C_course-v1:TsinghuaX+80000271X+sp', 'C_course-v1:TsinghuaX+00040132X+sp', 'C_course-v1:MIL+MIL2016001+sp', 'C_course-v1:UQx+BIOIMG101x+sp', 'C_course-v1:PSFFC+2018102405X+2018_T2', 'C_course-v1:dlmu+20180330+sp', 'C_course-v1:YMY+20171108001+sp', 'C_course-v1:PSFFC+2018102406X+2018_T2', 'C_course-v1:HUBU+HU08003X+sp']\n"
     ]
    }
   ],
   "source": [
    "i = 0\n",
    "for index, row in user_df.iterrows():\n",
    "    if len(row[\"course_order\"])>7 and i<3:\n",
    "        i +=1\n",
    "        print(row[\"course_order\"])\n",
    "    "
   ]
  },
  {
   "cell_type": "markdown",
   "metadata": {},
   "source": [
    "## Video"
   ]
  },
  {
   "cell_type": "code",
   "execution_count": 26,
   "metadata": {},
   "outputs": [],
   "source": [
    "video_df = pd.read_json(\"../data/MOOCCube/entities/video.json\",lines=True)"
   ]
  },
  {
   "cell_type": "code",
   "execution_count": 27,
   "metadata": {},
   "outputs": [
    {
     "data": {
      "text/plain": [
       "(38181, 5)"
      ]
     },
     "execution_count": 27,
     "metadata": {},
     "output_type": "execute_result"
    }
   ],
   "source": [
    "video_df.shape"
   ]
  },
  {
   "cell_type": "code",
   "execution_count": 28,
   "metadata": {},
   "outputs": [
    {
     "data": {
      "text/html": [
       "<div>\n",
       "<style scoped>\n",
       "    .dataframe tbody tr th:only-of-type {\n",
       "        vertical-align: middle;\n",
       "    }\n",
       "\n",
       "    .dataframe tbody tr th {\n",
       "        vertical-align: top;\n",
       "    }\n",
       "\n",
       "    .dataframe thead th {\n",
       "        text-align: right;\n",
       "    }\n",
       "</style>\n",
       "<table border=\"1\" class=\"dataframe\">\n",
       "  <thead>\n",
       "    <tr style=\"text-align: right;\">\n",
       "      <th></th>\n",
       "      <th>id</th>\n",
       "      <th>name</th>\n",
       "      <th>start</th>\n",
       "      <th>end</th>\n",
       "      <th>text</th>\n",
       "    </tr>\n",
       "  </thead>\n",
       "  <tbody>\n",
       "    <tr>\n",
       "      <th>1559</th>\n",
       "      <td>V_627948600f084872913ea6f0920405c8</td>\n",
       "      <td>02-02</td>\n",
       "      <td>[9615, 11687, 14904, 18064, 19785, 20957, 2371...</td>\n",
       "      <td>[11447, 14296, 17720, 19376, 20752, 22776, 247...</td>\n",
       "      <td>[您好 欢迎来到, 钢筋混凝土耐久性导论课程, 路老师上节课我们提到了, 金属腐蚀的三要素,...</td>\n",
       "    </tr>\n",
       "    <tr>\n",
       "      <th>8376</th>\n",
       "      <td>V_ffe72189c31540c0b550df018edee112</td>\n",
       "      <td>理想气体温标</td>\n",
       "      <td>[22304, 23584, 24626, 26934, 29304, 30431, 336...</td>\n",
       "      <td>[23549, 24625, 26933, 29303, 30430, 33612, 355...</td>\n",
       "      <td>[同学们好, 那么我们在前面的章节, 多次提到了温度这样一个的概念, 但事实上我们还没有给出...</td>\n",
       "    </tr>\n",
       "    <tr>\n",
       "      <th>1477</th>\n",
       "      <td>V_852469520b764f7f86dc9bc354d3a363</td>\n",
       "      <td>A4 干涉实验</td>\n",
       "      <td>[10445, 11611, 15451, 17234, 19097, 21737, 239...</td>\n",
       "      <td>[11611, 15451, 17234, 19097, 21737, 23988, 267...</td>\n",
       "      <td>[大家好, 这次课我们来看一下干涉实验, 基于激光的干涉实验, 光路是比较好调的, 只要保证...</td>\n",
       "    </tr>\n",
       "    <tr>\n",
       "      <th>32403</th>\n",
       "      <td>V_c6d92316ebb24cd6952ccfc21e91788c</td>\n",
       "      <td>2-5 吸虫各论之生活史</td>\n",
       "      <td>[23864, 27899, 30693, 32611, 34601, 38228, 399...</td>\n",
       "      <td>[26731, 30226, 31965, 34201, 37744, 39716, 426...</td>\n",
       "      <td>[下面要给同学们讲生活史的各论, 这里我们仅仅详细介绍, 肺吸虫的生活史, 而其他的两种吸虫...</td>\n",
       "    </tr>\n",
       "    <tr>\n",
       "      <th>24565</th>\n",
       "      <td>V_4b5588a35e8a4dc3bfb06a32632394c2</td>\n",
       "      <td>第四节 文帝用人</td>\n",
       "      <td>[22339, 23634, 28069, 30968, 32658, 35160, 373...</td>\n",
       "      <td>[23331, 26880, 30211, 32225, 34105, 36846, 391...</td>\n",
       "      <td>[我想这节的第二个问题, 我要谈谈杨坚的政治里面的用人, 我想里有两点可以值得谈, 一个新的...</td>\n",
       "    </tr>\n",
       "  </tbody>\n",
       "</table>\n",
       "</div>"
      ],
      "text/plain": [
       "                                       id          name  \\\n",
       "1559   V_627948600f084872913ea6f0920405c8         02-02   \n",
       "8376   V_ffe72189c31540c0b550df018edee112        理想气体温标   \n",
       "1477   V_852469520b764f7f86dc9bc354d3a363       A4 干涉实验   \n",
       "32403  V_c6d92316ebb24cd6952ccfc21e91788c  2-5 吸虫各论之生活史   \n",
       "24565  V_4b5588a35e8a4dc3bfb06a32632394c2      第四节 文帝用人   \n",
       "\n",
       "                                                   start  \\\n",
       "1559   [9615, 11687, 14904, 18064, 19785, 20957, 2371...   \n",
       "8376   [22304, 23584, 24626, 26934, 29304, 30431, 336...   \n",
       "1477   [10445, 11611, 15451, 17234, 19097, 21737, 239...   \n",
       "32403  [23864, 27899, 30693, 32611, 34601, 38228, 399...   \n",
       "24565  [22339, 23634, 28069, 30968, 32658, 35160, 373...   \n",
       "\n",
       "                                                     end  \\\n",
       "1559   [11447, 14296, 17720, 19376, 20752, 22776, 247...   \n",
       "8376   [23549, 24625, 26933, 29303, 30430, 33612, 355...   \n",
       "1477   [11611, 15451, 17234, 19097, 21737, 23988, 267...   \n",
       "32403  [26731, 30226, 31965, 34201, 37744, 39716, 426...   \n",
       "24565  [23331, 26880, 30211, 32225, 34105, 36846, 391...   \n",
       "\n",
       "                                                    text  \n",
       "1559   [您好 欢迎来到, 钢筋混凝土耐久性导论课程, 路老师上节课我们提到了, 金属腐蚀的三要素,...  \n",
       "8376   [同学们好, 那么我们在前面的章节, 多次提到了温度这样一个的概念, 但事实上我们还没有给出...  \n",
       "1477   [大家好, 这次课我们来看一下干涉实验, 基于激光的干涉实验, 光路是比较好调的, 只要保证...  \n",
       "32403  [下面要给同学们讲生活史的各论, 这里我们仅仅详细介绍, 肺吸虫的生活史, 而其他的两种吸虫...  \n",
       "24565  [我想这节的第二个问题, 我要谈谈杨坚的政治里面的用人, 我想里有两点可以值得谈, 一个新的...  "
      ]
     },
     "execution_count": 28,
     "metadata": {},
     "output_type": "execute_result"
    }
   ],
   "source": [
    "video_df.sample(5)"
   ]
  },
  {
   "cell_type": "markdown",
   "metadata": {},
   "source": [
    "### Relación Curso Usuario"
   ]
  },
  {
   "cell_type": "code",
   "execution_count": 41,
   "metadata": {},
   "outputs": [
    {
     "data": {
      "text/html": [
       "<div>\n",
       "<style scoped>\n",
       "    .dataframe tbody tr th:only-of-type {\n",
       "        vertical-align: middle;\n",
       "    }\n",
       "\n",
       "    .dataframe tbody tr th {\n",
       "        vertical-align: top;\n",
       "    }\n",
       "\n",
       "    .dataframe thead th {\n",
       "        text-align: right;\n",
       "    }\n",
       "</style>\n",
       "<table border=\"1\" class=\"dataframe\">\n",
       "  <thead>\n",
       "    <tr style=\"text-align: right;\">\n",
       "      <th></th>\n",
       "      <th>id</th>\n",
       "      <th>name</th>\n",
       "      <th>course_order</th>\n",
       "      <th>enroll_time</th>\n",
       "      <th>course_taken</th>\n",
       "      <th>num_course_taken</th>\n",
       "    </tr>\n",
       "  </thead>\n",
       "  <tbody>\n",
       "    <tr>\n",
       "      <th>0</th>\n",
       "      <td>U_7001215</td>\n",
       "      <td>李喜锋</td>\n",
       "      <td>[C_course-v1:TsinghuaX+00740043_2x_2015_T2+sp,...</td>\n",
       "      <td>[2017-05-01 11:07:53, 2017-05-17 10:07:17, 201...</td>\n",
       "      <td>5</td>\n",
       "      <td>5</td>\n",
       "    </tr>\n",
       "    <tr>\n",
       "      <th>1</th>\n",
       "      <td>U_10402446</td>\n",
       "      <td>五元香</td>\n",
       "      <td>[C_course-v1:TsinghuaX+00510888X+2019_T1, C_co...</td>\n",
       "      <td>[2019-06-14 08:50:04, 2019-01-04 20:36:07]</td>\n",
       "      <td>2</td>\n",
       "      <td>2</td>\n",
       "    </tr>\n",
       "    <tr>\n",
       "      <th>2</th>\n",
       "      <td>U_10359065</td>\n",
       "      <td>魏珊</td>\n",
       "      <td>[C_course-v1:TsinghuaX+00612642X+sp, C_course-...</td>\n",
       "      <td>[2019-01-18 21:19:56, 2019-01-14 21:54:54]</td>\n",
       "      <td>2</td>\n",
       "      <td>2</td>\n",
       "    </tr>\n",
       "    <tr>\n",
       "      <th>3</th>\n",
       "      <td>U_7423998</td>\n",
       "      <td>郭海滨</td>\n",
       "      <td>[C_course-v1:TsinghuaX+30240184_2X+sp, C_cours...</td>\n",
       "      <td>[2017-08-16 10:38:11, 2018-07-01 18:24:24, 201...</td>\n",
       "      <td>7</td>\n",
       "      <td>7</td>\n",
       "    </tr>\n",
       "    <tr>\n",
       "      <th>4</th>\n",
       "      <td>U_545306</td>\n",
       "      <td>李其艳</td>\n",
       "      <td>[C_course-v1:TsinghuaX+20430064_2X+sp, C_cours...</td>\n",
       "      <td>[2018-09-05 15:40:40, 2019-02-28 10:08:49, 201...</td>\n",
       "      <td>10</td>\n",
       "      <td>10</td>\n",
       "    </tr>\n",
       "  </tbody>\n",
       "</table>\n",
       "</div>"
      ],
      "text/plain": [
       "           id name                                       course_order  \\\n",
       "0   U_7001215  李喜锋  [C_course-v1:TsinghuaX+00740043_2x_2015_T2+sp,...   \n",
       "1  U_10402446  五元香  [C_course-v1:TsinghuaX+00510888X+2019_T1, C_co...   \n",
       "2  U_10359065   魏珊  [C_course-v1:TsinghuaX+00612642X+sp, C_course-...   \n",
       "3   U_7423998  郭海滨  [C_course-v1:TsinghuaX+30240184_2X+sp, C_cours...   \n",
       "4    U_545306  李其艳  [C_course-v1:TsinghuaX+20430064_2X+sp, C_cours...   \n",
       "\n",
       "                                         enroll_time  course_taken  \\\n",
       "0  [2017-05-01 11:07:53, 2017-05-17 10:07:17, 201...             5   \n",
       "1         [2019-06-14 08:50:04, 2019-01-04 20:36:07]             2   \n",
       "2         [2019-01-18 21:19:56, 2019-01-14 21:54:54]             2   \n",
       "3  [2017-08-16 10:38:11, 2018-07-01 18:24:24, 201...             7   \n",
       "4  [2018-09-05 15:40:40, 2019-02-28 10:08:49, 201...            10   \n",
       "\n",
       "   num_course_taken  \n",
       "0                 5  \n",
       "1                 2  \n",
       "2                 2  \n",
       "3                 7  \n",
       "4                10  "
      ]
     },
     "execution_count": 41,
     "metadata": {},
     "output_type": "execute_result"
    }
   ],
   "source": [
    "user_df[\"num_course_taken\"] = user_df[\"course_order\"].apply(len)\n",
    "user_df.head()"
   ]
  },
  {
   "cell_type": "code",
   "execution_count": 67,
   "metadata": {},
   "outputs": [],
   "source": [
    "user_mean = user_df['num_course_taken'].mean()\n",
    "user_std = user_df['num_course_taken'].std()\n",
    "user_max = user_df['num_course_taken'].max()\n",
    "user_min = user_df['num_course_taken'].min()"
   ]
  },
  {
   "cell_type": "code",
   "execution_count": 71,
   "metadata": {},
   "outputs": [
    {
     "name": "stdout",
     "output_type": "stream",
     "text": [
      "Promedio: 3.4274921058840655\n",
      "Std: 3.020514472228401\n",
      "Max: 161\n",
      "Min: 2\n",
      "Mediana: 2.0\n",
      "Moda: 2\n"
     ]
    }
   ],
   "source": [
    "print(\"Promedio: \" + str(user_mean))\n",
    "print(\"Std: \" + str(user_std))\n",
    "print(\"Max: \" + str(user_max))\n",
    "print(\"Min: \" + str(user_min))\n",
    "print(\"Mediana: \" + str(user_df['num_course_taken'].median()))\n",
    "print(\"Moda: \" + str(user_df['num_course_taken'].mode().values[0]))"
   ]
  },
  {
   "cell_type": "code",
   "execution_count": 73,
   "metadata": {},
   "outputs": [],
   "source": [
    "import matplotlib.pyplot as plt"
   ]
  },
  {
   "cell_type": "code",
   "execution_count": 75,
   "metadata": {},
   "outputs": [
    {
     "data": {
      "image/png": "[encoded data removed]",
      "text/plain": [
       "<Figure size 640x480 with 1 Axes>"
      ]
     },
     "metadata": {},
     "output_type": "display_data"
    }
   ],
   "source": [
    "plt.hist(user_df['num_course_taken'], bins=20)\n",
    "plt.xlabel('Number of Courses Taken')\n",
    "plt.ylabel('Frecuency')\n",
    "plt.title('Distribution of courses taken')\n",
    "plt.show()"
   ]
  },
  {
   "cell_type": "code",
   "execution_count": 50,
   "metadata": {},
   "outputs": [
    {
     "name": "stdout",
     "output_type": "stream",
     "text": [
      "3.020514472228401\n"
     ]
    }
   ],
   "source": [
    "print(user_std)"
   ]
  },
  {
   "cell_type": "code",
   "execution_count": 55,
   "metadata": {},
   "outputs": [],
   "source": [
    "all_courses = [movie for movies in user_df['course_order'] for movie in movies]"
   ]
  },
  {
   "cell_type": "code",
   "execution_count": 61,
   "metadata": {},
   "outputs": [
    {
     "name": "stdout",
     "output_type": "stream",
     "text": [
      "                                      course_id  user_count\n",
      "0             C_course-v1:TsinghuaX+30240184+sp       32914\n",
      "1    C_course-v1:TsinghuaX+00740043X_2015_T2+sp       31491\n",
      "2            C_course-v1:TsinghuaX+30640014X+sp       30177\n",
      "3                   C_course-v1:MITx+6_00_1x+sp       18473\n",
      "4            C_course-v1:TsinghuaX+30240243X+sp       17265\n",
      "..                                          ...         ...\n",
      "693               C_course-v1:gmc+30102+2018_T2           1\n",
      "694         C_course-v1:BNU+CHE21128011+2019_T1           1\n",
      "695             C_course-v1:CIE+JD_2017+2019_T1           1\n",
      "696         C_course-v1:HNU+20180424001+2018_T1           1\n",
      "697        C_course-v1:XJTU+2018122507X+2018_T2           1\n",
      "\n",
      "[698 rows x 2 columns]\n"
     ]
    }
   ],
   "source": [
    "course_counts = pd.Series(all_courses).value_counts().reset_index()\n",
    "course_counts.columns = ['course_id', 'user_count']\n",
    "print(course_counts)"
   ]
  },
  {
   "cell_type": "code",
   "execution_count": 95,
   "metadata": {},
   "outputs": [],
   "source": [
    "mean_course = course_counts['user_count'].mean()\n",
    "std_course = course_counts['user_count'].std()\n",
    "min_course = course_counts['user_count'].min()\n",
    "max_course = course_counts['user_count'].max()\n",
    "median_course = course_counts['user_count'].median()\n",
    "mode_course = course_counts['user_count'].mode().values[0]\n"
   ]
  },
  {
   "cell_type": "code",
   "execution_count": 96,
   "metadata": {},
   "outputs": [
    {
     "name": "stdout",
     "output_type": "stream",
     "text": [
      "Promedio: 978.1561604584527\n",
      "Std: 2742.658014965899\n",
      "Min: 1\n",
      "Max: 32914\n",
      "Mediana: 191.0\n",
      "Moda: 6\n"
     ]
    }
   ],
   "source": [
    "print(\"Promedio: \" + str(mean_course))\n",
    "print(\"Std: \" + str(std_course))\n",
    "print(\"Min: \" + str(min_course))\n",
    "print(\"Max: \" + str(max_course))\n",
    "print(\"Mediana: \" + str(median_course))\n",
    "print(\"Moda: \" + str(mode_course))"
   ]
  },
  {
   "cell_type": "code",
   "execution_count": 66,
   "metadata": {},
   "outputs": [
    {
     "name": "stdout",
     "output_type": "stream",
     "text": [
      "    course_num  num users\n",
      "0            2     103776\n",
      "1            3      40220\n",
      "2            4      20286\n",
      "3            5      11550\n",
      "4            6       7079\n",
      "..         ...        ...\n",
      "70         122          1\n",
      "69         123          1\n",
      "74         149          1\n",
      "79         154          1\n",
      "82         161          1\n",
      "\n",
      "[84 rows x 2 columns]\n"
     ]
    }
   ],
   "source": [
    "usuarios_por_numero_de_peliculas = user_df['num_course_taken'].value_counts().reset_index()\n",
    "usuarios_por_numero_de_peliculas.columns = ['course_num', 'num users']\n",
    "usuarios_por_numero_de_peliculas = usuarios_por_numero_de_peliculas.sort_values(by='course_num')\n",
    "\n",
    "print(usuarios_por_numero_de_peliculas)"
   ]
  },
  {
   "cell_type": "markdown",
   "metadata": {},
   "source": [
    "### Relacion Curso-Paper"
   ]
  },
  {
   "cell_type": "code",
   "execution_count": 109,
   "metadata": {},
   "outputs": [],
   "source": [
    "# course_concept_df = pd.read_json(\"../data/MOOCCube/relations/course-concept.json\",lines=True)\n",
    "with open(\"../data/MOOCCube/relations/concept-paper.json\", \"r\",encoding=\"utf-8\") as file:\n",
    "    paper_ids = []\n",
    "    concept_ids = []\n",
    "    for line in file:\n",
    "        line = line.split(\"\\t\")\n",
    "        paper_ids.append(line[1].replace(\"\\n\",\"\"))\n",
    "        concept_ids.append(line[0].replace(\"\\n\",\"\"))\n",
    "        "
   ]
  },
  {
   "cell_type": "code",
   "execution_count": 110,
   "metadata": {},
   "outputs": [],
   "source": [
    "paper_concept_relation_df = pd.DataFrame({\"id_paper\":paper_ids,\"id_concept\":concept_ids})"
   ]
  },
  {
   "cell_type": "code",
   "execution_count": 111,
   "metadata": {},
   "outputs": [
    {
     "data": {
      "text/html": [
       "<div>\n",
       "<style scoped>\n",
       "    .dataframe tbody tr th:only-of-type {\n",
       "        vertical-align: middle;\n",
       "    }\n",
       "\n",
       "    .dataframe tbody tr th {\n",
       "        vertical-align: top;\n",
       "    }\n",
       "\n",
       "    .dataframe thead th {\n",
       "        text-align: right;\n",
       "    }\n",
       "</style>\n",
       "<table border=\"1\" class=\"dataframe\">\n",
       "  <thead>\n",
       "    <tr style=\"text-align: right;\">\n",
       "      <th></th>\n",
       "      <th>id_paper</th>\n",
       "      <th>id_concept</th>\n",
       "    </tr>\n",
       "  </thead>\n",
       "  <tbody>\n",
       "    <tr>\n",
       "      <th>677647</th>\n",
       "      <td>P_56d8b9f7dabfae2eee270c17</td>\n",
       "      <td>K_嵌入型洪积扇_地理学</td>\n",
       "    </tr>\n",
       "    <tr>\n",
       "      <th>269368</th>\n",
       "      <td>P_53e9bc54b7602d97048cec99</td>\n",
       "      <td>K_阻燃结构_电气工程</td>\n",
       "    </tr>\n",
       "    <tr>\n",
       "      <th>559771</th>\n",
       "      <td>P_53e9a19ab7602d9702a8c078</td>\n",
       "      <td>K_焊接检验_机械工程</td>\n",
       "    </tr>\n",
       "    <tr>\n",
       "      <th>469484</th>\n",
       "      <td>P_53e9ba28b7602d9704630f13</td>\n",
       "      <td>K_节径比_电气工程</td>\n",
       "    </tr>\n",
       "    <tr>\n",
       "      <th>840635</th>\n",
       "      <td>P_53e9a7e3b7602d9703122f3f</td>\n",
       "      <td>K_分形测度_物理学</td>\n",
       "    </tr>\n",
       "  </tbody>\n",
       "</table>\n",
       "</div>"
      ],
      "text/plain": [
       "                          id_paper    id_concept\n",
       "677647  P_56d8b9f7dabfae2eee270c17  K_嵌入型洪积扇_地理学\n",
       "269368  P_53e9bc54b7602d97048cec99   K_阻燃结构_电气工程\n",
       "559771  P_53e9a19ab7602d9702a8c078   K_焊接检验_机械工程\n",
       "469484  P_53e9ba28b7602d9704630f13    K_节径比_电气工程\n",
       "840635  P_53e9a7e3b7602d9703122f3f    K_分形测度_物理学"
      ]
     },
     "execution_count": 111,
     "metadata": {},
     "output_type": "execute_result"
    }
   ],
   "source": [
    "paper_concept_relation_df.sample(5)"
   ]
  },
  {
   "cell_type": "code",
   "execution_count": 118,
   "metadata": {},
   "outputs": [],
   "source": [
    "mean = paper_concept_relation_df.groupby('id_paper')['id_concept'].count().mean()\n",
    "std = paper_concept_relation_df.groupby('id_paper')['id_concept'].count().std()\n",
    "min_v = paper_concept_relation_df.groupby('id_paper')['id_concept'].count().min()\n",
    "max_v = paper_concept_relation_df.groupby('id_paper')['id_concept'].count().max()\n",
    "median = paper_concept_relation_df.groupby('id_paper')['id_concept'].count().median()\n",
    "mode = paper_concept_relation_df.groupby('id_paper')['id_concept'].count().mode().values[0]"
   ]
  },
  {
   "cell_type": "code",
   "execution_count": 119,
   "metadata": {},
   "outputs": [
    {
     "name": "stdout",
     "output_type": "stream",
     "text": [
      "Promedio: 1.4692949293164066\n",
      "Std: 5.428915694816066\n",
      "Min: 1\n",
      "Max: 807\n",
      "Mediana: 1.0\n",
      "Moda: 1\n"
     ]
    }
   ],
   "source": [
    "print(\"Promedio: \" + str(mean))\n",
    "print(\"Std: \" + str(std))\n",
    "print(\"Min: \" + str(min_v))\n",
    "print(\"Max: \" + str(max_v))\n",
    "print(\"Mediana: \" + str(median))\n",
    "print(\"Moda: \" + str(mode))"
   ]
  },
  {
   "cell_type": "code",
   "execution_count": 120,
   "metadata": {},
   "outputs": [],
   "source": [
    "mean = paper_concept_relation_df.groupby('id_concept')['id_paper'].count().mean()\n",
    "std = paper_concept_relation_df.groupby('id_concept')['id_paper'].count().std()\n",
    "min_v = paper_concept_relation_df.groupby('id_concept')['id_paper'].count().min()\n",
    "max_v = paper_concept_relation_df.groupby('id_concept')['id_paper'].count().max()\n",
    "median = paper_concept_relation_df.groupby('id_concept')['id_paper'].count().median()\n",
    "mode = paper_concept_relation_df.groupby('id_concept')['id_paper'].count().mode().values[0]"
   ]
  },
  {
   "cell_type": "code",
   "execution_count": 121,
   "metadata": {},
   "outputs": [
    {
     "name": "stdout",
     "output_type": "stream",
     "text": [
      "Promedio: 9.976248264565168\n",
      "Std: 0.4115523306370083\n",
      "Min: 1\n",
      "Max: 20\n",
      "Mediana: 10.0\n",
      "Moda: 10\n"
     ]
    }
   ],
   "source": [
    "print(\"Promedio: \" + str(mean))\n",
    "print(\"Std: \" + str(std))\n",
    "print(\"Min: \" + str(min_v))\n",
    "print(\"Max: \" + str(max_v))\n",
    "print(\"Mediana: \" + str(median))\n",
    "print(\"Moda: \" + str(mode))"
   ]
  },
  {
   "cell_type": "markdown",
   "metadata": {},
   "source": [
    "### Relación curso concepto"
   ]
  },
  {
   "cell_type": "code",
   "execution_count": 114,
   "metadata": {},
   "outputs": [],
   "source": [
    "with open(\"../data/MOOCCube/relations/course-concept.json\", \"r\",encoding=\"utf-8\") as file:\n",
    "    courses_ids = []\n",
    "    concept_ids = []\n",
    "    for line in file:\n",
    "        line = line.split(\"\\t\")\n",
    "        courses_ids.append(line[0])\n",
    "        concept_ids.append(line[1].replace(\"\\n\",\"\"))"
   ]
  },
  {
   "cell_type": "code",
   "execution_count": 115,
   "metadata": {},
   "outputs": [],
   "source": [
    "course_concept_relation_df = pd.DataFrame({\"id_course\":courses_ids,\"id_concept\":concept_ids})"
   ]
  },
  {
   "cell_type": "code",
   "execution_count": null,
   "metadata": {},
   "outputs": [],
   "source": []
  },
  {
   "cell_type": "code",
   "execution_count": 116,
   "metadata": {},
   "outputs": [
    {
     "name": "stdout",
     "output_type": "stream",
     "text": [
      "Promedio: 245.6090775988287\n",
      "Std: 121.38267825448973\n",
      "Min: 6\n",
      "Max: 899\n",
      "Mediana: 234.0\n",
      "Moda: 284\n"
     ]
    }
   ],
   "source": [
    "mean = course_concept_relation_df.groupby('id_course')['id_concept'].count().mean()\n",
    "std = course_concept_relation_df.groupby('id_course')['id_concept'].count().std()\n",
    "min_v = course_concept_relation_df.groupby('id_course')['id_concept'].count().min()\n",
    "max_v = course_concept_relation_df.groupby('id_course')['id_concept'].count().max()\n",
    "median = course_concept_relation_df.groupby('id_course')['id_concept'].count().median()\n",
    "mode = course_concept_relation_df.groupby('id_course')['id_concept'].count().mode().values[0]\n",
    "print(\"Promedio: \" + str(mean))\n",
    "print(\"Std: \" + str(std))\n",
    "print(\"Min: \" + str(min_v))\n",
    "print(\"Max: \" + str(max_v))\n",
    "print(\"Mediana: \" + str(median))\n",
    "print(\"Moda: \" + str(mode))"
   ]
  },
  {
   "cell_type": "code",
   "execution_count": 117,
   "metadata": {},
   "outputs": [
    {
     "name": "stdout",
     "output_type": "stream",
     "text": [
      "Promedio: 6.6565215666045\n",
      "Std: 15.32440326226328\n",
      "Min: 1\n",
      "Max: 303\n",
      "Mediana: 2.0\n",
      "Moda: 1\n"
     ]
    }
   ],
   "source": [
    "mean = course_concept_relation_df.groupby('id_concept')['id_course'].count().mean()\n",
    "std = course_concept_relation_df.groupby('id_concept')['id_course'].count().std()\n",
    "min_v = course_concept_relation_df.groupby('id_concept')['id_course'].count().min()\n",
    "max_v = course_concept_relation_df.groupby('id_concept')['id_course'].count().max()\n",
    "median = course_concept_relation_df.groupby('id_concept')['id_course'].count().median()\n",
    "mode = course_concept_relation_df.groupby('id_concept')['id_course'].count().mode().values[0]\n",
    "print(\"Promedio: \" + str(mean))\n",
    "print(\"Std: \" + str(std))\n",
    "print(\"Min: \" + str(min_v))\n",
    "print(\"Max: \" + str(max_v))\n",
    "print(\"Mediana: \" + str(median))\n",
    "print(\"Moda: \" + str(mode))"
   ]
  },
  {
   "cell_type": "markdown",
   "metadata": {},
   "source": [
    "### Relación Curso Video"
   ]
  },
  {
   "cell_type": "code",
   "execution_count": 131,
   "metadata": {},
   "outputs": [],
   "source": [
    "with open(\"../data/MOOCCube/relations/course-video.json\", \"r\",encoding=\"utf-8\") as file:\n",
    "    course_ids = []\n",
    "    video_ids = []\n",
    "    for line in file:\n",
    "        line = line.split(\"\\t\")\n",
    "        course_ids.append(line[0].replace(\"\\n\",\"\"))\n",
    "        video_ids.append(line[1].replace(\"\\n\",\"\"))"
   ]
  },
  {
   "cell_type": "code",
   "execution_count": 132,
   "metadata": {},
   "outputs": [
    {
     "data": {
      "text/html": [
       "<div>\n",
       "<style scoped>\n",
       "    .dataframe tbody tr th:only-of-type {\n",
       "        vertical-align: middle;\n",
       "    }\n",
       "\n",
       "    .dataframe tbody tr th {\n",
       "        vertical-align: top;\n",
       "    }\n",
       "\n",
       "    .dataframe thead th {\n",
       "        text-align: right;\n",
       "    }\n",
       "</style>\n",
       "<table border=\"1\" class=\"dataframe\">\n",
       "  <thead>\n",
       "    <tr style=\"text-align: right;\">\n",
       "      <th></th>\n",
       "      <th>id_course</th>\n",
       "      <th>id_video</th>\n",
       "    </tr>\n",
       "  </thead>\n",
       "  <tbody>\n",
       "    <tr>\n",
       "      <th>9673</th>\n",
       "      <td>C_course-v1:TsinghuaX+2018031601X+2019_T1</td>\n",
       "      <td>V_622133719dd74caca32bf73261111350</td>\n",
       "    </tr>\n",
       "    <tr>\n",
       "      <th>22974</th>\n",
       "      <td>C_course-v1:TsinghuaX+10610224X+2019_T1</td>\n",
       "      <td>V_d767a143fd6e4e11b7389129925d3e93</td>\n",
       "    </tr>\n",
       "    <tr>\n",
       "      <th>34152</th>\n",
       "      <td>C_course-v1:TsinghuaX+20220332X+2019_T1</td>\n",
       "      <td>V_f59f0ed371944c5aa40935f40db882cf</td>\n",
       "    </tr>\n",
       "    <tr>\n",
       "      <th>3063</th>\n",
       "      <td>C_course-v1:TsinghuaX+10610193X+2019_T1</td>\n",
       "      <td>V_b6d3c29109264fe3b14104f2de990841</td>\n",
       "    </tr>\n",
       "    <tr>\n",
       "      <th>23144</th>\n",
       "      <td>C_course-v1:TsinghuaX+10450034_1X_2X+2019_T1</td>\n",
       "      <td>V_877895d1c13b43ef8dcfa2307c873291</td>\n",
       "    </tr>\n",
       "  </tbody>\n",
       "</table>\n",
       "</div>"
      ],
      "text/plain": [
       "                                          id_course  \\\n",
       "9673      C_course-v1:TsinghuaX+2018031601X+2019_T1   \n",
       "22974       C_course-v1:TsinghuaX+10610224X+2019_T1   \n",
       "34152       C_course-v1:TsinghuaX+20220332X+2019_T1   \n",
       "3063        C_course-v1:TsinghuaX+10610193X+2019_T1   \n",
       "23144  C_course-v1:TsinghuaX+10450034_1X_2X+2019_T1   \n",
       "\n",
       "                                 id_video  \n",
       "9673   V_622133719dd74caca32bf73261111350  \n",
       "22974  V_d767a143fd6e4e11b7389129925d3e93  \n",
       "34152  V_f59f0ed371944c5aa40935f40db882cf  \n",
       "3063   V_b6d3c29109264fe3b14104f2de990841  \n",
       "23144  V_877895d1c13b43ef8dcfa2307c873291  "
      ]
     },
     "execution_count": 132,
     "metadata": {},
     "output_type": "execute_result"
    }
   ],
   "source": [
    "course_video_relation_df = pd.DataFrame({\"id_course\":course_ids,\"id_video\":video_ids})\n",
    "course_video_relation_df.sample(5)"
   ]
  },
  {
   "cell_type": "code",
   "execution_count": 135,
   "metadata": {},
   "outputs": [
    {
     "name": "stdout",
     "output_type": "stream",
     "text": [
      "Promedio: 66.26345609065156\n",
      "Std: 46.72288908849797\n",
      "Min: 5\n",
      "Max: 510\n",
      "Mediana: 54.0\n",
      "Moda: 32\n"
     ]
    }
   ],
   "source": [
    "mean = course_video_relation_df.groupby('id_course')['id_video'].count().mean()\n",
    "std = course_video_relation_df.groupby('id_course')['id_video'].count().std()\n",
    "min_v = course_video_relation_df.groupby('id_course')['id_video'].count().min()\n",
    "max_v = course_video_relation_df.groupby('id_course')['id_video'].count().max()\n",
    "median = course_video_relation_df.groupby('id_course')['id_video'].count().median()\n",
    "mode = course_video_relation_df.groupby('id_course')['id_video'].count().mode().values[0]\n",
    "print(\"Promedio: \" + str(mean))\n",
    "print(\"Std: \" + str(std))\n",
    "print(\"Min: \" + str(min_v))\n",
    "print(\"Max: \" + str(max_v))\n",
    "print(\"Mediana: \" + str(median))\n",
    "print(\"Moda: \" + str(mode))"
   ]
  },
  {
   "cell_type": "code",
   "execution_count": 136,
   "metadata": {},
   "outputs": [
    {
     "name": "stdout",
     "output_type": "stream",
     "text": [
      "Promedio: 1.2252691129095623\n",
      "Std: 0.4349653731593946\n",
      "Min: 1\n",
      "Max: 4\n",
      "Mediana: 1.0\n",
      "Moda: 1\n"
     ]
    }
   ],
   "source": [
    "mean = course_video_relation_df.groupby('id_video')['id_course'].count().mean()\n",
    "std = course_video_relation_df.groupby('id_video')['id_course'].count().std()\n",
    "min_v = course_video_relation_df.groupby('id_video')['id_course'].count().min()\n",
    "max_v = course_video_relation_df.groupby('id_video')['id_course'].count().max()\n",
    "median = course_video_relation_df.groupby('id_video')['id_course'].count().median()\n",
    "mode = course_video_relation_df.groupby('id_video')['id_course'].count().mode().values[0]\n",
    "print(\"Promedio: \" + str(mean))\n",
    "print(\"Std: \" + str(std))\n",
    "print(\"Min: \" + str(min_v))\n",
    "print(\"Max: \" + str(max_v))\n",
    "print(\"Mediana: \" + str(median))\n",
    "print(\"Moda: \" + str(mode))"
   ]
  },
  {
   "cell_type": "markdown",
   "metadata": {},
   "source": [
    "### Relation School Course"
   ]
  },
  {
   "cell_type": "code",
   "execution_count": 143,
   "metadata": {},
   "outputs": [],
   "source": [
    "with open(\"../data/MOOCCube/relations/school-course.json\", \"r\",encoding=\"utf-8\") as file:\n",
    "    course_ids = []\n",
    "    school_ids = []\n",
    "    for line in file:\n",
    "        line = line.split(\"\\t\")\n",
    "        course_ids.append(line[1].replace(\"\\n\",\"\"))\n",
    "        school_ids.append(line[0].replace(\"\\n\",\"\"))"
   ]
  },
  {
   "cell_type": "code",
   "execution_count": 144,
   "metadata": {},
   "outputs": [
    {
     "data": {
      "text/html": [
       "<div>\n",
       "<style scoped>\n",
       "    .dataframe tbody tr th:only-of-type {\n",
       "        vertical-align: middle;\n",
       "    }\n",
       "\n",
       "    .dataframe tbody tr th {\n",
       "        vertical-align: top;\n",
       "    }\n",
       "\n",
       "    .dataframe thead th {\n",
       "        text-align: right;\n",
       "    }\n",
       "</style>\n",
       "<table border=\"1\" class=\"dataframe\">\n",
       "  <thead>\n",
       "    <tr style=\"text-align: right;\">\n",
       "      <th></th>\n",
       "      <th>id_course</th>\n",
       "      <th>id_school</th>\n",
       "    </tr>\n",
       "  </thead>\n",
       "  <tbody>\n",
       "    <tr>\n",
       "      <th>129</th>\n",
       "      <td>C_course-v1:McGillX+Chem181x+sp</td>\n",
       "      <td>S_McGillX</td>\n",
       "    </tr>\n",
       "    <tr>\n",
       "      <th>510</th>\n",
       "      <td>C_course-v1:TsinghuaX+00612642X+sp</td>\n",
       "      <td>S_TsinghuaX</td>\n",
       "    </tr>\n",
       "    <tr>\n",
       "      <th>237</th>\n",
       "      <td>C_course-v1:WellesleyX+ANTH207x+sp</td>\n",
       "      <td>S_WellesleyX</td>\n",
       "    </tr>\n",
       "    <tr>\n",
       "      <th>229</th>\n",
       "      <td>C_course-v1:LZU+2018122505X+2018_T2</td>\n",
       "      <td>S_LZU</td>\n",
       "    </tr>\n",
       "    <tr>\n",
       "      <th>412</th>\n",
       "      <td>C_course-v1:TsinghuaX+AP000008X+2019_T1</td>\n",
       "      <td>S_TsinghuaX</td>\n",
       "    </tr>\n",
       "  </tbody>\n",
       "</table>\n",
       "</div>"
      ],
      "text/plain": [
       "                                   id_course     id_school\n",
       "129          C_course-v1:McGillX+Chem181x+sp     S_McGillX\n",
       "510       C_course-v1:TsinghuaX+00612642X+sp   S_TsinghuaX\n",
       "237       C_course-v1:WellesleyX+ANTH207x+sp  S_WellesleyX\n",
       "229      C_course-v1:LZU+2018122505X+2018_T2         S_LZU\n",
       "412  C_course-v1:TsinghuaX+AP000008X+2019_T1   S_TsinghuaX"
      ]
     },
     "execution_count": 144,
     "metadata": {},
     "output_type": "execute_result"
    }
   ],
   "source": [
    "school_course_relation_df = pd.DataFrame({\"id_course\":course_ids,\"id_school\":school_ids})\n",
    "school_course_relation_df.sample(5)"
   ]
  },
  {
   "cell_type": "code",
   "execution_count": 148,
   "metadata": {},
   "outputs": [
    {
     "name": "stdout",
     "output_type": "stream",
     "text": [
      "Promedio: 1.0\n",
      "Std: 0.0\n",
      "Min: 1\n",
      "Max: 1\n",
      "Mediana: 1.0\n",
      "Moda: 1\n"
     ]
    }
   ],
   "source": [
    "mean = school_course_relation_df.groupby('id_course')['id_school'].count().mean()\n",
    "std = school_course_relation_df.groupby('id_course')['id_school'].count().std()\n",
    "min_v = school_course_relation_df.groupby('id_course')['id_school'].count().min()\n",
    "max_v = school_course_relation_df.groupby('id_course')['id_school'].count().max()\n",
    "median = school_course_relation_df.groupby('id_course')['id_school'].count().median()\n",
    "mode = school_course_relation_df.groupby('id_course')['id_school'].count().mode().values[0]\n",
    "print(\"Promedio: \" + str(mean))\n",
    "print(\"Std: \" + str(std))\n",
    "print(\"Min: \" + str(min_v))\n",
    "print(\"Max: \" + str(max_v))\n",
    "print(\"Mediana: \" + str(median))\n",
    "print(\"Moda: \" + str(mode))"
   ]
  },
  {
   "cell_type": "code",
   "execution_count": 149,
   "metadata": {},
   "outputs": [
    {
     "name": "stdout",
     "output_type": "stream",
     "text": [
      "Promedio: 4.66887417218543\n",
      "Std: 21.772680696782878\n",
      "Min: 1\n",
      "Max: 267\n",
      "Mediana: 2.0\n",
      "Moda: 1\n"
     ]
    }
   ],
   "source": [
    "mean = course_video_relation_df.groupby('id_school')['id_course'].count().mean()\n",
    "std = course_video_relation_df.groupby('id_school')['id_course'].count().std()\n",
    "min_v = course_video_relation_df.groupby('id_school')['id_course'].count().min()\n",
    "max_v = course_video_relation_df.groupby('id_school')['id_course'].count().max()\n",
    "median = course_video_relation_df.groupby('id_school')['id_course'].count().median()\n",
    "mode = course_video_relation_df.groupby('id_school')['id_course'].count().mode().values[0]\n",
    "print(\"Promedio: \" + str(mean))\n",
    "print(\"Std: \" + str(std))\n",
    "print(\"Min: \" + str(min_v))\n",
    "print(\"Max: \" + str(max_v))\n",
    "print(\"Mediana: \" + str(median))\n",
    "print(\"Moda: \" + str(mode))"
   ]
  },
  {
   "cell_type": "markdown",
   "metadata": {},
   "source": [
    "### Relation School Teacher"
   ]
  },
  {
   "cell_type": "code",
   "execution_count": 150,
   "metadata": {},
   "outputs": [],
   "source": [
    "with open(\"../data/MOOCCube/relations/school-teacher.json\", \"r\",encoding=\"utf-8\") as file:\n",
    "    teacher_ids = []\n",
    "    school_ids = []\n",
    "    for line in file:\n",
    "        line = line.split(\"\\t\")\n",
    "        teacher_ids.append(line[1].replace(\"\\n\",\"\"))\n",
    "        school_ids.append(line[0].replace(\"\\n\",\"\"))"
   ]
  },
  {
   "cell_type": "code",
   "execution_count": 151,
   "metadata": {},
   "outputs": [
    {
     "data": {
      "text/html": [
       "<div>\n",
       "<style scoped>\n",
       "    .dataframe tbody tr th:only-of-type {\n",
       "        vertical-align: middle;\n",
       "    }\n",
       "\n",
       "    .dataframe tbody tr th {\n",
       "        vertical-align: top;\n",
       "    }\n",
       "\n",
       "    .dataframe thead th {\n",
       "        text-align: right;\n",
       "    }\n",
       "</style>\n",
       "<table border=\"1\" class=\"dataframe\">\n",
       "  <thead>\n",
       "    <tr style=\"text-align: right;\">\n",
       "      <th></th>\n",
       "      <th>id_teacher</th>\n",
       "      <th>id_school</th>\n",
       "    </tr>\n",
       "  </thead>\n",
       "  <tbody>\n",
       "    <tr>\n",
       "      <th>2004</th>\n",
       "      <td>T_黄至辉</td>\n",
       "      <td>S_FJTCM</td>\n",
       "    </tr>\n",
       "    <tr>\n",
       "      <th>1653</th>\n",
       "      <td>T_沈拓</td>\n",
       "      <td>S_TsinghuaX</td>\n",
       "    </tr>\n",
       "    <tr>\n",
       "      <th>139</th>\n",
       "      <td>T_李勇刚</td>\n",
       "      <td>S_TCIS</td>\n",
       "    </tr>\n",
       "    <tr>\n",
       "      <th>339</th>\n",
       "      <td>T_熊炜</td>\n",
       "      <td>S_ZNDX</td>\n",
       "    </tr>\n",
       "    <tr>\n",
       "      <th>1020</th>\n",
       "      <td>T_刘震</td>\n",
       "      <td>S_教育部在线教育研究中心</td>\n",
       "    </tr>\n",
       "  </tbody>\n",
       "</table>\n",
       "</div>"
      ],
      "text/plain": [
       "     id_teacher      id_school\n",
       "2004      T_黄至辉        S_FJTCM\n",
       "1653       T_沈拓    S_TsinghuaX\n",
       "139       T_李勇刚         S_TCIS\n",
       "339        T_熊炜         S_ZNDX\n",
       "1020       T_刘震  S_教育部在线教育研究中心"
      ]
     },
     "execution_count": 151,
     "metadata": {},
     "output_type": "execute_result"
    }
   ],
   "source": [
    "school_teacher_relation_df = pd.DataFrame({\"id_teacher\":teacher_ids,\"id_school\":school_ids})\n",
    "school_teacher_relation_df.sample(5)"
   ]
  },
  {
   "cell_type": "code",
   "execution_count": 153,
   "metadata": {},
   "outputs": [
    {
     "name": "stdout",
     "output_type": "stream",
     "text": [
      "Promedio: 1.2255466052934407\n",
      "Std: 0.6776239987370188\n",
      "Min: 1\n",
      "Max: 10\n",
      "Mediana: 1.0\n",
      "Moda: 1\n"
     ]
    }
   ],
   "source": [
    "mean = school_teacher_relation_df.groupby('id_teacher')['id_school'].count().mean()\n",
    "std = school_teacher_relation_df.groupby('id_teacher')['id_school'].count().std()\n",
    "min_v = school_teacher_relation_df.groupby('id_teacher')['id_school'].count().min()\n",
    "max_v = school_teacher_relation_df.groupby('id_teacher')['id_school'].count().max()\n",
    "median = school_teacher_relation_df.groupby('id_teacher')['id_school'].count().median()\n",
    "mode = school_teacher_relation_df.groupby('id_teacher')['id_school'].count().mode().values[0]\n",
    "print(\"Promedio: \" + str(mean))\n",
    "print(\"Std: \" + str(std))\n",
    "print(\"Min: \" + str(min_v))\n",
    "print(\"Max: \" + str(max_v))\n",
    "print(\"Mediana: \" + str(median))\n",
    "print(\"Moda: \" + str(mode))"
   ]
  },
  {
   "cell_type": "code",
   "execution_count": 156,
   "metadata": {},
   "outputs": [
    {
     "name": "stdout",
     "output_type": "stream",
     "text": [
      "Promedio: 10.390243902439025\n",
      "Std: 34.69748680562463\n",
      "Min: 1\n",
      "Max: 476\n",
      "Mediana: 4.0\n",
      "Moda: 1\n"
     ]
    }
   ],
   "source": [
    "mean = school_teacher_relation_df.groupby('id_school')['id_teacher'].count().mean()\n",
    "std = school_teacher_relation_df.groupby('id_school')['id_teacher'].count().std()\n",
    "min_v = school_teacher_relation_df.groupby('id_school')['id_teacher'].count().min()\n",
    "max_v = school_teacher_relation_df.groupby('id_school')['id_teacher'].count().max()\n",
    "median = school_teacher_relation_df.groupby('id_school')['id_teacher'].count().median()\n",
    "mode = school_teacher_relation_df.groupby('id_school')['id_teacher'].count().mode().values[0]\n",
    "print(\"Promedio: \" + str(mean))\n",
    "print(\"Std: \" + str(std))\n",
    "print(\"Min: \" + str(min_v))\n",
    "print(\"Max: \" + str(max_v))\n",
    "print(\"Mediana: \" + str(median))\n",
    "print(\"Moda: \" + str(mode))"
   ]
  },
  {
   "cell_type": "markdown",
   "metadata": {},
   "source": [
    "### Relation Teacher Course"
   ]
  },
  {
   "cell_type": "code",
   "execution_count": 159,
   "metadata": {},
   "outputs": [],
   "source": [
    "with open(\"../data/MOOCCube/relations/teacher-course.json\", \"r\",encoding=\"utf-8\") as file:\n",
    "    teacher_ids = []\n",
    "    course_ids = []\n",
    "    for line in file:\n",
    "        line = line.split(\"\\t\")\n",
    "        teacher_ids.append(line[0].replace(\"\\n\",\"\"))\n",
    "        course_ids.append(line[1].replace(\"\\n\",\"\"))"
   ]
  },
  {
   "cell_type": "code",
   "execution_count": 160,
   "metadata": {},
   "outputs": [
    {
     "data": {
      "text/html": [
       "<div>\n",
       "<style scoped>\n",
       "    .dataframe tbody tr th:only-of-type {\n",
       "        vertical-align: middle;\n",
       "    }\n",
       "\n",
       "    .dataframe tbody tr th {\n",
       "        vertical-align: top;\n",
       "    }\n",
       "\n",
       "    .dataframe thead th {\n",
       "        text-align: right;\n",
       "    }\n",
       "</style>\n",
       "<table border=\"1\" class=\"dataframe\">\n",
       "  <thead>\n",
       "    <tr style=\"text-align: right;\">\n",
       "      <th></th>\n",
       "      <th>id_teacher</th>\n",
       "      <th>id_course</th>\n",
       "    </tr>\n",
       "  </thead>\n",
       "  <tbody>\n",
       "    <tr>\n",
       "      <th>139</th>\n",
       "      <td>T_陈艺</td>\n",
       "      <td>C_course-v1:gmc+3060511+2018_T2</td>\n",
       "    </tr>\n",
       "    <tr>\n",
       "      <th>236</th>\n",
       "      <td>T_韩国庆</td>\n",
       "      <td>C_course-v1:CUPB+100203E003+2019_T1</td>\n",
       "    </tr>\n",
       "    <tr>\n",
       "      <th>580</th>\n",
       "      <td>T_Maggie Sokolik</td>\n",
       "      <td>C_course-v1:UC_BerkeleyX+ColWri2_1x_2015_T1+20...</td>\n",
       "    </tr>\n",
       "    <tr>\n",
       "      <th>2053</th>\n",
       "      <td>T_梁恒</td>\n",
       "      <td>C_course-v1:TsinghuaX+AP000014X+2019_T1</td>\n",
       "    </tr>\n",
       "    <tr>\n",
       "      <th>1385</th>\n",
       "      <td>T_王元丰</td>\n",
       "      <td>C_course-v1:BJTU+2017072501X+sp</td>\n",
       "    </tr>\n",
       "  </tbody>\n",
       "</table>\n",
       "</div>"
      ],
      "text/plain": [
       "            id_teacher                                          id_course\n",
       "139               T_陈艺                    C_course-v1:gmc+3060511+2018_T2\n",
       "236              T_韩国庆                C_course-v1:CUPB+100203E003+2019_T1\n",
       "580   T_Maggie Sokolik  C_course-v1:UC_BerkeleyX+ColWri2_1x_2015_T1+20...\n",
       "2053              T_梁恒            C_course-v1:TsinghuaX+AP000014X+2019_T1\n",
       "1385             T_王元丰                    C_course-v1:BJTU+2017072501X+sp"
      ]
     },
     "execution_count": 160,
     "metadata": {},
     "output_type": "execute_result"
    }
   ],
   "source": [
    "course_teacher_relation_df = pd.DataFrame({\"id_teacher\":teacher_ids,\"id_course\":course_ids})\n",
    "course_teacher_relation_df.sample(5)"
   ]
  },
  {
   "cell_type": "code",
   "execution_count": 162,
   "metadata": {},
   "outputs": [
    {
     "name": "stdout",
     "output_type": "stream",
     "text": [
      "Promedio: 1.3515535097813578\n",
      "Std: 0.719095897179233\n",
      "Min: 1\n",
      "Max: 7\n",
      "Mediana: 1.0\n",
      "Moda: 1\n"
     ]
    }
   ],
   "source": [
    "mean = course_teacher_relation_df.groupby('id_teacher')['id_course'].count().mean()\n",
    "std = course_teacher_relation_df.groupby('id_teacher')['id_course'].count().std()\n",
    "min_v = course_teacher_relation_df.groupby('id_teacher')['id_course'].count().min()\n",
    "max_v = course_teacher_relation_df.groupby('id_teacher')['id_course'].count().max()\n",
    "median = course_teacher_relation_df.groupby('id_teacher')['id_course'].count().median()\n",
    "mode = course_teacher_relation_df.groupby('id_teacher')['id_course'].count().mode().values[0]\n",
    "print(\"Promedio: \" + str(mean))\n",
    "print(\"Std: \" + str(std))\n",
    "print(\"Min: \" + str(min_v))\n",
    "print(\"Max: \" + str(max_v))\n",
    "print(\"Mediana: \" + str(median))\n",
    "print(\"Moda: \" + str(mode))"
   ]
  },
  {
   "cell_type": "code",
   "execution_count": 163,
   "metadata": {},
   "outputs": [
    {
     "name": "stdout",
     "output_type": "stream",
     "text": [
      "Promedio: 3.370157819225251\n",
      "Std: 3.6914975473002785\n",
      "Min: 1\n",
      "Max: 36\n",
      "Mediana: 2.0\n",
      "Moda: 1\n"
     ]
    }
   ],
   "source": [
    "mean = course_teacher_relation_df.groupby('id_course')['id_teacher'].count().mean()\n",
    "std = course_teacher_relation_df.groupby('id_course')['id_teacher'].count().std()\n",
    "min_v = course_teacher_relation_df.groupby('id_course')['id_teacher'].count().min()\n",
    "max_v = course_teacher_relation_df.groupby('id_course')['id_teacher'].count().max()\n",
    "median = course_teacher_relation_df.groupby('id_course')['id_teacher'].count().median()\n",
    "mode = course_teacher_relation_df.groupby('id_course')['id_teacher'].count().mode().values[0]\n",
    "print(\"Promedio: \" + str(mean))\n",
    "print(\"Std: \" + str(std))\n",
    "print(\"Min: \" + str(min_v))\n",
    "print(\"Max: \" + str(max_v))\n",
    "print(\"Mediana: \" + str(median))\n",
    "print(\"Moda: \" + str(mode))"
   ]
  },
  {
   "cell_type": "markdown",
   "metadata": {},
   "source": [
    "### Relaction User Video"
   ]
  },
  {
   "cell_type": "code",
   "execution_count": 164,
   "metadata": {},
   "outputs": [],
   "source": [
    "with open(\"../data/MOOCCube/relations/user-video.json\", \"r\",encoding=\"utf-8\") as file:\n",
    "    user_ids = []\n",
    "    video_ids = []\n",
    "    for line in file:\n",
    "        line = line.split(\"\\t\")\n",
    "        user_ids.append(line[0].replace(\"\\n\",\"\"))\n",
    "        video_ids.append(line[1].replace(\"\\n\",\"\"))"
   ]
  },
  {
   "cell_type": "code",
   "execution_count": 165,
   "metadata": {},
   "outputs": [
    {
     "data": {
      "text/html": [
       "<div>\n",
       "<style scoped>\n",
       "    .dataframe tbody tr th:only-of-type {\n",
       "        vertical-align: middle;\n",
       "    }\n",
       "\n",
       "    .dataframe tbody tr th {\n",
       "        vertical-align: top;\n",
       "    }\n",
       "\n",
       "    .dataframe thead th {\n",
       "        text-align: right;\n",
       "    }\n",
       "</style>\n",
       "<table border=\"1\" class=\"dataframe\">\n",
       "  <thead>\n",
       "    <tr style=\"text-align: right;\">\n",
       "      <th></th>\n",
       "      <th>id_user</th>\n",
       "      <th>id_video</th>\n",
       "    </tr>\n",
       "  </thead>\n",
       "  <tbody>\n",
       "    <tr>\n",
       "      <th>3646556</th>\n",
       "      <td>U_6885637</td>\n",
       "      <td>V_6d4456ceb15a4fb790ba7562d2f8cbee</td>\n",
       "    </tr>\n",
       "    <tr>\n",
       "      <th>8895157</th>\n",
       "      <td>U_11752918</td>\n",
       "      <td>V_1d7a2f3294de4393bc41fecfa3c95949</td>\n",
       "    </tr>\n",
       "    <tr>\n",
       "      <th>7165563</th>\n",
       "      <td>U_4442664</td>\n",
       "      <td>V_3b46970fa1d74d47af05b5e5bae509e9</td>\n",
       "    </tr>\n",
       "    <tr>\n",
       "      <th>985145</th>\n",
       "      <td>U_9507024</td>\n",
       "      <td>V_ee338aace975455a95e681ac59b21e8f</td>\n",
       "    </tr>\n",
       "    <tr>\n",
       "      <th>176709</th>\n",
       "      <td>U_1096186</td>\n",
       "      <td>V_2f61f279587e4c6f8b19732658415b53</td>\n",
       "    </tr>\n",
       "  </tbody>\n",
       "</table>\n",
       "</div>"
      ],
      "text/plain": [
       "            id_user                            id_video\n",
       "3646556   U_6885637  V_6d4456ceb15a4fb790ba7562d2f8cbee\n",
       "8895157  U_11752918  V_1d7a2f3294de4393bc41fecfa3c95949\n",
       "7165563   U_4442664  V_3b46970fa1d74d47af05b5e5bae509e9\n",
       "985145    U_9507024  V_ee338aace975455a95e681ac59b21e8f\n",
       "176709    U_1096186  V_2f61f279587e4c6f8b19732658415b53"
      ]
     },
     "execution_count": 165,
     "metadata": {},
     "output_type": "execute_result"
    }
   ],
   "source": [
    "user_video_relation_df = pd.DataFrame({\"id_user\":user_ids,\"id_video\":video_ids})\n",
    "user_video_relation_df.sample(5)"
   ]
  },
  {
   "cell_type": "code",
   "execution_count": 166,
   "metadata": {},
   "outputs": [
    {
     "name": "stdout",
     "output_type": "stream",
     "text": [
      "Promedio: 44.936189438702\n",
      "Std: 75.09035170249358\n",
      "Min: 2\n",
      "Max: 3545\n",
      "Mediana: 19.0\n",
      "Moda: 4\n"
     ]
    }
   ],
   "source": [
    "mean = user_video_relation_df.groupby('id_user')['id_video'].count().mean()\n",
    "std = user_video_relation_df.groupby('id_user')['id_video'].count().std()\n",
    "min_v = user_video_relation_df.groupby('id_user')['id_video'].count().min()\n",
    "max_v = user_video_relation_df.groupby('id_user')['id_video'].count().max()\n",
    "median = user_video_relation_df.groupby('id_user')['id_video'].count().median()\n",
    "mode = user_video_relation_df.groupby('id_user')['id_video'].count().mode().values[0]\n",
    "print(\"Promedio: \" + str(mean))\n",
    "print(\"Std: \" + str(std))\n",
    "print(\"Min: \" + str(min_v))\n",
    "print(\"Max: \" + str(max_v))\n",
    "print(\"Mediana: \" + str(median))\n",
    "print(\"Moda: \" + str(mode))"
   ]
  },
  {
   "cell_type": "code",
   "execution_count": 167,
   "metadata": {},
   "outputs": [
    {
     "name": "stdout",
     "output_type": "stream",
     "text": [
      "Promedio: 248.32835820895522\n",
      "Std: 784.6445123972571\n",
      "Min: 1\n",
      "Max: 24025\n",
      "Mediana: 35.5\n",
      "Moda: 1\n"
     ]
    }
   ],
   "source": [
    "mean = user_video_relation_df.groupby('id_video')['id_user'].count().mean()\n",
    "std = user_video_relation_df.groupby('id_video')['id_user'].count().std()\n",
    "min_v = user_video_relation_df.groupby('id_video')['id_user'].count().min()\n",
    "max_v = user_video_relation_df.groupby('id_video')['id_user'].count().max()\n",
    "median = user_video_relation_df.groupby('id_video')['id_user'].count().median()\n",
    "mode = user_video_relation_df.groupby('id_video')['id_user'].count().mode().values[0]\n",
    "print(\"Promedio: \" + str(mean))\n",
    "print(\"Std: \" + str(std))\n",
    "print(\"Min: \" + str(min_v))\n",
    "print(\"Max: \" + str(max_v))\n",
    "print(\"Mediana: \" + str(median))\n",
    "print(\"Moda: \" + str(mode))"
   ]
  },
  {
   "cell_type": "markdown",
   "metadata": {},
   "source": [
    "### Relation video concept"
   ]
  },
  {
   "cell_type": "code",
   "execution_count": 168,
   "metadata": {},
   "outputs": [],
   "source": [
    "with open(\"../data/MOOCCube/relations/video-concept.json\", \"r\",encoding=\"utf-8\") as file:\n",
    "    concept_ids = []\n",
    "    video_ids = []\n",
    "    for line in file:\n",
    "        line = line.split(\"\\t\")\n",
    "        concept_ids.append(line[0].replace(\"\\n\",\"\"))\n",
    "        video_ids.append(line[1].replace(\"\\n\",\"\"))"
   ]
  },
  {
   "cell_type": "code",
   "execution_count": 169,
   "metadata": {},
   "outputs": [
    {
     "data": {
      "text/html": [
       "<div>\n",
       "<style scoped>\n",
       "    .dataframe tbody tr th:only-of-type {\n",
       "        vertical-align: middle;\n",
       "    }\n",
       "\n",
       "    .dataframe tbody tr th {\n",
       "        vertical-align: top;\n",
       "    }\n",
       "\n",
       "    .dataframe thead th {\n",
       "        text-align: right;\n",
       "    }\n",
       "</style>\n",
       "<table border=\"1\" class=\"dataframe\">\n",
       "  <thead>\n",
       "    <tr style=\"text-align: right;\">\n",
       "      <th></th>\n",
       "      <th>id_video</th>\n",
       "      <th>id_concept</th>\n",
       "    </tr>\n",
       "  </thead>\n",
       "  <tbody>\n",
       "    <tr>\n",
       "      <th>22546</th>\n",
       "      <td>K_骨架_机械工程</td>\n",
       "      <td>V_8ad0b338a67543ea8c3509a7719fc59f</td>\n",
       "    </tr>\n",
       "    <tr>\n",
       "      <th>268804</th>\n",
       "      <td>K_输出流_计算机科学技术</td>\n",
       "      <td>V_9029e4f86207494d9cf33bd85dbbe7c9</td>\n",
       "    </tr>\n",
       "    <tr>\n",
       "      <th>125848</th>\n",
       "      <td>K_温度场_机械工程</td>\n",
       "      <td>V_5f0de1e191334ea4aee3d43fee6c7a14</td>\n",
       "    </tr>\n",
       "    <tr>\n",
       "      <th>16164</th>\n",
       "      <td>K_晋升_管理科学技术</td>\n",
       "      <td>V_18643a5ef13c4f39971c0ea5a91a37b0</td>\n",
       "    </tr>\n",
       "    <tr>\n",
       "      <th>87429</th>\n",
       "      <td>K_碰撞力_机械工程</td>\n",
       "      <td>V_081b9e0c85af4e06a861561b8817d521</td>\n",
       "    </tr>\n",
       "  </tbody>\n",
       "</table>\n",
       "</div>"
      ],
      "text/plain": [
       "             id_video                          id_concept\n",
       "22546       K_骨架_机械工程  V_8ad0b338a67543ea8c3509a7719fc59f\n",
       "268804  K_输出流_计算机科学技术  V_9029e4f86207494d9cf33bd85dbbe7c9\n",
       "125848     K_温度场_机械工程  V_5f0de1e191334ea4aee3d43fee6c7a14\n",
       "16164     K_晋升_管理科学技术  V_18643a5ef13c4f39971c0ea5a91a37b0\n",
       "87429      K_碰撞力_机械工程  V_081b9e0c85af4e06a861561b8817d521"
      ]
     },
     "execution_count": 169,
     "metadata": {},
     "output_type": "execute_result"
    }
   ],
   "source": [
    "concept_video_relation_df = pd.DataFrame({\"id_video\":video_ids,\"id_concept\":concept_ids})\n",
    "concept_video_relation_df.sample(5)"
   ]
  },
  {
   "cell_type": "code",
   "execution_count": 170,
   "metadata": {},
   "outputs": [
    {
     "name": "stdout",
     "output_type": "stream",
     "text": [
      "Promedio: 9.706865689754558\n",
      "Std: 1.2040049508011406\n",
      "Min: 1\n",
      "Max: 10\n",
      "Mediana: 10.0\n",
      "Moda: 10\n"
     ]
    }
   ],
   "source": [
    "mean = concept_video_relation_df.groupby('id_concept')['id_video'].count().mean()\n",
    "std = concept_video_relation_df.groupby('id_concept')['id_video'].count().std()\n",
    "min_v = concept_video_relation_df.groupby('id_concept')['id_video'].count().min()\n",
    "max_v = concept_video_relation_df.groupby('id_concept')['id_video'].count().max()\n",
    "median = concept_video_relation_df.groupby('id_concept')['id_video'].count().median()\n",
    "mode = concept_video_relation_df.groupby('id_concept')['id_video'].count().mode().values[0]\n",
    "print(\"Promedio: \" + str(mean))\n",
    "print(\"Std: \" + str(std))\n",
    "print(\"Min: \" + str(min_v))\n",
    "print(\"Max: \" + str(max_v))\n",
    "print(\"Mediana: \" + str(median))\n",
    "print(\"Moda: \" + str(mode))"
   ]
  },
  {
   "cell_type": "code",
   "execution_count": 171,
   "metadata": {},
   "outputs": [
    {
     "name": "stdout",
     "output_type": "stream",
     "text": [
      "Promedio: 12.6958454029602\n",
      "Std: 34.08974596503853\n",
      "Min: 1\n",
      "Max: 770\n",
      "Mediana: 3.0\n",
      "Moda: 1\n"
     ]
    }
   ],
   "source": [
    "mean = concept_video_relation_df.groupby('id_video')['id_concept'].count().mean()\n",
    "std = concept_video_relation_df.groupby('id_video')['id_concept'].count().std()\n",
    "min_v = concept_video_relation_df.groupby('id_video')['id_concept'].count().min()\n",
    "max_v = concept_video_relation_df.groupby('id_video')['id_concept'].count().max()\n",
    "median = concept_video_relation_df.groupby('id_video')['id_concept'].count().median()\n",
    "mode = concept_video_relation_df.groupby('id_video')['id_concept'].count().mode().values[0]\n",
    "print(\"Promedio: \" + str(mean))\n",
    "print(\"Std: \" + str(std))\n",
    "print(\"Min: \" + str(min_v))\n",
    "print(\"Max: \" + str(max_v))\n",
    "print(\"Mediana: \" + str(median))\n",
    "print(\"Moda: \" + str(mode))"
   ]
  }
 ],
 "metadata": {
  "kernelspec": {
   "display_name": "venv",
   "language": "python",
   "name": "python3"
  },
  "language_info": {
   "codemirror_mode": {
    "name": "ipython",
    "version": 3
   },
   "file_extension": ".py",
   "mimetype": "text/x-python",
   "name": "python",
   "nbconvert_exporter": "python",
   "pygments_lexer": "ipython3",
   "version": "3.10.11"
  },
  "orig_nbformat": 4
 },
 "nbformat": 4,
 "nbformat_minor": 2
}
