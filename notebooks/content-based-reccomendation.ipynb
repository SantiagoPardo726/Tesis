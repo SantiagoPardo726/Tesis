{
 "cells": [
  {
   "cell_type": "code",
   "execution_count": 1,
   "metadata": {},
   "outputs": [
    {
     "name": "stderr",
     "output_type": "stream",
     "text": [
      "c:\\Users\\santi\\Documents\\GitHub\\Tesis\\venv\\Lib\\site-packages\\tqdm\\auto.py:21: TqdmWarning: IProgress not found. Please update jupyter and ipywidgets. See https://ipywidgets.readthedocs.io/en/stable/user_install.html\n",
      "  from .autonotebook import tqdm as notebook_tqdm\n"
     ]
    }
   ],
   "source": [
    "from transformers import BertTokenizer, BertModel\n",
    "import torch\n",
    "from sentence_transformers import SentenceTransformer\n",
    "\n",
    "import pandas as pd\n",
    "from bs4 import BeautifulSoup\n",
    "from sklearn.metrics.pairwise import cosine_similarity"
   ]
  },
  {
   "cell_type": "code",
   "execution_count": 2,
   "metadata": {},
   "outputs": [],
   "source": [
    "model_name = 'bert-base-uncased'\n",
    "tokenizer = BertTokenizer.from_pretrained(model_name)\n",
    "model = BertModel.from_pretrained(model_name)\n",
    "\n",
    "def get_course_embedding(course_description):\n",
    "    inputs = tokenizer(course_description, return_tensors='pt', padding=True, truncation=True)\n",
    "    with torch.no_grad():\n",
    "        outputs = model(**inputs)\n",
    "    return outputs.last_hidden_state.mean(dim=1)  \n",
    "\n"
   ]
  },
  {
   "cell_type": "code",
   "execution_count": 3,
   "metadata": {},
   "outputs": [],
   "source": [
    "course_df = pd.read_json(\"../data/MOOCCube/entities/course.json\",lines=True)\n",
    "# course_df = course_df.sample(100)\n",
    "def remove_html_and_carriage_returns(text):\n",
    "    soup = BeautifulSoup(text, \"html.parser\")\n",
    "    text_without_html = soup.get_text().replace(\"\\n\",\"\").replace(\"\\r\",\"\").replace(\"\\t\",\"\")\n",
    "    \n",
    "    return text_without_html\n",
    "\n",
    "course_df[\"about\"] = course_df[\"about\"].apply(remove_html_and_carriage_returns)"
   ]
  },
  {
   "cell_type": "code",
   "execution_count": 4,
   "metadata": {},
   "outputs": [],
   "source": [
    "course_embeddings = {}\n",
    "for index, row in course_df.iterrows():\n",
    "    id = row[\"id\"]\n",
    "    course_embedding = get_course_embedding(row[\"about\"])\n",
    "    course_embeddings[id] = course_embedding"
   ]
  },
  {
   "cell_type": "code",
   "execution_count": 5,
   "metadata": {},
   "outputs": [],
   "source": [
    "def get_course_similarity(course_embedding1, course_embedding2):\n",
    "    return cosine_similarity(course_embedding1, course_embedding2)"
   ]
  },
  {
   "cell_type": "code",
   "execution_count": 6,
   "metadata": {},
   "outputs": [],
   "source": [
    "course_similarity_matrix = {}\n",
    "for course_id1, embedding1 in course_embeddings.items():\n",
    "    course_similarity_row = {}\n",
    "    for course_id2, embedding2 in course_embeddings.items():\n",
    "        similarity = get_course_similarity(embedding1, embedding2)\n",
    "        course_similarity_row[course_id2] = similarity\n",
    "    course_similarity_matrix[course_id1] = course_similarity_row\n"
   ]
  },
  {
   "cell_type": "code",
   "execution_count": 12,
   "metadata": {},
   "outputs": [],
   "source": [
    "def recommend_courses(user_took_courses, num_recommendations=10):\n",
    "    user_took_embeddings = [course_embeddings[course_id] for course_id in user_took_courses]\n",
    "    user_mean_embedding = torch.stack(user_took_embeddings).mean(dim=0)\n",
    "    \n",
    "    course_scores = {}\n",
    "    for course_id, course_embedding in course_embeddings.items():\n",
    "        if course_id not in user_took_courses:\n",
    "            similarity = get_course_similarity(user_mean_embedding, course_embedding)\n",
    "            course_scores[course_id] = similarity\n",
    "    \n",
    "    sorted_courses = sorted(course_scores.items(), key=lambda x: x[1], reverse=True)\n",
    "    recommended_courses = [course_id for course_id, _ in sorted_courses[:num_recommendations]]\n",
    "    return recommended_courses\n",
    "\n",
    "user_took_courses = { 'C_course-v1:TsinghuaX+02070251X+2019_T1', 'C_course-v1:TsinghuaX+60240013X+sp'} \n",
    "recommended_courses = recommend_courses(user_took_courses)\n",
    "\n",
    "\n",
    "# print(\"Recomendaciones:\", recommended_courses)\n"
   ]
  },
  {
   "cell_type": "code",
   "execution_count": 13,
   "metadata": {},
   "outputs": [
    {
     "name": "stdout",
     "output_type": "stream",
     "text": [
      "['C_course-v1:TsinghuaX+02070251X+sp', 'C_course-v1:TsinghuaX+20430054X1+sp', 'C_course-v1:TsinghuaX+20430054X_1+sp', 'C_course-v1:KMUSTX+8209001+sp', 'C_course-v1:TsinghuaX+AP201601X+2019_T1', 'C_course-v1:edX+BlendedX+sp', 'C_course-v1:RiceX+AdvENVSCI_1x+sp', 'C_course-v1:McGillX+ATOC185x+2015_T1', 'C_course-v1:KMUSTX+8209001+2019_T1', 'C_course-v1:TsinghuaX+34000312X+2019_T1']\n"
     ]
    }
   ],
   "source": [
    "print(recommended_courses)"
   ]
  },
  {
   "cell_type": "markdown",
   "metadata": {},
   "source": [
    "Evaluation"
   ]
  },
  {
   "cell_type": "code",
   "execution_count": 8,
   "metadata": {},
   "outputs": [],
   "source": [
    "user_df = pd.read_json(\"../data/MOOCCube/entities/user.json\",lines=True)\n",
    "user_df = user_df[user_df['course_order'].apply(lambda x: len(x) >= 5)]\n",
    "per = 0.75\n",
    "i = 0\n",
    "evaluations=[]\n",
    "for index, row in user_df.iterrows():\n",
    "    elements = int(len(row[\"course_order\"]) * per)\n",
    "    train_list = row[\"course_order\"][:elements]\n",
    "    evaluation_list = row[\"course_order\"][elements:]\n",
    "    recommended_courses = recommend_courses(set(train_list), course_similarity_matrix,num_recommendations=15)\n",
    "    set1 = set(recommended_courses)\n",
    "    set2 = set(evaluation_list)\n",
    "    set3 = set1.intersection(set2)\n",
    "    evaluations.append({\"user_id\":row[\"id\"],\"matches\":len(set3),\"recomendations\":len(recommended_courses),\"train\":len(train_list),\"eval\":len(evaluation_list)})\n",
    "    i += 1\n",
    "\n",
    "\n",
    "        "
   ]
  },
  {
   "cell_type": "code",
   "execution_count": 9,
   "metadata": {},
   "outputs": [
    {
     "data": {
      "text/html": [
       "<div>\n",
       "<style scoped>\n",
       "    .dataframe tbody tr th:only-of-type {\n",
       "        vertical-align: middle;\n",
       "    }\n",
       "\n",
       "    .dataframe tbody tr th {\n",
       "        vertical-align: top;\n",
       "    }\n",
       "\n",
       "    .dataframe thead th {\n",
       "        text-align: right;\n",
       "    }\n",
       "</style>\n",
       "<table border=\"1\" class=\"dataframe\">\n",
       "  <thead>\n",
       "    <tr style=\"text-align: right;\">\n",
       "      <th></th>\n",
       "      <th>user_id</th>\n",
       "      <th>matches</th>\n",
       "      <th>recomendations</th>\n",
       "      <th>train</th>\n",
       "      <th>eval</th>\n",
       "    </tr>\n",
       "  </thead>\n",
       "  <tbody>\n",
       "    <tr>\n",
       "      <th>30885</th>\n",
       "      <td>U_8176803</td>\n",
       "      <td>1</td>\n",
       "      <td>15</td>\n",
       "      <td>4</td>\n",
       "      <td>2</td>\n",
       "    </tr>\n",
       "    <tr>\n",
       "      <th>21334</th>\n",
       "      <td>U_10708352</td>\n",
       "      <td>1</td>\n",
       "      <td>15</td>\n",
       "      <td>5</td>\n",
       "      <td>2</td>\n",
       "    </tr>\n",
       "    <tr>\n",
       "      <th>9962</th>\n",
       "      <td>U_7950080</td>\n",
       "      <td>0</td>\n",
       "      <td>15</td>\n",
       "      <td>3</td>\n",
       "      <td>2</td>\n",
       "    </tr>\n",
       "    <tr>\n",
       "      <th>334</th>\n",
       "      <td>U_6687763</td>\n",
       "      <td>0</td>\n",
       "      <td>15</td>\n",
       "      <td>3</td>\n",
       "      <td>2</td>\n",
       "    </tr>\n",
       "    <tr>\n",
       "      <th>34848</th>\n",
       "      <td>U_245225</td>\n",
       "      <td>0</td>\n",
       "      <td>15</td>\n",
       "      <td>3</td>\n",
       "      <td>2</td>\n",
       "    </tr>\n",
       "  </tbody>\n",
       "</table>\n",
       "</div>"
      ],
      "text/plain": [
       "          user_id  matches  recomendations  train  eval\n",
       "30885   U_8176803        1              15      4     2\n",
       "21334  U_10708352        1              15      5     2\n",
       "9962    U_7950080        0              15      3     2\n",
       "334     U_6687763        0              15      3     2\n",
       "34848    U_245225        0              15      3     2"
      ]
     },
     "execution_count": 9,
     "metadata": {},
     "output_type": "execute_result"
    }
   ],
   "source": [
    "df_evaluations = pd.DataFrame(evaluations)\n",
    "df_evaluations.sample(5)"
   ]
  },
  {
   "cell_type": "code",
   "execution_count": 10,
   "metadata": {},
   "outputs": [
    {
     "data": {
      "text/html": [
       "<div>\n",
       "<style scoped>\n",
       "    .dataframe tbody tr th:only-of-type {\n",
       "        vertical-align: middle;\n",
       "    }\n",
       "\n",
       "    .dataframe tbody tr th {\n",
       "        vertical-align: top;\n",
       "    }\n",
       "\n",
       "    .dataframe thead th {\n",
       "        text-align: right;\n",
       "    }\n",
       "</style>\n",
       "<table border=\"1\" class=\"dataframe\">\n",
       "  <thead>\n",
       "    <tr style=\"text-align: right;\">\n",
       "      <th></th>\n",
       "      <th>user_id</th>\n",
       "      <th>matches</th>\n",
       "      <th>recomendations</th>\n",
       "      <th>train</th>\n",
       "      <th>eval</th>\n",
       "    </tr>\n",
       "  </thead>\n",
       "  <tbody>\n",
       "    <tr>\n",
       "      <th>4624</th>\n",
       "      <td>U_7947229</td>\n",
       "      <td>0</td>\n",
       "      <td>15</td>\n",
       "      <td>21</td>\n",
       "      <td>7</td>\n",
       "    </tr>\n",
       "    <tr>\n",
       "      <th>5190</th>\n",
       "      <td>U_887326</td>\n",
       "      <td>0</td>\n",
       "      <td>15</td>\n",
       "      <td>7</td>\n",
       "      <td>3</td>\n",
       "    </tr>\n",
       "    <tr>\n",
       "      <th>27787</th>\n",
       "      <td>U_10792368</td>\n",
       "      <td>0</td>\n",
       "      <td>15</td>\n",
       "      <td>4</td>\n",
       "      <td>2</td>\n",
       "    </tr>\n",
       "    <tr>\n",
       "      <th>28311</th>\n",
       "      <td>U_11597961</td>\n",
       "      <td>0</td>\n",
       "      <td>15</td>\n",
       "      <td>3</td>\n",
       "      <td>2</td>\n",
       "    </tr>\n",
       "    <tr>\n",
       "      <th>12162</th>\n",
       "      <td>U_1046984</td>\n",
       "      <td>1</td>\n",
       "      <td>15</td>\n",
       "      <td>6</td>\n",
       "      <td>2</td>\n",
       "    </tr>\n",
       "  </tbody>\n",
       "</table>\n",
       "</div>"
      ],
      "text/plain": [
       "          user_id  matches  recomendations  train  eval\n",
       "4624    U_7947229        0              15     21     7\n",
       "5190     U_887326        0              15      7     3\n",
       "27787  U_10792368        0              15      4     2\n",
       "28311  U_11597961        0              15      3     2\n",
       "12162   U_1046984        1              15      6     2"
      ]
     },
     "execution_count": 10,
     "metadata": {},
     "output_type": "execute_result"
    }
   ],
   "source": [
    "df_evaluations.sample(5)"
   ]
  },
  {
   "cell_type": "code",
   "execution_count": 11,
   "metadata": {},
   "outputs": [
    {
     "data": {
      "text/plain": [
       "(34917, 5)"
      ]
     },
     "execution_count": 11,
     "metadata": {},
     "output_type": "execute_result"
    }
   ],
   "source": [
    "df_evaluations.shape"
   ]
  },
  {
   "cell_type": "code",
   "execution_count": 12,
   "metadata": {},
   "outputs": [],
   "source": [
    "df_evaluations.to_csv('archivo.csv', index=False)"
   ]
  },
  {
   "cell_type": "code",
   "execution_count": 13,
   "metadata": {},
   "outputs": [],
   "source": [
    "df_evaluations = pd.read_csv(\"archivo.csv\")"
   ]
  },
  {
   "cell_type": "code",
   "execution_count": 14,
   "metadata": {},
   "outputs": [
    {
     "data": {
      "text/html": [
       "<div>\n",
       "<style scoped>\n",
       "    .dataframe tbody tr th:only-of-type {\n",
       "        vertical-align: middle;\n",
       "    }\n",
       "\n",
       "    .dataframe tbody tr th {\n",
       "        vertical-align: top;\n",
       "    }\n",
       "\n",
       "    .dataframe thead th {\n",
       "        text-align: right;\n",
       "    }\n",
       "</style>\n",
       "<table border=\"1\" class=\"dataframe\">\n",
       "  <thead>\n",
       "    <tr style=\"text-align: right;\">\n",
       "      <th></th>\n",
       "      <th>user_id</th>\n",
       "      <th>matches</th>\n",
       "      <th>recomendations</th>\n",
       "      <th>train</th>\n",
       "      <th>eval</th>\n",
       "    </tr>\n",
       "  </thead>\n",
       "  <tbody>\n",
       "    <tr>\n",
       "      <th>0</th>\n",
       "      <td>U_7001215</td>\n",
       "      <td>0</td>\n",
       "      <td>15</td>\n",
       "      <td>3</td>\n",
       "      <td>2</td>\n",
       "    </tr>\n",
       "    <tr>\n",
       "      <th>1</th>\n",
       "      <td>U_7423998</td>\n",
       "      <td>0</td>\n",
       "      <td>15</td>\n",
       "      <td>5</td>\n",
       "      <td>2</td>\n",
       "    </tr>\n",
       "    <tr>\n",
       "      <th>2</th>\n",
       "      <td>U_545306</td>\n",
       "      <td>0</td>\n",
       "      <td>15</td>\n",
       "      <td>7</td>\n",
       "      <td>3</td>\n",
       "    </tr>\n",
       "    <tr>\n",
       "      <th>3</th>\n",
       "      <td>U_7594103</td>\n",
       "      <td>1</td>\n",
       "      <td>15</td>\n",
       "      <td>4</td>\n",
       "      <td>2</td>\n",
       "    </tr>\n",
       "    <tr>\n",
       "      <th>4</th>\n",
       "      <td>U_3234246</td>\n",
       "      <td>0</td>\n",
       "      <td>15</td>\n",
       "      <td>3</td>\n",
       "      <td>2</td>\n",
       "    </tr>\n",
       "  </tbody>\n",
       "</table>\n",
       "</div>"
      ],
      "text/plain": [
       "     user_id  matches  recomendations  train  eval\n",
       "0  U_7001215        0              15      3     2\n",
       "1  U_7423998        0              15      5     2\n",
       "2   U_545306        0              15      7     3\n",
       "3  U_7594103        1              15      4     2\n",
       "4  U_3234246        0              15      3     2"
      ]
     },
     "execution_count": 14,
     "metadata": {},
     "output_type": "execute_result"
    }
   ],
   "source": [
    "df_evaluations.head(5)"
   ]
  },
  {
   "cell_type": "code",
   "execution_count": 15,
   "metadata": {},
   "outputs": [
    {
     "name": "stdout",
     "output_type": "stream",
     "text": [
      "2843.2611924458715\n",
      "34917\n"
     ]
    }
   ],
   "source": [
    "count = 0\n",
    "pre = 0\n",
    "for index, row in df_evaluations.iterrows():\n",
    "    pre = pre +(row[\"matches\"]/(row[\"eval\"]))\n",
    "    count +=1\n",
    "print(pre)\n",
    "print(count)"
   ]
  },
  {
   "cell_type": "code",
   "execution_count": 16,
   "metadata": {},
   "outputs": [],
   "source": [
    "precision = pre/count"
   ]
  },
  {
   "cell_type": "code",
   "execution_count": 17,
   "metadata": {},
   "outputs": [
    {
     "data": {
      "text/plain": [
       "0.08142913745298484"
      ]
     },
     "execution_count": 17,
     "metadata": {},
     "output_type": "execute_result"
    }
   ],
   "source": [
    "precision"
   ]
  },
  {
   "cell_type": "code",
   "execution_count": null,
   "metadata": {},
   "outputs": [],
   "source": []
  }
 ],
 "metadata": {
  "kernelspec": {
   "display_name": "venv",
   "language": "python",
   "name": "python3"
  },
  "language_info": {
   "codemirror_mode": {
    "name": "ipython",
    "version": 3
   },
   "file_extension": ".py",
   "mimetype": "text/x-python",
   "name": "python",
   "nbconvert_exporter": "python",
   "pygments_lexer": "ipython3",
   "version": "3.11.5"
  },
  "orig_nbformat": 4
 },
 "nbformat": 4,
 "nbformat_minor": 2
}
