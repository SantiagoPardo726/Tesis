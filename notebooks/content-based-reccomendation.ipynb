{
 "cells": [
  {
   "cell_type": "code",
   "execution_count": 87,
   "metadata": {},
   "outputs": [],
   "source": [
    "from transformers import BertTokenizer, BertModel\n",
    "import torch\n",
    "from sentence_transformers import SentenceTransformer\n",
    "\n",
    "import pandas as pd\n",
    "from bs4 import BeautifulSoup\n",
    "from sklearn.metrics.pairwise import cosine_similarity"
   ]
  },
  {
   "cell_type": "code",
   "execution_count": 88,
   "metadata": {},
   "outputs": [],
   "source": [
    "model_name = 'bert-base-uncased'\n",
    "tokenizer = BertTokenizer.from_pretrained(model_name)\n",
    "model = BertModel.from_pretrained(model_name)\n",
    "\n",
    "def get_course_embedding(course_description):\n",
    "    inputs = tokenizer(course_description, return_tensors='pt', padding=True, truncation=True)\n",
    "    with torch.no_grad():\n",
    "        outputs = model(**inputs)\n",
    "    return outputs.last_hidden_state.mean(dim=1)  \n",
    "\n"
   ]
  },
  {
   "cell_type": "code",
   "execution_count": 89,
   "metadata": {},
   "outputs": [],
   "source": [
    "course_df = pd.read_json(\"../data/MOOCCube/entities/course.json\",lines=True)\n",
    "# course_df = course_df.sample(100)\n",
    "def remove_html_and_carriage_returns(text):\n",
    "    soup = BeautifulSoup(text, \"html.parser\")\n",
    "    text_without_html = soup.get_text().replace(\"\\n\",\"\").replace(\"\\r\",\"\").replace(\"\\t\",\"\")\n",
    "    \n",
    "    return text_without_html\n",
    "\n",
    "course_df[\"about\"] = course_df[\"about\"].apply(remove_html_and_carriage_returns)"
   ]
  },
  {
   "cell_type": "code",
   "execution_count": 90,
   "metadata": {},
   "outputs": [],
   "source": [
    "course_embeddings = {}\n",
    "for index, row in course_df.iterrows():\n",
    "    id = row[\"id\"]\n",
    "    course_embedding = get_course_embedding(row[\"about\"])\n",
    "    course_embeddings[id] = course_embedding"
   ]
  },
  {
   "cell_type": "code",
   "execution_count": 91,
   "metadata": {},
   "outputs": [],
   "source": [
    "def get_course_similarity(course_embedding1, course_embedding2):\n",
    "    return cosine_similarity(course_embedding1, course_embedding2)"
   ]
  },
  {
   "cell_type": "code",
   "execution_count": 92,
   "metadata": {},
   "outputs": [],
   "source": [
    "course_similarity_matrix = {}\n",
    "for course_id1, embedding1 in course_embeddings.items():\n",
    "    course_similarity_row = {}\n",
    "    for course_id2, embedding2 in course_embeddings.items():\n",
    "        similarity = get_course_similarity(embedding1, embedding2)\n",
    "        course_similarity_row[course_id2] = similarity\n",
    "    course_similarity_matrix[course_id1] = course_similarity_row\n"
   ]
  },
  {
   "cell_type": "code",
   "execution_count": 93,
   "metadata": {},
   "outputs": [],
   "source": [
    "def recommend_courses(user_took_courses, num_recommendations=10):\n",
    "    user_took_embeddings = [course_embeddings[course_id] for course_id in user_took_courses]\n",
    "    user_mean_embedding = torch.stack(user_took_embeddings).mean(dim=0)\n",
    "    \n",
    "    course_scores = {}\n",
    "    for course_id, course_embedding in course_embeddings.items():\n",
    "        if course_id not in user_took_courses:\n",
    "            similarity = get_course_similarity(user_mean_embedding, course_embedding)\n",
    "            course_scores[course_id] = similarity\n",
    "    \n",
    "    sorted_courses = sorted(course_scores.items(), key=lambda x: x[1], reverse=True)\n",
    "    recommended_courses = [course_id for course_id, _ in sorted_courses[:num_recommendations]]\n",
    "    return recommended_courses\n",
    "\n",
    "user_took_courses = { 'C_course-v1:TsinghuaX+02070251X+2019_T1', 'C_course-v1:TsinghuaX+60240013X+sp'} \n",
    "recommended_courses = recommend_courses(user_took_courses)\n",
    "\n",
    "\n",
    "# print(\"Recomendaciones:\", recommended_courses)\n"
   ]
  },
  {
   "cell_type": "code",
   "execution_count": 94,
   "metadata": {},
   "outputs": [
    {
     "name": "stdout",
     "output_type": "stream",
     "text": [
      "['C_course-v1:TsinghuaX+02070251X+sp', 'C_course-v1:TsinghuaX+20430054X1+sp', 'C_course-v1:TsinghuaX+20430054X_1+sp', 'C_course-v1:KMUSTX+8209001+sp', 'C_course-v1:TsinghuaX+AP201601X+2019_T1', 'C_course-v1:edX+BlendedX+sp', 'C_course-v1:RiceX+AdvENVSCI_1x+sp', 'C_course-v1:McGillX+ATOC185x+2015_T1', 'C_course-v1:KMUSTX+8209001+2019_T1', 'C_course-v1:TsinghuaX+34000312X+2019_T1']\n"
     ]
    }
   ],
   "source": [
    "print(recommended_courses)"
   ]
  },
  {
   "cell_type": "markdown",
   "metadata": {},
   "source": [
    "Evaluation"
   ]
  },
  {
   "cell_type": "code",
   "execution_count": 101,
   "metadata": {},
   "outputs": [],
   "source": [
    "def get_test_courses(x):\n",
    "    index_partition = int(len(x) * 0.75)\n",
    "    return x[index_partition:]\n",
    "def get_train_courses(x):\n",
    "    index_partition = int(len(x) * 0.75)\n",
    "    return x[:index_partition]"
   ]
  },
  {
   "cell_type": "code",
   "execution_count": 97,
   "metadata": {},
   "outputs": [
    {
     "data": {
      "text/html": [
       "<div>\n",
       "<style scoped>\n",
       "    .dataframe tbody tr th:only-of-type {\n",
       "        vertical-align: middle;\n",
       "    }\n",
       "\n",
       "    .dataframe tbody tr th {\n",
       "        vertical-align: top;\n",
       "    }\n",
       "\n",
       "    .dataframe thead th {\n",
       "        text-align: right;\n",
       "    }\n",
       "</style>\n",
       "<table border=\"1\" class=\"dataframe\">\n",
       "  <thead>\n",
       "    <tr style=\"text-align: right;\">\n",
       "      <th></th>\n",
       "      <th>id</th>\n",
       "      <th>course_order</th>\n",
       "      <th>test_courses</th>\n",
       "      <th>train_courses</th>\n",
       "      <th>recommendations</th>\n",
       "    </tr>\n",
       "  </thead>\n",
       "  <tbody>\n",
       "    <tr>\n",
       "      <th>0</th>\n",
       "      <td>U_7001215</td>\n",
       "      <td>[C_course-v1:TsinghuaX+00740043_2x_2015_T2+sp,...</td>\n",
       "      <td>[C_course-v1:TsinghuaX+10421094X_2015_2+sp, C_...</td>\n",
       "      <td>[C_course-v1:TsinghuaX+00740043_2x_2015_T2+sp,...</td>\n",
       "      <td>[C_course-v1:TsinghuaX+00740043_1x+2019_T1, C_...</td>\n",
       "    </tr>\n",
       "    <tr>\n",
       "      <th>3</th>\n",
       "      <td>U_7423998</td>\n",
       "      <td>[C_course-v1:TsinghuaX+30240184_2X+sp, C_cours...</td>\n",
       "      <td>[C_course-v1:TsinghuaX+00690092X+sp, C_course-...</td>\n",
       "      <td>[C_course-v1:TsinghuaX+30240184_2X+sp, C_cours...</td>\n",
       "      <td>[C_course-v1:JSUX+2017011101X+sp, C_course-v1:...</td>\n",
       "    </tr>\n",
       "    <tr>\n",
       "      <th>4</th>\n",
       "      <td>U_545306</td>\n",
       "      <td>[C_course-v1:TsinghuaX+20430064_2X+sp, C_cours...</td>\n",
       "      <td>[C_course-v1:TsinghuaX+02070251X+sp, C_course-...</td>\n",
       "      <td>[C_course-v1:TsinghuaX+20430064_2X+sp, C_cours...</td>\n",
       "      <td>[C_course-v1:TsinghuaX+AP201601X+2019_T1, C_co...</td>\n",
       "    </tr>\n",
       "    <tr>\n",
       "      <th>7</th>\n",
       "      <td>U_7594103</td>\n",
       "      <td>[C_course-v1:TsinghuaX+30240184+sp, C_course-v...</td>\n",
       "      <td>[C_course-v1:TsinghuaX+00740043_2x_2015_T2+sp,...</td>\n",
       "      <td>[C_course-v1:TsinghuaX+30240184+sp, C_course-v...</td>\n",
       "      <td>[C_course-v1:TsinghuaX+30240184_2X+sp, C_cours...</td>\n",
       "    </tr>\n",
       "    <tr>\n",
       "      <th>13</th>\n",
       "      <td>U_3234246</td>\n",
       "      <td>[C_course-v1:TsinghuaX+00740123_X+sp, C_course...</td>\n",
       "      <td>[C_course-v1:BIT+PHY1701702+sp, C_course-v1:Ts...</td>\n",
       "      <td>[C_course-v1:TsinghuaX+00740123_X+sp, C_course...</td>\n",
       "      <td>[C_course-v1:SCUT+145055+sp, C_course-v1:SCUT+...</td>\n",
       "    </tr>\n",
       "  </tbody>\n",
       "</table>\n",
       "</div>"
      ],
      "text/plain": [
       "           id                                       course_order  \\\n",
       "0   U_7001215  [C_course-v1:TsinghuaX+00740043_2x_2015_T2+sp,...   \n",
       "3   U_7423998  [C_course-v1:TsinghuaX+30240184_2X+sp, C_cours...   \n",
       "4    U_545306  [C_course-v1:TsinghuaX+20430064_2X+sp, C_cours...   \n",
       "7   U_7594103  [C_course-v1:TsinghuaX+30240184+sp, C_course-v...   \n",
       "13  U_3234246  [C_course-v1:TsinghuaX+00740123_X+sp, C_course...   \n",
       "\n",
       "                                         test_courses  \\\n",
       "0   [C_course-v1:TsinghuaX+10421094X_2015_2+sp, C_...   \n",
       "3   [C_course-v1:TsinghuaX+00690092X+sp, C_course-...   \n",
       "4   [C_course-v1:TsinghuaX+02070251X+sp, C_course-...   \n",
       "7   [C_course-v1:TsinghuaX+00740043_2x_2015_T2+sp,...   \n",
       "13  [C_course-v1:BIT+PHY1701702+sp, C_course-v1:Ts...   \n",
       "\n",
       "                                        train_courses  \\\n",
       "0   [C_course-v1:TsinghuaX+00740043_2x_2015_T2+sp,...   \n",
       "3   [C_course-v1:TsinghuaX+30240184_2X+sp, C_cours...   \n",
       "4   [C_course-v1:TsinghuaX+20430064_2X+sp, C_cours...   \n",
       "7   [C_course-v1:TsinghuaX+30240184+sp, C_course-v...   \n",
       "13  [C_course-v1:TsinghuaX+00740123_X+sp, C_course...   \n",
       "\n",
       "                                      recommendations  \n",
       "0   [C_course-v1:TsinghuaX+00740043_1x+2019_T1, C_...  \n",
       "3   [C_course-v1:JSUX+2017011101X+sp, C_course-v1:...  \n",
       "4   [C_course-v1:TsinghuaX+AP201601X+2019_T1, C_co...  \n",
       "7   [C_course-v1:TsinghuaX+30240184_2X+sp, C_cours...  \n",
       "13  [C_course-v1:SCUT+145055+sp, C_course-v1:SCUT+...  "
      ]
     },
     "execution_count": 97,
     "metadata": {},
     "output_type": "execute_result"
    }
   ],
   "source": [
    "user_df = pd.read_json(\"../data/MOOCCube/entities/user.json\",lines=True)\n",
    "user_df = user_df[user_df['course_order'].apply(lambda x: len(x) >= 5)]\n",
    "df_results = user_df\n",
    "df_results = df_results.drop([\"name\",\"enroll_time\"], axis=1)\n",
    "\n",
    "df_results[\"test_courses\"] = df_results[\"course_order\"].apply(get_test_courses)\n",
    "df_results[\"train_courses\"] = df_results[\"course_order\"].apply(get_train_courses)\n",
    "\n",
    "\n",
    "df_results[\"recommendations\"] = df_results[\"train_courses\"].apply(recommend_courses)\n",
    "df_results.head()"
   ]
  },
  {
   "cell_type": "code",
   "execution_count": 102,
   "metadata": {},
   "outputs": [],
   "source": [
    "df_results[\"test_courses\"] = df_results[\"course_order\"].apply(get_test_courses)\n",
    "df_results[\"train_courses\"] = df_results[\"course_order\"].apply(get_train_courses)\n"
   ]
  },
  {
   "cell_type": "code",
   "execution_count": 109,
   "metadata": {},
   "outputs": [],
   "source": [
    "num_users = 0\n",
    "t_precision = 0\n",
    "rank = 0\n",
    "for index, row in df_results.iterrows():\n",
    "    test_courses = set(row[\"test_courses\"])\n",
    "    recommendations = set(row[\"recommendations\"][:5])\n",
    "    # print(len(test_courses))\n",
    "    precision = len(test_courses.intersection(recommendations))/len(test_courses)\n",
    "    if len(test_courses) < 5:\n",
    "        precision = len(test_courses.intersection(recommendations))/len(test_courses)\n",
    "    else:\n",
    "        precision = len(test_courses.intersection(recommendations))/5\n",
    "    num_users += 1\n",
    "    t_precision += precision\n",
    "    \n",
    "    r = 0\n",
    "    for i in row[\"recommendations\"]:\n",
    "        r += 1\n",
    "        if i in row[\"test_courses\"]:\n",
    "            break\n",
    "    rank += 1/r"
   ]
  },
  {
   "cell_type": "code",
   "execution_count": 110,
   "metadata": {},
   "outputs": [
    {
     "name": "stdout",
     "output_type": "stream",
     "text": [
      "0.14655114100514957\n"
     ]
    }
   ],
   "source": [
    "print((1/num_users)*rank)"
   ]
  },
  {
   "cell_type": "code",
   "execution_count": 111,
   "metadata": {},
   "outputs": [
    {
     "name": "stdout",
     "output_type": "stream",
     "text": [
      "0.04522820784527112\n"
     ]
    }
   ],
   "source": [
    "print(t_precision/num_users)"
   ]
  }
 ],
 "metadata": {
  "kernelspec": {
   "display_name": "venv",
   "language": "python",
   "name": "python3"
  },
  "language_info": {
   "codemirror_mode": {
    "name": "ipython",
    "version": 3
   },
   "file_extension": ".py",
   "mimetype": "text/x-python",
   "name": "python",
   "nbconvert_exporter": "python",
   "pygments_lexer": "ipython3",
   "version": "3.10.11"
  },
  "orig_nbformat": 4
 },
 "nbformat": 4,
 "nbformat_minor": 2
}
