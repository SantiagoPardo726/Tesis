{
 "cells": [
  {
   "cell_type": "code",
   "execution_count": 31,
   "metadata": {},
   "outputs": [],
   "source": [
    "import random\n",
    "import time\n",
    "\n",
    "# Third-party imports\n",
    "import matplotlib.pyplot as plt\n",
    "import networkx as nx\n",
    "import numpy as np\n",
    "import pandas as pd\n",
    "pd.set_option('display.max_colwidth', None)\n",
    "\n",
    "import torch\n",
    "import torch.nn as nn\n",
    "import torch.nn.functional as F\n",
    "import torch.optim as optim\n",
    "# from torch.utils.data import Dataset, DataLoader\n",
    "import torch_geometric\n",
    "from torch_geometric.nn.conv import MessagePassing\n",
    "from torch_geometric.utils import degree\n",
    "\n",
    "from tqdm.notebook import tqdm\n",
    "from sklearn import preprocessing as pp\n",
    "from sklearn.model_selection import train_test_split\n",
    "import scipy.sparse as sp\n"
   ]
  },
  {
   "cell_type": "code",
   "execution_count": 32,
   "metadata": {},
   "outputs": [],
   "source": [
    "# !pip install -q torch-sparse -f https://data.pyg.org/whl/torch-1.10.0+cu113.html\n",
    "# !pip install -q git+https://github.com/pyg-team/pytorch_geometric.git"
   ]
  },
  {
   "cell_type": "code",
   "execution_count": 33,
   "metadata": {},
   "outputs": [
    {
     "data": {
      "text/plain": [
       "'2.4.0'"
      ]
     },
     "execution_count": 33,
     "metadata": {},
     "output_type": "execute_result"
    }
   ],
   "source": [
    "torch_geometric.__version__"
   ]
  },
  {
   "cell_type": "code",
   "execution_count": 34,
   "metadata": {},
   "outputs": [
    {
     "data": {
      "text/plain": [
       "device(type='cuda', index=0)"
      ]
     },
     "execution_count": 34,
     "metadata": {},
     "output_type": "execute_result"
    }
   ],
   "source": [
    "device = torch.device(\"cuda:0\" if torch.cuda.is_available() else \"cpu\")\n",
    "device"
   ]
  },
  {
   "cell_type": "code",
   "execution_count": 35,
   "metadata": {},
   "outputs": [],
   "source": [
    "user_df = pd.read_json(\"./MOOCCube/entities/user.json\",lines=True)\n",
    "user_df = user_df[user_df['course_order'].apply(lambda x: len(x) >= 5)]\n",
    "# user_df = user_df.sample(1500)\n",
    "user = []\n",
    "data_train = []\n",
    "data_test = []\n",
    "for index, row in user_df.iterrows():\n",
    "    user_id = row[\"id\"]\n",
    "    courses = row[\"course_order\"]\n",
    "\n",
    "    index_partition = int(len(courses) * 0.75)\n",
    "\n",
    "    courses_1 = courses[:index_partition]\n",
    "    courses_2 = courses[index_partition:]\n",
    "        \n",
    "    for course in courses_1:\n",
    "        data_train.append({\n",
    "                \"user_id\":user_id,\n",
    "                \"course_id\":course,\n",
    "                \"view\":1\n",
    "            })\n",
    "            \n",
    "    for course in courses_2:\n",
    "            data_test.append({\n",
    "                \"user_id\":user_id,\n",
    "                \"course_id\":course,\n",
    "                \"view\":1\n",
    "            })\n",
    "train_df = pd.DataFrame(data_train)\n",
    "test_df = pd.DataFrame(data_test)"
   ]
  },
  {
   "cell_type": "code",
   "execution_count": 36,
   "metadata": {},
   "outputs": [
    {
     "data": {
      "text/html": [
       "<div>\n",
       "<style scoped>\n",
       "    .dataframe tbody tr th:only-of-type {\n",
       "        vertical-align: middle;\n",
       "    }\n",
       "\n",
       "    .dataframe tbody tr th {\n",
       "        vertical-align: top;\n",
       "    }\n",
       "\n",
       "    .dataframe thead th {\n",
       "        text-align: right;\n",
       "    }\n",
       "</style>\n",
       "<table border=\"1\" class=\"dataframe\">\n",
       "  <thead>\n",
       "    <tr style=\"text-align: right;\">\n",
       "      <th></th>\n",
       "      <th>user_id</th>\n",
       "      <th>course_id</th>\n",
       "      <th>view</th>\n",
       "    </tr>\n",
       "  </thead>\n",
       "  <tbody>\n",
       "    <tr>\n",
       "      <th>0</th>\n",
       "      <td>U_7001215</td>\n",
       "      <td>C_course-v1:TsinghuaX+00740043_2x_2015_T2+sp</td>\n",
       "      <td>1</td>\n",
       "    </tr>\n",
       "    <tr>\n",
       "      <th>1</th>\n",
       "      <td>U_7001215</td>\n",
       "      <td>C_course-v1:TsinghuaX+30240184+sp</td>\n",
       "      <td>1</td>\n",
       "    </tr>\n",
       "    <tr>\n",
       "      <th>2</th>\n",
       "      <td>U_7001215</td>\n",
       "      <td>C_course-v1:TsinghuaX+00740043X_2015_T2+sp</td>\n",
       "      <td>1</td>\n",
       "    </tr>\n",
       "    <tr>\n",
       "      <th>3</th>\n",
       "      <td>U_7423998</td>\n",
       "      <td>C_course-v1:TsinghuaX+30240184_2X+sp</td>\n",
       "      <td>1</td>\n",
       "    </tr>\n",
       "    <tr>\n",
       "      <th>4</th>\n",
       "      <td>U_7423998</td>\n",
       "      <td>C_course-v1:SCUT+145033+sp</td>\n",
       "      <td>1</td>\n",
       "    </tr>\n",
       "  </tbody>\n",
       "</table>\n",
       "</div>"
      ],
      "text/plain": [
       "     user_id                                     course_id  view\n",
       "0  U_7001215  C_course-v1:TsinghuaX+00740043_2x_2015_T2+sp     1\n",
       "1  U_7001215             C_course-v1:TsinghuaX+30240184+sp     1\n",
       "2  U_7001215    C_course-v1:TsinghuaX+00740043X_2015_T2+sp     1\n",
       "3  U_7423998          C_course-v1:TsinghuaX+30240184_2X+sp     1\n",
       "4  U_7423998                    C_course-v1:SCUT+145033+sp     1"
      ]
     },
     "execution_count": 36,
     "metadata": {},
     "output_type": "execute_result"
    }
   ],
   "source": [
    "train_df.head()"
   ]
  },
  {
   "cell_type": "code",
   "execution_count": 37,
   "metadata": {},
   "outputs": [
    {
     "name": "stdout",
     "output_type": "stream",
     "text": [
      "Train Size  :  187699\n",
      "Test Size :  85698\n"
     ]
    }
   ],
   "source": [
    "print(\"Train Size  : \", len(train_df))\n",
    "print(\"Test Size : \", len (test_df))"
   ]
  },
  {
   "cell_type": "code",
   "execution_count": 38,
   "metadata": {},
   "outputs": [],
   "source": [
    "le_user = pp.LabelEncoder()\n",
    "le_item = pp.LabelEncoder()\n",
    "train_df['user_id_idx'] = le_user.fit_transform(train_df['user_id'].values)\n",
    "train_df['item_id_idx'] = le_item.fit_transform(train_df['course_id'].values)"
   ]
  },
  {
   "cell_type": "code",
   "execution_count": 39,
   "metadata": {},
   "outputs": [
    {
     "name": "stdout",
     "output_type": "stream",
     "text": [
      "34917 692\n"
     ]
    }
   ],
   "source": [
    "train_user_ids = train_df['user_id'].unique()\n",
    "train_item_ids = train_df['course_id'].unique()\n",
    "\n",
    "print(len(train_user_ids), len(train_item_ids))\n",
    "\n",
    "test_df = test_df[\n",
    "  (test_df['user_id'].isin(train_user_ids)) & \\\n",
    "  (test_df['course_id'].isin(train_item_ids))\n",
    "]\n"
   ]
  },
  {
   "cell_type": "code",
   "execution_count": 40,
   "metadata": {},
   "outputs": [],
   "source": [
    "test_df['user_id_idx'] = le_user.transform(test_df['user_id'].values)\n",
    "test_df['item_id_idx'] = le_item.transform(test_df['course_id'].values)"
   ]
  },
  {
   "cell_type": "code",
   "execution_count": 41,
   "metadata": {},
   "outputs": [
    {
     "name": "stdout",
     "output_type": "stream",
     "text": [
      "Number of Unique Users :  34917\n",
      "Number of unique Items :  692\n"
     ]
    }
   ],
   "source": [
    "n_users = train_df['user_id_idx'].nunique()\n",
    "n_items = train_df['item_id_idx'].nunique()\n",
    "print(\"Number of Unique Users : \", n_users)\n",
    "print(\"Number of unique Items : \", n_items)"
   ]
  },
  {
   "cell_type": "code",
   "execution_count": 42,
   "metadata": {},
   "outputs": [
    {
     "data": {
      "text/plain": [
       "(tensor([ 4492,  7160,  7859,  9519, 10725, 12107, 14421, 18646, 20504, 24711,\n",
       "         27449, 29597, 32444, 32483, 32626, 33393], device='cuda:0'),\n",
       " tensor([35213, 35372, 35347, 35425, 35332, 35171, 35289, 35330, 35387, 35310,\n",
       "         35379, 35296, 35481, 35170, 35391, 35293], device='cuda:0'),\n",
       " tensor([35574, 35452, 35596, 35241, 35092, 35342, 35120, 35219, 35082, 35405,\n",
       "         35285, 35448, 35287, 35551, 34964, 35430], device='cuda:0'))"
      ]
     },
     "execution_count": 42,
     "metadata": {},
     "output_type": "execute_result"
    }
   ],
   "source": [
    "def data_loader(data, batch_size, n_usr, n_itm):\n",
    "\n",
    "    def sample_neg(x):\n",
    "        while True:\n",
    "            neg_id = random.randint(0, n_itm - 1)\n",
    "            if neg_id not in x:\n",
    "                return neg_id\n",
    "\n",
    "    interected_items_df = data.groupby('user_id_idx')['item_id_idx'].apply(list).reset_index()\n",
    "    indices = [x for x in range(n_usr)]\n",
    "\n",
    "    if n_usr < batch_size:\n",
    "        users = [random.choice(indices) for _ in range(batch_size)]\n",
    "    else:\n",
    "        users = random.sample(indices, batch_size)\n",
    "    users.sort()\n",
    "    users_df = pd.DataFrame(users,columns = ['users'])\n",
    "\n",
    "    interected_items_df = pd.merge(interected_items_df, users_df, how = 'right', left_on = 'user_id_idx', right_on = 'users')\n",
    "    pos_items = interected_items_df['item_id_idx'].apply(lambda x : random.choice(x)).values\n",
    "    neg_items = interected_items_df['item_id_idx'].apply(lambda x: sample_neg(x)).values\n",
    "\n",
    "    return (\n",
    "        torch.LongTensor(list(users)).to(device), \n",
    "        torch.LongTensor(list(pos_items)).to(device) + n_usr, \n",
    "        torch.LongTensor(list(neg_items)).to(device) + n_usr\n",
    "    )\n",
    "\n",
    "data_loader(train_df, 16, n_users, n_items)"
   ]
  },
  {
   "cell_type": "code",
   "execution_count": 43,
   "metadata": {},
   "outputs": [
    {
     "data": {
      "text/plain": [
       "tensor([[19930, 19930, 19930,  ..., 35310, 35359, 35309],\n",
       "        [35292, 35376, 35289,  ..., 16020, 16020, 16020]], device='cuda:0')"
      ]
     },
     "execution_count": 43,
     "metadata": {},
     "output_type": "execute_result"
    }
   ],
   "source": [
    "u_t = torch.LongTensor(train_df.user_id_idx)\n",
    "i_t = torch.LongTensor(train_df.item_id_idx) + n_users\n",
    "\n",
    "train_edge_index = torch.stack((\n",
    "  torch.cat([u_t, i_t]),\n",
    "  torch.cat([i_t, u_t])\n",
    ")).to(device)\n",
    "train_edge_index"
   ]
  },
  {
   "cell_type": "code",
   "execution_count": 44,
   "metadata": {},
   "outputs": [
    {
     "data": {
      "text/plain": [
       "(tensor([35309, 16020], device='cuda:0'),\n",
       " tensor([19930, 35292], device='cuda:0'))"
      ]
     },
     "execution_count": 44,
     "metadata": {},
     "output_type": "execute_result"
    }
   ],
   "source": [
    "train_edge_index[:,-1], train_edge_index[:, 0]"
   ]
  },
  {
   "cell_type": "code",
   "execution_count": 45,
   "metadata": {},
   "outputs": [],
   "source": [
    "class LightGCNConv(MessagePassing):\n",
    "  def __init__(self, **kwargs):  \n",
    "    super().__init__(aggr='add')\n",
    "\n",
    "  def forward(self, x, edge_index):\n",
    "    # Compute normalization\n",
    "    from_, to_ = edge_index\n",
    "    deg = degree(to_, x.size(0), dtype=x.dtype)\n",
    "    deg_inv_sqrt = deg.pow(-0.5)\n",
    "    deg_inv_sqrt[deg_inv_sqrt == float('inf')] = 0\n",
    "    norm = deg_inv_sqrt[from_] * deg_inv_sqrt[to_]\n",
    "\n",
    "    # Start propagating messages (no update after aggregation)\n",
    "    return self.propagate(edge_index, x=x, norm=norm)\n",
    "\n",
    "  def message(self, x_j, norm):\n",
    "    return norm.view(-1, 1) * x_j"
   ]
  },
  {
   "cell_type": "code",
   "execution_count": 46,
   "metadata": {},
   "outputs": [
    {
     "data": {
      "text/plain": [
       "tensor([[0.0000, 0.0000, 0.7071, 0.5000, 0.0000],\n",
       "        [0.0000, 0.0000, 0.0000, 0.5000, 0.7071],\n",
       "        [0.7071, 0.0000, 0.0000, 0.0000, 0.0000],\n",
       "        [0.5000, 0.5000, 0.0000, 0.0000, 0.0000],\n",
       "        [0.0000, 0.7071, 0.0000, 0.0000, 0.0000]])"
      ]
     },
     "execution_count": 46,
     "metadata": {},
     "output_type": "execute_result"
    }
   ],
   "source": [
    "test_x = torch.Tensor(np.eye(5))\n",
    "test_edge_index = torch.LongTensor(np.array([\n",
    "  [0, 0, 1, 1, 2, 3, 3, 4],\n",
    "  [2, 3, 3, 4, 0, 0, 1, 1]\n",
    "]))\n",
    "\n",
    "LightGCNConv()(test_x, test_edge_index)"
   ]
  },
  {
   "cell_type": "code",
   "execution_count": 47,
   "metadata": {},
   "outputs": [],
   "source": [
    "class NGCFConv(MessagePassing):\n",
    "  def __init__(self, latent_dim, dropout, bias=True, **kwargs):  \n",
    "    super(NGCFConv, self).__init__(aggr='add', **kwargs)\n",
    "\n",
    "    self.dropout = dropout\n",
    "\n",
    "    self.lin_1 = nn.Linear(latent_dim, latent_dim, bias=bias)\n",
    "    self.lin_2 = nn.Linear(latent_dim, latent_dim, bias=bias)\n",
    "\n",
    "    self.init_parameters()\n",
    "\n",
    "\n",
    "  def init_parameters(self):\n",
    "    nn.init.xavier_uniform_(self.lin_1.weight)\n",
    "    nn.init.xavier_uniform_(self.lin_2.weight)\n",
    "\n",
    "\n",
    "  def forward(self, x, edge_index):\n",
    "    # Compute normalization\n",
    "    from_, to_ = edge_index\n",
    "    deg = degree(to_, x.size(0), dtype=x.dtype)\n",
    "    deg_inv_sqrt = deg.pow(-0.5)\n",
    "    deg_inv_sqrt[deg_inv_sqrt == float('inf')] = 0\n",
    "    norm = deg_inv_sqrt[from_] * deg_inv_sqrt[to_]\n",
    "\n",
    "    # Start propagating messages\n",
    "    out = self.propagate(edge_index, x=(x, x), norm=norm)\n",
    "\n",
    "    # Perform update after aggregation\n",
    "    out += self.lin_1(x)\n",
    "    out = F.dropout(out, self.dropout, self.training)\n",
    "    return F.leaky_relu(out)\n",
    "\n",
    "\n",
    "  def message(self, x_j, x_i, norm):\n",
    "    return norm.view(-1, 1) * (self.lin_1(x_j) + self.lin_2(x_j * x_i))"
   ]
  },
  {
   "cell_type": "code",
   "execution_count": 48,
   "metadata": {},
   "outputs": [],
   "source": [
    "class RecSysGNN(nn.Module):\n",
    "  def __init__(\n",
    "      self,\n",
    "      latent_dim, \n",
    "      num_layers,\n",
    "      num_users,\n",
    "      num_items,\n",
    "      model, # 'NGCF' or 'LightGCN'\n",
    "      dropout=0.1 # Only used in NGCF\n",
    "  ):\n",
    "    super(RecSysGNN, self).__init__()\n",
    "\n",
    "    assert (model == 'NGCF' or model == 'LightGCN'), \\\n",
    "        'Model must be NGCF or LightGCN'\n",
    "    self.model = model\n",
    "    self.embedding = nn.Embedding(num_users + num_items, latent_dim)\n",
    "\n",
    "    if self.model == 'NGCF':\n",
    "      self.convs = nn.ModuleList(\n",
    "        NGCFConv(latent_dim, dropout=dropout) for _ in range(num_layers)\n",
    "      )\n",
    "    else:\n",
    "      self.convs = nn.ModuleList(LightGCNConv() for _ in range(num_layers))\n",
    "\n",
    "    self.init_parameters()\n",
    "\n",
    "\n",
    "  def init_parameters(self):\n",
    "    if self.model == 'NGCF':\n",
    "      nn.init.xavier_uniform_(self.embedding.weight, gain=1)\n",
    "    else:\n",
    "      # Authors of LightGCN report higher results with normal initialization\n",
    "      nn.init.normal_(self.embedding.weight, std=0.1) \n",
    "\n",
    "\n",
    "  def forward(self, edge_index):\n",
    "    emb0 = self.embedding.weight\n",
    "    embs = [emb0]\n",
    "\n",
    "    emb = emb0\n",
    "    for conv in self.convs:\n",
    "      emb = conv(x=emb, edge_index=edge_index)\n",
    "      embs.append(emb)\n",
    "\n",
    "    out = (\n",
    "      torch.cat(embs, dim=-1) if self.model == 'NGCF' \n",
    "      else torch.mean(torch.stack(embs, dim=0), dim=0)\n",
    "    )\n",
    "    \n",
    "    return emb0, out\n",
    "\n",
    "\n",
    "  def encode_minibatch(self, users, pos_items, neg_items, edge_index):\n",
    "    emb0, out = self(edge_index)\n",
    "    return (\n",
    "        out[users], \n",
    "        out[pos_items], \n",
    "        out[neg_items], \n",
    "        emb0[users],\n",
    "        emb0[pos_items],\n",
    "        emb0[neg_items]\n",
    "    )"
   ]
  },
  {
   "cell_type": "code",
   "execution_count": 49,
   "metadata": {},
   "outputs": [],
   "source": [
    "def compute_bpr_loss(users, users_emb, pos_emb, neg_emb, user_emb0,  pos_emb0, neg_emb0):\n",
    "  # compute loss from initial embeddings, used for regulization\n",
    "  reg_loss = (1 / 2) * (\n",
    "    user_emb0.norm().pow(2) + \n",
    "    pos_emb0.norm().pow(2)  +\n",
    "    neg_emb0.norm().pow(2)\n",
    "  ) / float(len(users))\n",
    "  \n",
    "  # compute BPR loss from user, positive item, and negative item embeddings\n",
    "  pos_scores = torch.mul(users_emb, pos_emb).sum(dim=1)\n",
    "  neg_scores = torch.mul(users_emb, neg_emb).sum(dim=1)\n",
    "      \n",
    "  bpr_loss = torch.mean(F.softplus(neg_scores - pos_scores))\n",
    "      \n",
    "  return bpr_loss, reg_loss"
   ]
  },
  {
   "cell_type": "code",
   "execution_count": 50,
   "metadata": {},
   "outputs": [],
   "source": [
    "def get_metrics(user_Embed_wts, item_Embed_wts, n_users, n_items, train_data, test_data, K):\n",
    "  test_user_ids = torch.LongTensor(test_data['user_id_idx'].unique())\n",
    "  # compute the score of all user-item pairs\n",
    "  relevance_score = torch.matmul(user_Embed_wts, torch.transpose(item_Embed_wts,0, 1))\n",
    "\n",
    "  # create dense tensor of all user-item interactions\n",
    "  i = torch.stack((\n",
    "    torch.LongTensor(train_df['user_id_idx'].values),\n",
    "    torch.LongTensor(train_df['item_id_idx'].values)\n",
    "  ))\n",
    "  v = torch.ones((len(train_df)), dtype=torch.float64)\n",
    "  interactions_t = torch.sparse.FloatTensor(i, v, (n_users, n_items))\\\n",
    "      .to_dense().to(device)\n",
    "  \n",
    "  # mask out training user-item interactions from metric computation\n",
    "  relevance_score = torch.mul(relevance_score, (1 - interactions_t))\n",
    "\n",
    "  # compute top scoring items for each user\n",
    "  topk_relevance_indices = torch.topk(relevance_score, K).indices\n",
    "  topk_relevance_indices_df = pd.DataFrame(topk_relevance_indices.cpu().numpy(),columns =['top_indx_'+str(x+1) for x in range(K)])\n",
    "  topk_relevance_indices_df['user_ID'] = topk_relevance_indices_df.index\n",
    "  topk_relevance_indices_df['top_rlvnt_itm'] = topk_relevance_indices_df[['top_indx_'+str(x+1) for x in range(K)]].values.tolist()\n",
    "  topk_relevance_indices_df = topk_relevance_indices_df[['user_ID','top_rlvnt_itm']]\n",
    "\n",
    "  # measure overlap between recommended (top-scoring) and held-out user-item \n",
    "  # interactions\n",
    "  test_interacted_items = test_data.groupby('user_id_idx')['item_id_idx'].apply(list).reset_index()\n",
    "  metrics_df = pd.merge(test_interacted_items,topk_relevance_indices_df, how= 'left', left_on = 'user_id_idx',right_on = ['user_ID'])\n",
    "  metrics_df['intrsctn_itm'] = [list(set(a).intersection(b)) for a, b in zip(metrics_df.item_id_idx, metrics_df.top_rlvnt_itm)]\n",
    "\n",
    "  metrics_df['recall'] = metrics_df.apply(lambda x : len(x['intrsctn_itm'])/len(x['item_id_idx']), axis = 1) \n",
    "  metrics_df['precision'] = metrics_df.apply(lambda x : len(x['intrsctn_itm'])/K, axis = 1)\n",
    "\n",
    "  return metrics_df['recall'].mean(), metrics_df['precision'].mean()"
   ]
  },
  {
   "cell_type": "code",
   "execution_count": 51,
   "metadata": {},
   "outputs": [],
   "source": [
    "latent_dim = 64\n",
    "n_layers = 3 \n",
    "\n",
    "EPOCHS = 50\n",
    "BATCH_SIZE = 1024\n",
    "DECAY = 0.0001\n",
    "LR = 0.005 \n",
    "K = 20"
   ]
  },
  {
   "cell_type": "code",
   "execution_count": 52,
   "metadata": {},
   "outputs": [],
   "source": [
    "def recommend(user_embeddings,item_embeddings,user):\n",
    "    user_emdedding = user_embeddings[user]\n",
    "    scores = torch.matmul(user_emdedding, item_embeddings.T)\n",
    "    sorted_indices = torch.argsort(scores, descending=True)\n",
    "    top_N = 30\n",
    "    recommended_item_indices = sorted_indices[:30]\n",
    "    recommended_item_ids = le_item.inverse_transform(recommended_item_indices.cpu().numpy())\n",
    "    return recommended_item_ids  "
   ]
  },
  {
   "cell_type": "code",
   "execution_count": 53,
   "metadata": {},
   "outputs": [],
   "source": [
    "groupedTrain = train_df.groupby('user_id')['course_id'].apply(list).reset_index()\n",
    "groupedTest = test_df.groupby('user_id')['course_id'].apply(list).reset_index()\n",
    "def getUserCourses(user,df_user):\n",
    "    return df_user.loc[df_user['id'] == user, 'course_order'].values[0]\n",
    "def  getUserCoursesTest(user):\n",
    "    return groupedTest.loc[groupedTest['user_id'] == user, 'course_id'].values[0]\n",
    "def  getUserCoursesTrain(user):\n",
    "    return groupedTrain.loc[groupedTrain['user_id'] == user, 'course_id'].values[0]"
   ]
  },
  {
   "cell_type": "code",
   "execution_count": 54,
   "metadata": {},
   "outputs": [
    {
     "data": {
      "text/html": [
       "<div>\n",
       "<style scoped>\n",
       "    .dataframe tbody tr th:only-of-type {\n",
       "        vertical-align: middle;\n",
       "    }\n",
       "\n",
       "    .dataframe tbody tr th {\n",
       "        vertical-align: top;\n",
       "    }\n",
       "\n",
       "    .dataframe thead th {\n",
       "        text-align: right;\n",
       "    }\n",
       "</style>\n",
       "<table border=\"1\" class=\"dataframe\">\n",
       "  <thead>\n",
       "    <tr style=\"text-align: right;\">\n",
       "      <th></th>\n",
       "      <th>user_id</th>\n",
       "      <th>user_id_idx</th>\n",
       "    </tr>\n",
       "  </thead>\n",
       "  <tbody>\n",
       "    <tr>\n",
       "      <th>0</th>\n",
       "      <td>U_7001215</td>\n",
       "      <td>19930</td>\n",
       "    </tr>\n",
       "    <tr>\n",
       "      <th>2</th>\n",
       "      <td>U_7423998</td>\n",
       "      <td>22589</td>\n",
       "    </tr>\n",
       "    <tr>\n",
       "      <th>4</th>\n",
       "      <td>U_545306</td>\n",
       "      <td>14759</td>\n",
       "    </tr>\n",
       "    <tr>\n",
       "      <th>7</th>\n",
       "      <td>U_7594103</td>\n",
       "      <td>23312</td>\n",
       "    </tr>\n",
       "    <tr>\n",
       "      <th>9</th>\n",
       "      <td>U_3234246</td>\n",
       "      <td>10534</td>\n",
       "    </tr>\n",
       "  </tbody>\n",
       "</table>\n",
       "</div>"
      ],
      "text/plain": [
       "     user_id  user_id_idx\n",
       "0  U_7001215        19930\n",
       "2  U_7423998        22589\n",
       "4   U_545306        14759\n",
       "7  U_7594103        23312\n",
       "9  U_3234246        10534"
      ]
     },
     "execution_count": 54,
     "metadata": {},
     "output_type": "execute_result"
    }
   ],
   "source": [
    "users_df = test_df[[\"user_id\", \"user_id_idx\"]]\n",
    "\n",
    "users_df = users_df.drop_duplicates()\n",
    "users_df.head()"
   ]
  },
  {
   "cell_type": "code",
   "execution_count": 55,
   "metadata": {},
   "outputs": [],
   "source": [
    "def evaluate(df_user,us_em,it_em):\n",
    "    # df_user = df_user.sample(500)\n",
    "    results = []\n",
    "    i = 0\n",
    "    for index, row in df_user.iterrows():\n",
    "        courses_train = getUserCoursesTrain(row[\"id\"])\n",
    "        courses_test = getUserCoursesTest(row[\"id\"])\n",
    "        resultado = users_df[users_df['user_id'] == row[\"id\"]]['user_id_idx'].iloc[0]\n",
    "        # print(resultado)\n",
    "        recommended = list(recommend(us_em,it_em,int(resultado)))\n",
    "        for j in courses_train:\n",
    "            if j in recommended:\n",
    "                recommended.remove(j)\n",
    "        # print(len(recommended))\n",
    "        recommended = recommended[:15]\n",
    "        matches = list(set(courses_test).intersection(set(recommended)))\n",
    "        results.append(\n",
    "            {\n",
    "                \"recomendations\":len(recommended),\n",
    "                \"matches\":len(matches),\n",
    "                \"posible\":len(courses_test)\n",
    "            }\n",
    "        )\n",
    "        \n",
    "    return results  "
   ]
  },
  {
   "cell_type": "code",
   "execution_count": 56,
   "metadata": {},
   "outputs": [],
   "source": [
    "def get_precision(user_df,us_em,it_em):\n",
    "    results = evaluate(user_df,us_em,it_em)\n",
    "    df_evaluations = pd.DataFrame(results)\n",
    "    cont = 0\n",
    "    pre = 0\n",
    "    for index, row in df_evaluations.iterrows():\n",
    "        if row[\"posible\"] < 15:\n",
    "            precision = row[\"matches\"]/row[\"posible\"]\n",
    "        else:\n",
    "            precision = row[\"matches\"]/15\n",
    "        pre = pre + precision\n",
    "        cont += 1\n",
    "    return pre/cont"
   ]
  },
  {
   "cell_type": "code",
   "execution_count": 57,
   "metadata": {},
   "outputs": [],
   "source": [
    "def train_and_eval(model, optimizer, train_df):\n",
    "  loss_list_epoch = []\n",
    "  bpr_loss_list_epoch = []\n",
    "  reg_loss_list_epoch = []\n",
    "\n",
    "  recall_list = []\n",
    "  precision_list = []\n",
    "  my_precision = []\n",
    "\n",
    "  for epoch in tqdm(range(EPOCHS)):\n",
    "      n_batch = int(train_df.shape[0]/BATCH_SIZE)\n",
    "    \n",
    "      final_loss_list = []\n",
    "      bpr_loss_list = []\n",
    "      reg_loss_list = []\n",
    "    \n",
    "      model.train()\n",
    "      for batch_idx in range(n_batch):\n",
    "\n",
    "          optimizer.zero_grad()\n",
    "\n",
    "          users, pos_items, neg_items = data_loader(train_df, BATCH_SIZE, n_users, n_items)\n",
    "          users_emb, pos_emb, neg_emb, userEmb0,  posEmb0, negEmb0 = model.encode_minibatch(users, pos_items, neg_items, train_edge_index)\n",
    "\n",
    "          bpr_loss, reg_loss = compute_bpr_loss(\n",
    "            users, users_emb, pos_emb, neg_emb, userEmb0,  posEmb0, negEmb0\n",
    "          )\n",
    "          reg_loss = DECAY * reg_loss\n",
    "          final_loss = bpr_loss + reg_loss\n",
    "\n",
    "          final_loss.backward()\n",
    "          optimizer.step()\n",
    "\n",
    "          final_loss_list.append(final_loss.item())\n",
    "          bpr_loss_list.append(bpr_loss.item())\n",
    "          reg_loss_list.append(reg_loss.item())\n",
    "\n",
    "      model.eval()\n",
    "      with torch.no_grad():\n",
    "          _, out = model(train_edge_index)\n",
    "          final_user_Embed, final_item_Embed = torch.split(out, (n_users, n_items))\n",
    "          test_topK_recall,  test_topK_precision = get_metrics(\n",
    "            final_user_Embed, final_item_Embed, n_users, n_items, train_df, test_df, K\n",
    "          )\n",
    "          users_embedings = final_user_Embed\n",
    "\n",
    "      loss_list_epoch.append(round(np.mean(final_loss_list),4))\n",
    "      bpr_loss_list_epoch.append(round(np.mean(bpr_loss_list),4))\n",
    "      reg_loss_list_epoch.append(round(np.mean(reg_loss_list),4))\n",
    "\n",
    "      recall_list.append(round(test_topK_recall,4))\n",
    "      precision_list.append(round(test_topK_precision,4))\n",
    "      mp = get_precision(user_df,final_user_Embed,final_item_Embed)\n",
    "      my_precision.append(mp)\n",
    "\n",
    "  return (\n",
    "    loss_list_epoch, \n",
    "    bpr_loss_list_epoch, \n",
    "    reg_loss_list_epoch, \n",
    "    recall_list, \n",
    "    precision_list,final_user_Embed,final_item_Embed,my_precision\n",
    "  )"
   ]
  },
  {
   "cell_type": "code",
   "execution_count": 58,
   "metadata": {},
   "outputs": [
    {
     "name": "stdout",
     "output_type": "stream",
     "text": [
      "Size of Learnable Embedding :  [torch.Size([35609, 64])]\n"
     ]
    }
   ],
   "source": [
    "lightgcn = RecSysGNN(\n",
    "  latent_dim=latent_dim, \n",
    "  num_layers=n_layers,\n",
    "  num_users=n_users,\n",
    "  num_items=n_items,\n",
    "  model='LightGCN'\n",
    ")\n",
    "lightgcn.to(device)\n",
    "\n",
    "optimizer = torch.optim.Adam(lightgcn.parameters(), lr=LR)\n",
    "print(\"Size of Learnable Embedding : \", [x.shape for x in list(lightgcn.parameters())])"
   ]
  },
  {
   "cell_type": "code",
   "execution_count": 59,
   "metadata": {},
   "outputs": [
    {
     "data": {
      "application/vnd.jupyter.widget-view+json": {
       "model_id": "c74785dd227d4e3792706d2485a6f3a2",
       "version_major": 2,
       "version_minor": 0
      },
      "text/plain": [
       "  0%|          | 0/50 [00:00<?, ?it/s]"
      ]
     },
     "metadata": {},
     "output_type": "display_data"
    }
   ],
   "source": [
    "light_loss, light_bpr, light_reg, light_recall, light_precision,us_em,it_em,my_precision = train_and_eval(lightgcn, optimizer, train_df)"
   ]
  },
  {
   "cell_type": "code",
   "execution_count": 60,
   "metadata": {},
   "outputs": [],
   "source": [
    "epoch_list = [(i+1) for i in range(EPOCHS)]"
   ]
  },
  {
   "cell_type": "code",
   "execution_count": 61,
   "metadata": {},
   "outputs": [
    {
     "data": {
      "text/plain": [
       "<matplotlib.legend.Legend at 0x1c2ac4410f0>"
      ]
     },
     "execution_count": 61,
     "metadata": {},
     "output_type": "execute_result"
    },
    {
     "data": {
      "image/png": "[encoded data removed]",
      "text/plain": [
       "<Figure size 640x480 with 1 Axes>"
      ]
     },
     "metadata": {},
     "output_type": "display_data"
    }
   ],
   "source": [
    "plt.plot(epoch_list, light_loss, label='Total Training Loss')\n",
    "plt.plot(epoch_list, light_bpr, label='BPR Training Loss')\n",
    "plt.plot(epoch_list, light_reg, label='Reg Training Loss')\n",
    "\n",
    "plt.xlabel('Epoch')\n",
    "plt.ylabel('Loss')\n",
    "plt.legend()"
   ]
  },
  {
   "cell_type": "code",
   "execution_count": 63,
   "metadata": {},
   "outputs": [
    {
     "data": {
      "text/plain": [
       "<matplotlib.legend.Legend at 0x1c2ac36f580>"
      ]
     },
     "execution_count": 63,
     "metadata": {},
     "output_type": "execute_result"
    },
    {
     "data": {
      "image/png": "[encoded data removed]",
      "text/plain": [
       "<Figure size 640x480 with 1 Axes>"
      ]
     },
     "metadata": {},
     "output_type": "display_data"
    }
   ],
   "source": [
    "plt.plot(epoch_list, light_recall, label='Recall')\n",
    "plt.plot(epoch_list, my_precision, label='Precision')\n",
    "plt.xlabel('Epoch')\n",
    "plt.ylabel('Metrics')\n",
    "plt.legend()"
   ]
  },
  {
   "cell_type": "code",
   "execution_count": 64,
   "metadata": {},
   "outputs": [
    {
     "name": "stdout",
     "output_type": "stream",
     "text": [
      "[0.4192697770260326, 0.4540794356779449, 0.47739177375529734, 0.49135935154064153, 0.49755846852247076, 0.5002032210898968, 0.5003378480245062, 0.5010495065740367, 0.4999899303726964, 0.49815186126510164, 0.49834953989950204, 0.49875023863339096, 0.49413667782513976, 0.49351456554824585, 0.4914594132911865, 0.4871516053039388, 0.48501035071187276, 0.4820925043173525, 0.47764133159785893, 0.4787671557153491, 0.47223229129321, 0.4729741781163746, 0.46621636311902054, 0.46234516192631553, 0.461936725180993, 0.45499283264555485, 0.4479011234681859, 0.4451914068118246, 0.44476392668248055, 0.44110655281718364, 0.43550866537592503, 0.4356499407298481, 0.4252051954689679, 0.42544343172619176, 0.4186806331363462, 0.41430485462833994, 0.41466141447025084, 0.4076384382897007, 0.40434350830218496, 0.40138249172745666, 0.400208674216325, 0.39834921794927286, 0.39134612114249934, 0.3877949178168303, 0.39209293616459495, 0.38432657928319364, 0.3789745093873484, 0.37891366079355066, 0.37126785706775683, 0.37174846494590796]\n"
     ]
    }
   ],
   "source": [
    "print(my_precision)"
   ]
  }
 ],
 "metadata": {
  "kernelspec": {
   "display_name": "venv",
   "language": "python",
   "name": "python3"
  },
  "language_info": {
   "codemirror_mode": {
    "name": "ipython",
    "version": 3
   },
   "file_extension": ".py",
   "mimetype": "text/x-python",
   "name": "python",
   "nbconvert_exporter": "python",
   "pygments_lexer": "ipython3",
   "version": "3.10.11"
  }
 },
 "nbformat": 4,
 "nbformat_minor": 2
}
