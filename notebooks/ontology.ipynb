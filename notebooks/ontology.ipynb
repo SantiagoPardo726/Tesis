{
 "cells": [
  {
   "cell_type": "code",
   "execution_count": 3,
   "metadata": {},
   "outputs": [],
   "source": [
    "from rdflib import Graph, Literal, RDF, URIRef, Namespace\n",
    "import pandas as pd\n",
    "from unidecode import unidecode\n",
    "from rdflib.plugins.sparql import prepareQuery\n",
    "from rdflib.namespace import RDF, RDFS, OWL, XSD"
   ]
  },
  {
   "cell_type": "code",
   "execution_count": 4,
   "metadata": {},
   "outputs": [
    {
     "name": "stdout",
     "output_type": "stream",
     "text": [
      "brick https://brickschema.org/schema/Brick#\n",
      "csvw http://www.w3.org/ns/csvw#\n",
      "dc http://purl.org/dc/elements/1.1/\n",
      "dcat http://www.w3.org/ns/dcat#\n",
      "dcmitype http://purl.org/dc/dcmitype/\n",
      "dcterms http://purl.org/dc/terms/\n",
      "dcam http://purl.org/dc/dcam/\n",
      "doap http://usefulinc.com/ns/doap#\n",
      "foaf http://xmlns.com/foaf/0.1/\n",
      "geo http://www.opengis.net/ont/geosparql#\n",
      "odrl http://www.w3.org/ns/odrl/2/\n",
      "org http://www.w3.org/ns/org#\n",
      "prof http://www.w3.org/ns/dx/prof/\n",
      "prov http://www.w3.org/ns/prov#\n",
      "qb http://purl.org/linked-data/cube#\n",
      "schema https://schema.org/\n",
      "sh http://www.w3.org/ns/shacl#\n",
      "skos http://www.w3.org/2004/02/skos/core#\n",
      "sosa http://www.w3.org/ns/sosa/\n",
      "ssn http://www.w3.org/ns/ssn/\n",
      "time http://www.w3.org/2006/time#\n",
      "vann http://purl.org/vocab/vann/\n",
      "void http://rdfs.org/ns/void#\n",
      "wgs https://www.w3.org/2003/01/geo/wgs84_pos#\n",
      "owl http://www.w3.org/2002/07/owl#\n",
      "rdf http://www.w3.org/1999/02/22-rdf-syntax-ns#\n",
      "rdfs http://www.w3.org/2000/01/rdf-schema#\n",
      "xsd http://www.w3.org/2001/XMLSchema#\n",
      "xml http://www.w3.org/XML/1998/namespace\n",
      "uex http://www.uniandes.web.semantica.example.org/\n",
      "uexvocab http://www.uniandes.web.semantica.ejemplo.org/voca#\n"
     ]
    }
   ],
   "source": [
    "g = Graph()\n",
    "g.bind(\"rdf\", RDF)\n",
    "g.bind(\"rdfs\", RDFS)\n",
    "g.bind(\"owl\", OWL)\n",
    "g.bind(\"xsd\", XSD)\n",
    "\n",
    "UEX = Namespace(\"http://www.uniandes.web.semantica.example.org/\")\n",
    "g.bind(\"uex\", UEX)\n",
    "\n",
    "UEXVOCAV = Namespace(\"http://www.uniandes.web.semantica.ejemplo.org/voca#\")\n",
    "g.bind(\"uexvocab\", UEXVOCAV) \n",
    "\n",
    "for ns_prefix, namespace in g.namespaces():\n",
    "    print(ns_prefix,namespace)"
   ]
  },
  {
   "cell_type": "code",
   "execution_count": 5,
   "metadata": {},
   "outputs": [
    {
     "data": {
      "text/plain": [
       "<Graph identifier=Nb167e3d3fe944894a163e15836e0eb58 (<class 'rdflib.graph.Graph'>)>"
      ]
     },
     "execution_count": 5,
     "metadata": {},
     "output_type": "execute_result"
    }
   ],
   "source": [
    "g.add((UEXVOCAV.Concept, RDF.type, OWL.Class))\n",
    "\n",
    "g.add((UEXVOCAV.Course, RDF.type, OWL.Class))\n",
    "\n",
    "g.add((UEXVOCAV.Paper, RDF.type, OWL.Class))\n",
    "\n",
    "g.add((UEXVOCAV.School, RDF.type, OWL.Class))\n",
    "\n",
    "g.add((UEXVOCAV.Teacher, RDF.type, OWL.Class))\n",
    "\n",
    "g.add((UEXVOCAV.User, RDF.type, OWL.Class))\n",
    "\n",
    "g.add((UEXVOCAV.Video, RDF.type, OWL.Class))"
   ]
  },
  {
   "cell_type": "markdown",
   "metadata": {},
   "source": [
    "### Load Datasets\n"
   ]
  },
  {
   "cell_type": "code",
   "execution_count": 6,
   "metadata": {},
   "outputs": [],
   "source": [
    "concept_df = pd.read_json(\"../data/MOOCCube/entities/concept.json\",lines=True)\n",
    "course_df = pd.read_json(\"../data/MOOCCube/entities/course.json\",lines=True)\n",
    "paper_df = pd.read_json(\"../data/MOOCCube/entities/paper.json\",lines=True)\n",
    "school_df = pd.read_json(\"../data/MOOCCube/entities/school.json\",lines=True)\n",
    "teacher_df = pd.read_json(\"../data/MOOCCube/entities/teacher.json\",lines=True)\n",
    "user_df = pd.read_json(\"../data/MOOCCube/entities/user.json\",lines=True)\n",
    "video_df = pd.read_json(\"../data/MOOCCube/entities/video.json\",lines=True)"
   ]
  },
  {
   "cell_type": "markdown",
   "metadata": {},
   "source": [
    "## Definición de Propiedades"
   ]
  },
  {
   "cell_type": "markdown",
   "metadata": {},
   "source": [
    "### Concept"
   ]
  },
  {
   "cell_type": "code",
   "execution_count": 7,
   "metadata": {},
   "outputs": [
    {
     "data": {
      "text/plain": [
       "<Graph identifier=Nb167e3d3fe944894a163e15836e0eb58 (<class 'rdflib.graph.Graph'>)>"
      ]
     },
     "execution_count": 7,
     "metadata": {},
     "output_type": "execute_result"
    }
   ],
   "source": [
    "g.add((UEXVOCAV.conceptId, RDF.type, OWL.DatatypeProperty))\n",
    "g.add((UEXVOCAV.conceptId, RDFS.domain, UEXVOCAV.Concept ))\n",
    "g.add((UEXVOCAV.conceptId, RDFS.range, XSD.string ))\n",
    "\n",
    "g.add((UEXVOCAV.conceptName, RDF.type, OWL.DatatypeProperty))\n",
    "g.add((UEXVOCAV.conceptName, RDFS.domain, UEXVOCAV.Concept ))\n",
    "g.add((UEXVOCAV.conceptName, RDFS.range, XSD.string ))\n",
    "\n",
    "g.add((UEXVOCAV.conceptEn, RDF.type, OWL.DatatypeProperty))\n",
    "g.add((UEXVOCAV.conceptEn, RDFS.domain, UEXVOCAV.Concept ))\n",
    "g.add((UEXVOCAV.conceptEn, RDFS.range, XSD.string ))\n",
    "\n",
    "g.add((UEXVOCAV.conceptExplanation, RDF.type, OWL.DatatypeProperty))\n",
    "g.add((UEXVOCAV.conceptExplanation, RDFS.domain, UEXVOCAV.Concept ))\n",
    "g.add((UEXVOCAV.conceptExplanation, RDFS.range, XSD.string ))"
   ]
  },
  {
   "cell_type": "markdown",
   "metadata": {},
   "source": [
    "### Course"
   ]
  },
  {
   "cell_type": "code",
   "execution_count": null,
   "metadata": {},
   "outputs": [],
   "source": [
    "g.add((UEXVOCAV.courseId, RDF.type, OWL.DatatypeProperty))\n",
    "g.add((UEXVOCAV.courseId, RDFS.domain, UEXVOCAV.Course ))\n",
    "g.add((UEXVOCAV.courseId, RDFS.range, XSD.string ))\n",
    "\n",
    "g.add((UEXVOCAV.courseName, RDF.type, OWL.DatatypeProperty))\n",
    "g.add((UEXVOCAV.courseName, RDFS.domain, UEXVOCAV.Course ))\n",
    "g.add((UEXVOCAV.courseName, RDFS.range, XSD.string ))\n",
    "\n",
    "g.add((UEXVOCAV.courseAbout, RDF.type, OWL.DatatypeProperty))\n",
    "g.add((UEXVOCAV.courseAbout, RDFS.domain, UEXVOCAV.Course ))\n",
    "g.add((UEXVOCAV.courseAbout, RDFS.range, XSD.string ))"
   ]
  },
  {
   "cell_type": "markdown",
   "metadata": {},
   "source": [
    "### Paper"
   ]
  },
  {
   "cell_type": "code",
   "execution_count": null,
   "metadata": {},
   "outputs": [],
   "source": [
    "g.add((UEXVOCAV.paperId, RDF.type, OWL.DatatypeProperty))\n",
    "g.add((UEXVOCAV.paperId, RDFS.domain, UEXVOCAV.Paper ))\n",
    "g.add((UEXVOCAV.paperId, RDFS.range, XSD.string ))"
   ]
  }
 ],
 "metadata": {
  "kernelspec": {
   "display_name": "venv",
   "language": "python",
   "name": "python3"
  },
  "language_info": {
   "codemirror_mode": {
    "name": "ipython",
    "version": 3
   },
   "file_extension": ".py",
   "mimetype": "text/x-python",
   "name": "python",
   "nbconvert_exporter": "python",
   "pygments_lexer": "ipython3",
   "version": "3.9.12"
  },
  "orig_nbformat": 4
 },
 "nbformat": 4,
 "nbformat_minor": 2
}
